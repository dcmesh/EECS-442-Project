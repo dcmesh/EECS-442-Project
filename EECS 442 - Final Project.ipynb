{
 "cells": [
  {
   "cell_type": "markdown",
   "metadata": {},
   "source": [
    "The first library we can try is CSV:"
   ]
  },
  {
   "cell_type": "code",
   "execution_count": 1,
   "metadata": {},
   "outputs": [],
   "source": [
    "import csv"
   ]
  },
  {
   "cell_type": "code",
   "execution_count": 2,
   "metadata": {},
   "outputs": [
    {
     "name": "stdout",
     "output_type": "stream",
     "text": [
      "Column names are Respondent, Hobby, OpenSource, Country, Student, Employment, FormalEducation, UndergradMajor, CompanySize, DevType, YearsCoding, YearsCodingProf, JobSatisfaction, CareerSatisfaction, HopeFiveYears, JobSearchStatus, LastNewJob, AssessJob1, AssessJob2, AssessJob3, AssessJob4, AssessJob5, AssessJob6, AssessJob7, AssessJob8, AssessJob9, AssessJob10, AssessBenefits1, AssessBenefits2, AssessBenefits3, AssessBenefits4, AssessBenefits5, AssessBenefits6, AssessBenefits7, AssessBenefits8, AssessBenefits9, AssessBenefits10, AssessBenefits11, JobContactPriorities1, JobContactPriorities2, JobContactPriorities3, JobContactPriorities4, JobContactPriorities5, JobEmailPriorities1, JobEmailPriorities2, JobEmailPriorities3, JobEmailPriorities4, JobEmailPriorities5, JobEmailPriorities6, JobEmailPriorities7, UpdateCV, Currency, Salary, SalaryType, ConvertedSalary, CurrencySymbol, CommunicationTools, TimeFullyProductive, EducationTypes, SelfTaughtTypes, TimeAfterBootcamp, HackathonReasons, AgreeDisagree1, AgreeDisagree2, AgreeDisagree3, LanguageWorkedWith, LanguageDesireNextYear, DatabaseWorkedWith, DatabaseDesireNextYear, PlatformWorkedWith, PlatformDesireNextYear, FrameworkWorkedWith, FrameworkDesireNextYear, IDE, OperatingSystem, NumberMonitors, Methodology, VersionControl, CheckInCode, AdBlocker, AdBlockerDisable, AdBlockerReasons, AdsAgreeDisagree1, AdsAgreeDisagree2, AdsAgreeDisagree3, AdsActions, AdsPriorities1, AdsPriorities2, AdsPriorities3, AdsPriorities4, AdsPriorities5, AdsPriorities6, AdsPriorities7, AIDangerous, AIInteresting, AIResponsible, AIFuture, EthicsChoice, EthicsReport, EthicsResponsible, EthicalImplications, StackOverflowRecommend, StackOverflowVisit, StackOverflowHasAccount, StackOverflowParticipate, StackOverflowJobs, StackOverflowDevStory, StackOverflowJobsRecommend, StackOverflowConsiderMember, HypotheticalTools1, HypotheticalTools2, HypotheticalTools3, HypotheticalTools4, HypotheticalTools5, WakeTime, HoursComputer, HoursOutside, SkipMeals, ErgonomicDevices, Exercise, Gender, SexualOrientation, EducationParents, RaceEthnicity, Age, Dependents, MilitaryUS, SurveyTooLong, SurveyEasy\n",
      "Processed 98856 lines.\n"
     ]
    }
   ],
   "source": [
    "with open('survey_results_public.csv', newline='', encoding=\"utf8\") as csv_file:\n",
    "    csv_reader = csv.reader(csv_file, delimiter=',')\n",
    "    line_count = 0\n",
    "    for row in csv_reader:\n",
    "        if line_count == 0:\n",
    "            print(f'Column names are {\", \".join(row)}')\n",
    "            line_count+= 1\n",
    "        else:\n",
    "            line_count += 1\n",
    "    print(f'Processed {line_count} lines.')"
   ]
  },
  {
   "cell_type": "markdown",
   "metadata": {},
   "source": [
    "It's pretty useful but doesn't provide easy manipulation of columns. Next, let us take a look at pandas dataframes:"
   ]
  },
  {
   "cell_type": "code",
   "execution_count": 3,
   "metadata": {},
   "outputs": [],
   "source": [
    "import pandas as pd"
   ]
  },
  {
   "cell_type": "markdown",
   "metadata": {},
   "source": [
    "Save the csv into a variable dataframe:"
   ]
  },
  {
   "cell_type": "code",
   "execution_count": 4,
   "metadata": {},
   "outputs": [],
   "source": [
    "df=pd.read_csv(\"survey_results_public.csv\", encoding =\"utf8\", low_memory=False)"
   ]
  },
  {
   "cell_type": "markdown",
   "metadata": {},
   "source": [
    "Now we can query the dataframe by column numbers"
   ]
  },
  {
   "cell_type": "code",
   "execution_count": 5,
   "metadata": {},
   "outputs": [
    {
     "data": {
      "text/plain": [
       "0        Yes\n",
       "1        Yes\n",
       "2        Yes\n",
       "3         No\n",
       "4        Yes\n",
       "        ... \n",
       "98850    Yes\n",
       "98851     No\n",
       "98852    Yes\n",
       "98853    Yes\n",
       "98854    Yes\n",
       "Name: Hobby, Length: 98855, dtype: object"
      ]
     },
     "execution_count": 5,
     "metadata": {},
     "output_type": "execute_result"
    }
   ],
   "source": [
    "df[df.columns[1]]"
   ]
  },
  {
   "cell_type": "markdown",
   "metadata": {},
   "source": [
    "Or we can utilize names:"
   ]
  },
  {
   "cell_type": "code",
   "execution_count": 6,
   "metadata": {},
   "outputs": [
    {
     "data": {
      "text/plain": [
       "0                    No\n",
       "1                    No\n",
       "2                    No\n",
       "3                    No\n",
       "4        Yes, part-time\n",
       "              ...      \n",
       "98850               NaN\n",
       "98851    Yes, full-time\n",
       "98852    Yes, full-time\n",
       "98853                No\n",
       "98854               NaN\n",
       "Name: Student, Length: 98855, dtype: object"
      ]
     },
     "execution_count": 6,
     "metadata": {},
     "output_type": "execute_result"
    }
   ],
   "source": [
    "df[\"Student\"]"
   ]
  },
  {
   "cell_type": "markdown",
   "metadata": {},
   "source": [
    "Now, the data we need is: Parent's Education, Education, Reporting Responsibility, Employment, Reporting Code, and Salary."
   ]
  },
  {
   "cell_type": "code",
   "execution_count": 7,
   "metadata": {},
   "outputs": [],
   "source": [
    "new_df = df[['Respondent', 'FormalEducation', 'EthicalImplications', 'Employment', 'EthicsReport', 'ConvertedSalary']].copy()"
   ]
  },
  {
   "cell_type": "markdown",
   "metadata": {},
   "source": [
    "And we can verify that our dataframe is correct (columns are split into mutiple lines of entries):"
   ]
  },
  {
   "cell_type": "code",
   "execution_count": 8,
   "metadata": {},
   "outputs": [
    {
     "data": {
      "text/html": [
       "<div>\n",
       "<style scoped>\n",
       "    .dataframe tbody tr th:only-of-type {\n",
       "        vertical-align: middle;\n",
       "    }\n",
       "\n",
       "    .dataframe tbody tr th {\n",
       "        vertical-align: top;\n",
       "    }\n",
       "\n",
       "    .dataframe thead th {\n",
       "        text-align: right;\n",
       "    }\n",
       "</style>\n",
       "<table border=\"1\" class=\"dataframe\">\n",
       "  <thead>\n",
       "    <tr style=\"text-align: right;\">\n",
       "      <th></th>\n",
       "      <th>Respondent</th>\n",
       "      <th>FormalEducation</th>\n",
       "      <th>EthicalImplications</th>\n",
       "      <th>Employment</th>\n",
       "      <th>EthicsReport</th>\n",
       "      <th>ConvertedSalary</th>\n",
       "    </tr>\n",
       "  </thead>\n",
       "  <tbody>\n",
       "    <tr>\n",
       "      <th>0</th>\n",
       "      <td>1</td>\n",
       "      <td>Bachelor’s degree (BA, BS, B.Eng., etc.)</td>\n",
       "      <td>Yes</td>\n",
       "      <td>Employed part-time</td>\n",
       "      <td>Yes, and publicly</td>\n",
       "      <td>NaN</td>\n",
       "    </tr>\n",
       "    <tr>\n",
       "      <th>1</th>\n",
       "      <td>3</td>\n",
       "      <td>Bachelor’s degree (BA, BS, B.Eng., etc.)</td>\n",
       "      <td>Yes</td>\n",
       "      <td>Employed full-time</td>\n",
       "      <td>Depends on what it is</td>\n",
       "      <td>70841.0</td>\n",
       "    </tr>\n",
       "    <tr>\n",
       "      <th>2</th>\n",
       "      <td>4</td>\n",
       "      <td>Associate degree</td>\n",
       "      <td>NaN</td>\n",
       "      <td>Employed full-time</td>\n",
       "      <td>NaN</td>\n",
       "      <td>NaN</td>\n",
       "    </tr>\n",
       "    <tr>\n",
       "      <th>3</th>\n",
       "      <td>5</td>\n",
       "      <td>Bachelor’s degree (BA, BS, B.Eng., etc.)</td>\n",
       "      <td>Yes</td>\n",
       "      <td>Employed full-time</td>\n",
       "      <td>Yes, but only within the company</td>\n",
       "      <td>NaN</td>\n",
       "    </tr>\n",
       "    <tr>\n",
       "      <th>4</th>\n",
       "      <td>7</td>\n",
       "      <td>Some college/university study without earning ...</td>\n",
       "      <td>Yes</td>\n",
       "      <td>Employed full-time</td>\n",
       "      <td>Yes, but only within the company</td>\n",
       "      <td>21426.0</td>\n",
       "    </tr>\n",
       "    <tr>\n",
       "      <th>...</th>\n",
       "      <td>...</td>\n",
       "      <td>...</td>\n",
       "      <td>...</td>\n",
       "      <td>...</td>\n",
       "      <td>...</td>\n",
       "      <td>...</td>\n",
       "    </tr>\n",
       "    <tr>\n",
       "      <th>98850</th>\n",
       "      <td>101513</td>\n",
       "      <td>NaN</td>\n",
       "      <td>NaN</td>\n",
       "      <td>NaN</td>\n",
       "      <td>NaN</td>\n",
       "      <td>NaN</td>\n",
       "    </tr>\n",
       "    <tr>\n",
       "      <th>98851</th>\n",
       "      <td>101531</td>\n",
       "      <td>NaN</td>\n",
       "      <td>NaN</td>\n",
       "      <td>Not employed, but looking for work</td>\n",
       "      <td>NaN</td>\n",
       "      <td>NaN</td>\n",
       "    </tr>\n",
       "    <tr>\n",
       "      <th>98852</th>\n",
       "      <td>101541</td>\n",
       "      <td>Bachelor’s degree (BA, BS, B.Eng., etc.)</td>\n",
       "      <td>NaN</td>\n",
       "      <td>Employed full-time</td>\n",
       "      <td>NaN</td>\n",
       "      <td>NaN</td>\n",
       "    </tr>\n",
       "    <tr>\n",
       "      <th>98853</th>\n",
       "      <td>101544</td>\n",
       "      <td>Some college/university study without earning ...</td>\n",
       "      <td>NaN</td>\n",
       "      <td>Independent contractor, freelancer, or self-em...</td>\n",
       "      <td>NaN</td>\n",
       "      <td>NaN</td>\n",
       "    </tr>\n",
       "    <tr>\n",
       "      <th>98854</th>\n",
       "      <td>101548</td>\n",
       "      <td>NaN</td>\n",
       "      <td>NaN</td>\n",
       "      <td>NaN</td>\n",
       "      <td>NaN</td>\n",
       "      <td>NaN</td>\n",
       "    </tr>\n",
       "  </tbody>\n",
       "</table>\n",
       "<p>98855 rows × 6 columns</p>\n",
       "</div>"
      ],
      "text/plain": [
       "       Respondent                                    FormalEducation  \\\n",
       "0               1           Bachelor’s degree (BA, BS, B.Eng., etc.)   \n",
       "1               3           Bachelor’s degree (BA, BS, B.Eng., etc.)   \n",
       "2               4                                   Associate degree   \n",
       "3               5           Bachelor’s degree (BA, BS, B.Eng., etc.)   \n",
       "4               7  Some college/university study without earning ...   \n",
       "...           ...                                                ...   \n",
       "98850      101513                                                NaN   \n",
       "98851      101531                                                NaN   \n",
       "98852      101541           Bachelor’s degree (BA, BS, B.Eng., etc.)   \n",
       "98853      101544  Some college/university study without earning ...   \n",
       "98854      101548                                                NaN   \n",
       "\n",
       "      EthicalImplications                                         Employment  \\\n",
       "0                     Yes                                 Employed part-time   \n",
       "1                     Yes                                 Employed full-time   \n",
       "2                     NaN                                 Employed full-time   \n",
       "3                     Yes                                 Employed full-time   \n",
       "4                     Yes                                 Employed full-time   \n",
       "...                   ...                                                ...   \n",
       "98850                 NaN                                                NaN   \n",
       "98851                 NaN                 Not employed, but looking for work   \n",
       "98852                 NaN                                 Employed full-time   \n",
       "98853                 NaN  Independent contractor, freelancer, or self-em...   \n",
       "98854                 NaN                                                NaN   \n",
       "\n",
       "                           EthicsReport  ConvertedSalary  \n",
       "0                     Yes, and publicly              NaN  \n",
       "1                 Depends on what it is          70841.0  \n",
       "2                                   NaN              NaN  \n",
       "3      Yes, but only within the company              NaN  \n",
       "4      Yes, but only within the company          21426.0  \n",
       "...                                 ...              ...  \n",
       "98850                               NaN              NaN  \n",
       "98851                               NaN              NaN  \n",
       "98852                               NaN              NaN  \n",
       "98853                               NaN              NaN  \n",
       "98854                               NaN              NaN  \n",
       "\n",
       "[98855 rows x 6 columns]"
      ]
     },
     "execution_count": 8,
     "metadata": {},
     "output_type": "execute_result"
    }
   ],
   "source": [
    "new_df"
   ]
  },
  {
   "cell_type": "markdown",
   "metadata": {},
   "source": [
    "Given this new table, we can now output to another csv which is purely for the columns we're interested in."
   ]
  },
  {
   "cell_type": "code",
   "execution_count": 9,
   "metadata": {},
   "outputs": [],
   "source": [
    "new_df.to_csv('survey_results_public_important.csv', index=False, encoding='utf-8')"
   ]
  },
  {
   "cell_type": "markdown",
   "metadata": {},
   "source": [
    "# Now we need to clean up the data. Only use entries that have ALL the fields entered"
   ]
  },
  {
   "cell_type": "code",
   "execution_count": 10,
   "metadata": {},
   "outputs": [],
   "source": [
    "cleaned_survey_results = new_df.copy().dropna()"
   ]
  },
  {
   "cell_type": "code",
   "execution_count": 11,
   "metadata": {},
   "outputs": [
    {
     "data": {
      "text/html": [
       "<div>\n",
       "<style scoped>\n",
       "    .dataframe tbody tr th:only-of-type {\n",
       "        vertical-align: middle;\n",
       "    }\n",
       "\n",
       "    .dataframe tbody tr th {\n",
       "        vertical-align: top;\n",
       "    }\n",
       "\n",
       "    .dataframe thead th {\n",
       "        text-align: right;\n",
       "    }\n",
       "</style>\n",
       "<table border=\"1\" class=\"dataframe\">\n",
       "  <thead>\n",
       "    <tr style=\"text-align: right;\">\n",
       "      <th></th>\n",
       "      <th>Respondent</th>\n",
       "      <th>FormalEducation</th>\n",
       "      <th>EthicalImplications</th>\n",
       "      <th>Employment</th>\n",
       "      <th>EthicsReport</th>\n",
       "      <th>ConvertedSalary</th>\n",
       "    </tr>\n",
       "  </thead>\n",
       "  <tbody>\n",
       "    <tr>\n",
       "      <th>1</th>\n",
       "      <td>3</td>\n",
       "      <td>Bachelor’s degree (BA, BS, B.Eng., etc.)</td>\n",
       "      <td>Yes</td>\n",
       "      <td>Employed full-time</td>\n",
       "      <td>Depends on what it is</td>\n",
       "      <td>70841.0</td>\n",
       "    </tr>\n",
       "    <tr>\n",
       "      <th>4</th>\n",
       "      <td>7</td>\n",
       "      <td>Some college/university study without earning ...</td>\n",
       "      <td>Yes</td>\n",
       "      <td>Employed full-time</td>\n",
       "      <td>Yes, but only within the company</td>\n",
       "      <td>21426.0</td>\n",
       "    </tr>\n",
       "    <tr>\n",
       "      <th>5</th>\n",
       "      <td>8</td>\n",
       "      <td>Bachelor’s degree (BA, BS, B.Eng., etc.)</td>\n",
       "      <td>Unsure / I don't know</td>\n",
       "      <td>Employed full-time</td>\n",
       "      <td>Depends on what it is</td>\n",
       "      <td>41671.0</td>\n",
       "    </tr>\n",
       "    <tr>\n",
       "      <th>6</th>\n",
       "      <td>9</td>\n",
       "      <td>Some college/university study without earning ...</td>\n",
       "      <td>Yes</td>\n",
       "      <td>Employed full-time</td>\n",
       "      <td>Yes, but only within the company</td>\n",
       "      <td>120000.0</td>\n",
       "    </tr>\n",
       "    <tr>\n",
       "      <th>8</th>\n",
       "      <td>11</td>\n",
       "      <td>Some college/university study without earning ...</td>\n",
       "      <td>Yes</td>\n",
       "      <td>Employed full-time</td>\n",
       "      <td>Yes, and publicly</td>\n",
       "      <td>250000.0</td>\n",
       "    </tr>\n",
       "    <tr>\n",
       "      <th>...</th>\n",
       "      <td>...</td>\n",
       "      <td>...</td>\n",
       "      <td>...</td>\n",
       "      <td>...</td>\n",
       "      <td>...</td>\n",
       "      <td>...</td>\n",
       "    </tr>\n",
       "    <tr>\n",
       "      <th>89932</th>\n",
       "      <td>99868</td>\n",
       "      <td>Bachelor’s degree (BA, BS, B.Eng., etc.)</td>\n",
       "      <td>Yes</td>\n",
       "      <td>Not employed, but looking for work</td>\n",
       "      <td>Yes, and publicly</td>\n",
       "      <td>97233.0</td>\n",
       "    </tr>\n",
       "    <tr>\n",
       "      <th>89946</th>\n",
       "      <td>100383</td>\n",
       "      <td>Secondary school (e.g. American high school, G...</td>\n",
       "      <td>Unsure / I don't know</td>\n",
       "      <td>Not employed, and not looking for work</td>\n",
       "      <td>Depends on what it is</td>\n",
       "      <td>0.0</td>\n",
       "    </tr>\n",
       "    <tr>\n",
       "      <th>89954</th>\n",
       "      <td>100743</td>\n",
       "      <td>Secondary school (e.g. American high school, G...</td>\n",
       "      <td>Yes</td>\n",
       "      <td>Not employed, and not looking for work</td>\n",
       "      <td>Depends on what it is</td>\n",
       "      <td>10284.0</td>\n",
       "    </tr>\n",
       "    <tr>\n",
       "      <th>89960</th>\n",
       "      <td>100927</td>\n",
       "      <td>Secondary school (e.g. American high school, G...</td>\n",
       "      <td>Unsure / I don't know</td>\n",
       "      <td>Employed full-time</td>\n",
       "      <td>Depends on what it is</td>\n",
       "      <td>0.0</td>\n",
       "    </tr>\n",
       "    <tr>\n",
       "      <th>89965</th>\n",
       "      <td>101115</td>\n",
       "      <td>Bachelor’s degree (BA, BS, B.Eng., etc.)</td>\n",
       "      <td>No</td>\n",
       "      <td>Not employed, but looking for work</td>\n",
       "      <td>Depends on what it is</td>\n",
       "      <td>0.0</td>\n",
       "    </tr>\n",
       "  </tbody>\n",
       "</table>\n",
       "<p>44563 rows × 6 columns</p>\n",
       "</div>"
      ],
      "text/plain": [
       "       Respondent                                    FormalEducation  \\\n",
       "1               3           Bachelor’s degree (BA, BS, B.Eng., etc.)   \n",
       "4               7  Some college/university study without earning ...   \n",
       "5               8           Bachelor’s degree (BA, BS, B.Eng., etc.)   \n",
       "6               9  Some college/university study without earning ...   \n",
       "8              11  Some college/university study without earning ...   \n",
       "...           ...                                                ...   \n",
       "89932       99868           Bachelor’s degree (BA, BS, B.Eng., etc.)   \n",
       "89946      100383  Secondary school (e.g. American high school, G...   \n",
       "89954      100743  Secondary school (e.g. American high school, G...   \n",
       "89960      100927  Secondary school (e.g. American high school, G...   \n",
       "89965      101115           Bachelor’s degree (BA, BS, B.Eng., etc.)   \n",
       "\n",
       "         EthicalImplications                              Employment  \\\n",
       "1                        Yes                      Employed full-time   \n",
       "4                        Yes                      Employed full-time   \n",
       "5      Unsure / I don't know                      Employed full-time   \n",
       "6                        Yes                      Employed full-time   \n",
       "8                        Yes                      Employed full-time   \n",
       "...                      ...                                     ...   \n",
       "89932                    Yes      Not employed, but looking for work   \n",
       "89946  Unsure / I don't know  Not employed, and not looking for work   \n",
       "89954                    Yes  Not employed, and not looking for work   \n",
       "89960  Unsure / I don't know                      Employed full-time   \n",
       "89965                     No      Not employed, but looking for work   \n",
       "\n",
       "                           EthicsReport  ConvertedSalary  \n",
       "1                 Depends on what it is          70841.0  \n",
       "4      Yes, but only within the company          21426.0  \n",
       "5                 Depends on what it is          41671.0  \n",
       "6      Yes, but only within the company         120000.0  \n",
       "8                     Yes, and publicly         250000.0  \n",
       "...                                 ...              ...  \n",
       "89932                 Yes, and publicly          97233.0  \n",
       "89946             Depends on what it is              0.0  \n",
       "89954             Depends on what it is          10284.0  \n",
       "89960             Depends on what it is              0.0  \n",
       "89965             Depends on what it is              0.0  \n",
       "\n",
       "[44563 rows x 6 columns]"
      ]
     },
     "execution_count": 11,
     "metadata": {},
     "output_type": "execute_result"
    }
   ],
   "source": [
    "cleaned_survey_results"
   ]
  },
  {
   "cell_type": "markdown",
   "metadata": {},
   "source": [
    "Well that was easy! I wasn't anticipating it to be such an easy command, but go Pandas!"
   ]
  },
  {
   "cell_type": "markdown",
   "metadata": {},
   "source": [
    "# Now, let's quantify the responses of each column\n",
    "Basically, I'll make a dictionary for each column\n",
    "\n",
    "'EducationParents', 'FormalEducation', 'EthicalImplications', 'Employment', 'EthicsReport', 'ConvertedSalary'"
   ]
  },
  {
   "cell_type": "code",
   "execution_count": 12,
   "metadata": {},
   "outputs": [],
   "source": [
    "quantified_survey_results = cleaned_survey_results.copy()"
   ]
  },
  {
   "cell_type": "markdown",
   "metadata": {},
   "source": [
    "## FormalEducation"
   ]
  },
  {
   "cell_type": "code",
   "execution_count": 15,
   "metadata": {},
   "outputs": [
    {
     "name": "stdout",
     "output_type": "stream",
     "text": [
      "['Bachelor’s degree (BA, BS, B.Eng., etc.)'\n",
      " 'Some college/university study without earning a degree'\n",
      " 'Secondary school (e.g. American high school, German Realschule or Gymnasium, etc.)'\n",
      " 'Master’s degree (MA, MS, M.Eng., MBA, etc.)' 'Associate degree'\n",
      " 'Professional degree (JD, MD, etc.)'\n",
      " 'Other doctoral degree (Ph.D, Ed.D., etc.)' 'Primary/elementary school'\n",
      " 'I never completed any formal education']\n"
     ]
    }
   ],
   "source": [
    "print(cleaned_survey_results['FormalEducation'].unique())"
   ]
  },
  {
   "cell_type": "code",
   "execution_count": 16,
   "metadata": {},
   "outputs": [
    {
     "name": "stdout",
     "output_type": "stream",
     "text": [
      "[5 2 1 6 4 8 7 0 3]\n"
     ]
    }
   ],
   "source": [
    "FormalEducation = {'Professional degree (JD, MD, etc.)': 8,\n",
    "                    'Other doctoral degree (Ph.D, Ed.D., etc.)': 7,\n",
    "                    'Master’s degree (MA, MS, M.Eng., MBA, etc.)': 6,\n",
    "                    'Bachelor’s degree (BA, BS, B.Eng., etc.)': 5,\n",
    "                    'Associate degree': 4,\n",
    "                    'They never completed any formal education': 3,\n",
    "                    'I never completed any formal education': 3,\n",
    "                    'Some college/university study without earning a degree': 2,\n",
    "                    'Secondary school (e.g. American high school, German Realschule or Gymnasium, etc.)': 1,\n",
    "                    'Primary/elementary school': 0}\n",
    "quantified_survey_results['FormalEducation'] = cleaned_survey_results['FormalEducation'].replace(FormalEducation)\n",
    "print(quantified_survey_results['FormalEducation'].unique())"
   ]
  },
  {
   "cell_type": "markdown",
   "metadata": {},
   "source": [
    "## EthicsImplications"
   ]
  },
  {
   "cell_type": "code",
   "execution_count": 17,
   "metadata": {},
   "outputs": [
    {
     "name": "stdout",
     "output_type": "stream",
     "text": [
      "['Yes' \"Unsure / I don't know\" 'No']\n"
     ]
    }
   ],
   "source": [
    "print(cleaned_survey_results['EthicalImplications'].unique())"
   ]
  },
  {
   "cell_type": "code",
   "execution_count": 18,
   "metadata": {},
   "outputs": [
    {
     "name": "stdout",
     "output_type": "stream",
     "text": [
      "['Employed full-time' 'Employed part-time'\n",
      " 'Independent contractor, freelancer, or self-employed'\n",
      " 'Not employed, and not looking for work'\n",
      " 'Not employed, but looking for work' 'Retired']\n"
     ]
    }
   ],
   "source": [
    "# Note: Will the negative number affect our results too much?\n",
    "\n",
    "EthicalImplications = {'Yes': 1, \n",
    "                        \"Unsure / I don't know\": 0,\n",
    "                      \"No\": -1}\n",
    "\n",
    "quantified_survey_results['EthicalImplications'] = cleaned_survey_results['EthicalImplications'].replace(EthicalImplications)\n",
    "print(quantified_survey_results['Employment'].unique())"
   ]
  },
  {
   "cell_type": "markdown",
   "metadata": {},
   "source": [
    "## Employment"
   ]
  },
  {
   "cell_type": "code",
   "execution_count": 19,
   "metadata": {},
   "outputs": [
    {
     "name": "stdout",
     "output_type": "stream",
     "text": [
      "[5 3 4 1 2 0]\n"
     ]
    }
   ],
   "source": [
    "# Note: This was the hardest one to quantify. Also I think we should ommit 'Retired' but I want to see what you all think\n",
    "\n",
    "Employment = {\"Employed full-time\": 5,\n",
    "                \"Independent contractor, freelancer, or self-employed\": 4,\n",
    "              'Employed part-time': 3,\n",
    "              'Not employed, but looking for work': 2,\n",
    "              'Not employed, and not looking for work': 1,\n",
    "              'Retired':0\n",
    "}\n",
    "\n",
    "quantified_survey_results['Employment'] = cleaned_survey_results['Employment'].replace(Employment)\n",
    "print(quantified_survey_results['Employment'].unique())"
   ]
  },
  {
   "cell_type": "markdown",
   "metadata": {},
   "source": [
    "## EthicsReport"
   ]
  },
  {
   "cell_type": "code",
   "execution_count": 20,
   "metadata": {},
   "outputs": [],
   "source": [
    "quantified_survey_results = quantified_survey_results[quantified_survey_results.EthicsReport != 'Depends on what it is']"
   ]
  },
  {
   "cell_type": "code",
   "execution_count": 21,
   "metadata": {},
   "outputs": [
    {
     "data": {
      "text/html": [
       "<div>\n",
       "<style scoped>\n",
       "    .dataframe tbody tr th:only-of-type {\n",
       "        vertical-align: middle;\n",
       "    }\n",
       "\n",
       "    .dataframe tbody tr th {\n",
       "        vertical-align: top;\n",
       "    }\n",
       "\n",
       "    .dataframe thead th {\n",
       "        text-align: right;\n",
       "    }\n",
       "</style>\n",
       "<table border=\"1\" class=\"dataframe\">\n",
       "  <thead>\n",
       "    <tr style=\"text-align: right;\">\n",
       "      <th></th>\n",
       "      <th>Respondent</th>\n",
       "      <th>FormalEducation</th>\n",
       "      <th>EthicalImplications</th>\n",
       "      <th>Employment</th>\n",
       "      <th>EthicsReport</th>\n",
       "      <th>ConvertedSalary</th>\n",
       "    </tr>\n",
       "  </thead>\n",
       "  <tbody>\n",
       "    <tr>\n",
       "      <th>4</th>\n",
       "      <td>7</td>\n",
       "      <td>2</td>\n",
       "      <td>1</td>\n",
       "      <td>5</td>\n",
       "      <td>Yes, but only within the company</td>\n",
       "      <td>21426.0</td>\n",
       "    </tr>\n",
       "    <tr>\n",
       "      <th>6</th>\n",
       "      <td>9</td>\n",
       "      <td>2</td>\n",
       "      <td>1</td>\n",
       "      <td>5</td>\n",
       "      <td>Yes, but only within the company</td>\n",
       "      <td>120000.0</td>\n",
       "    </tr>\n",
       "    <tr>\n",
       "      <th>8</th>\n",
       "      <td>11</td>\n",
       "      <td>2</td>\n",
       "      <td>1</td>\n",
       "      <td>5</td>\n",
       "      <td>Yes, and publicly</td>\n",
       "      <td>250000.0</td>\n",
       "    </tr>\n",
       "    <tr>\n",
       "      <th>14</th>\n",
       "      <td>21</td>\n",
       "      <td>1</td>\n",
       "      <td>1</td>\n",
       "      <td>5</td>\n",
       "      <td>Yes, and publicly</td>\n",
       "      <td>0.0</td>\n",
       "    </tr>\n",
       "    <tr>\n",
       "      <th>17</th>\n",
       "      <td>27</td>\n",
       "      <td>6</td>\n",
       "      <td>1</td>\n",
       "      <td>5</td>\n",
       "      <td>Yes, and publicly</td>\n",
       "      <td>47904.0</td>\n",
       "    </tr>\n",
       "    <tr>\n",
       "      <th>...</th>\n",
       "      <td>...</td>\n",
       "      <td>...</td>\n",
       "      <td>...</td>\n",
       "      <td>...</td>\n",
       "      <td>...</td>\n",
       "      <td>...</td>\n",
       "    </tr>\n",
       "    <tr>\n",
       "      <th>89898</th>\n",
       "      <td>98419</td>\n",
       "      <td>5</td>\n",
       "      <td>0</td>\n",
       "      <td>3</td>\n",
       "      <td>Yes, and publicly</td>\n",
       "      <td>4548.0</td>\n",
       "    </tr>\n",
       "    <tr>\n",
       "      <th>89913</th>\n",
       "      <td>98833</td>\n",
       "      <td>8</td>\n",
       "      <td>1</td>\n",
       "      <td>2</td>\n",
       "      <td>Yes, and publicly</td>\n",
       "      <td>25788.0</td>\n",
       "    </tr>\n",
       "    <tr>\n",
       "      <th>89922</th>\n",
       "      <td>99355</td>\n",
       "      <td>1</td>\n",
       "      <td>1</td>\n",
       "      <td>1</td>\n",
       "      <td>Yes, but only within the company</td>\n",
       "      <td>0.0</td>\n",
       "    </tr>\n",
       "    <tr>\n",
       "      <th>89925</th>\n",
       "      <td>99477</td>\n",
       "      <td>1</td>\n",
       "      <td>0</td>\n",
       "      <td>1</td>\n",
       "      <td>Yes, and publicly</td>\n",
       "      <td>0.0</td>\n",
       "    </tr>\n",
       "    <tr>\n",
       "      <th>89932</th>\n",
       "      <td>99868</td>\n",
       "      <td>5</td>\n",
       "      <td>1</td>\n",
       "      <td>2</td>\n",
       "      <td>Yes, and publicly</td>\n",
       "      <td>97233.0</td>\n",
       "    </tr>\n",
       "  </tbody>\n",
       "</table>\n",
       "<p>24215 rows × 6 columns</p>\n",
       "</div>"
      ],
      "text/plain": [
       "       Respondent  FormalEducation  EthicalImplications  Employment  \\\n",
       "4               7                2                    1           5   \n",
       "6               9                2                    1           5   \n",
       "8              11                2                    1           5   \n",
       "14             21                1                    1           5   \n",
       "17             27                6                    1           5   \n",
       "...           ...              ...                  ...         ...   \n",
       "89898       98419                5                    0           3   \n",
       "89913       98833                8                    1           2   \n",
       "89922       99355                1                    1           1   \n",
       "89925       99477                1                    0           1   \n",
       "89932       99868                5                    1           2   \n",
       "\n",
       "                           EthicsReport  ConvertedSalary  \n",
       "4      Yes, but only within the company          21426.0  \n",
       "6      Yes, but only within the company         120000.0  \n",
       "8                     Yes, and publicly         250000.0  \n",
       "14                    Yes, and publicly              0.0  \n",
       "17                    Yes, and publicly          47904.0  \n",
       "...                                 ...              ...  \n",
       "89898                 Yes, and publicly           4548.0  \n",
       "89913                 Yes, and publicly          25788.0  \n",
       "89922  Yes, but only within the company              0.0  \n",
       "89925                 Yes, and publicly              0.0  \n",
       "89932                 Yes, and publicly          97233.0  \n",
       "\n",
       "[24215 rows x 6 columns]"
      ]
     },
     "execution_count": 21,
     "metadata": {},
     "output_type": "execute_result"
    }
   ],
   "source": [
    "quantified_survey_results"
   ]
  },
  {
   "cell_type": "code",
   "execution_count": 22,
   "metadata": {},
   "outputs": [],
   "source": [
    "Report = {\"Yes, but only within the company\":1, \n",
    "          \"Yes, and publicly\":1, \n",
    "          \"No\":0\n",
    "         }\n",
    "\n",
    "quantified_survey_results['EthicsReport'] = quantified_survey_results['EthicsReport'].replace(Report)"
   ]
  },
  {
   "cell_type": "code",
   "execution_count": 23,
   "metadata": {},
   "outputs": [
    {
     "data": {
      "text/html": [
       "<div>\n",
       "<style scoped>\n",
       "    .dataframe tbody tr th:only-of-type {\n",
       "        vertical-align: middle;\n",
       "    }\n",
       "\n",
       "    .dataframe tbody tr th {\n",
       "        vertical-align: top;\n",
       "    }\n",
       "\n",
       "    .dataframe thead th {\n",
       "        text-align: right;\n",
       "    }\n",
       "</style>\n",
       "<table border=\"1\" class=\"dataframe\">\n",
       "  <thead>\n",
       "    <tr style=\"text-align: right;\">\n",
       "      <th></th>\n",
       "      <th>Respondent</th>\n",
       "      <th>FormalEducation</th>\n",
       "      <th>EthicalImplications</th>\n",
       "      <th>Employment</th>\n",
       "      <th>EthicsReport</th>\n",
       "      <th>ConvertedSalary</th>\n",
       "    </tr>\n",
       "  </thead>\n",
       "  <tbody>\n",
       "    <tr>\n",
       "      <th>4</th>\n",
       "      <td>7</td>\n",
       "      <td>2</td>\n",
       "      <td>1</td>\n",
       "      <td>5</td>\n",
       "      <td>1</td>\n",
       "      <td>21426.0</td>\n",
       "    </tr>\n",
       "    <tr>\n",
       "      <th>6</th>\n",
       "      <td>9</td>\n",
       "      <td>2</td>\n",
       "      <td>1</td>\n",
       "      <td>5</td>\n",
       "      <td>1</td>\n",
       "      <td>120000.0</td>\n",
       "    </tr>\n",
       "    <tr>\n",
       "      <th>8</th>\n",
       "      <td>11</td>\n",
       "      <td>2</td>\n",
       "      <td>1</td>\n",
       "      <td>5</td>\n",
       "      <td>1</td>\n",
       "      <td>250000.0</td>\n",
       "    </tr>\n",
       "    <tr>\n",
       "      <th>14</th>\n",
       "      <td>21</td>\n",
       "      <td>1</td>\n",
       "      <td>1</td>\n",
       "      <td>5</td>\n",
       "      <td>1</td>\n",
       "      <td>0.0</td>\n",
       "    </tr>\n",
       "    <tr>\n",
       "      <th>17</th>\n",
       "      <td>27</td>\n",
       "      <td>6</td>\n",
       "      <td>1</td>\n",
       "      <td>5</td>\n",
       "      <td>1</td>\n",
       "      <td>47904.0</td>\n",
       "    </tr>\n",
       "    <tr>\n",
       "      <th>...</th>\n",
       "      <td>...</td>\n",
       "      <td>...</td>\n",
       "      <td>...</td>\n",
       "      <td>...</td>\n",
       "      <td>...</td>\n",
       "      <td>...</td>\n",
       "    </tr>\n",
       "    <tr>\n",
       "      <th>89898</th>\n",
       "      <td>98419</td>\n",
       "      <td>5</td>\n",
       "      <td>0</td>\n",
       "      <td>3</td>\n",
       "      <td>1</td>\n",
       "      <td>4548.0</td>\n",
       "    </tr>\n",
       "    <tr>\n",
       "      <th>89913</th>\n",
       "      <td>98833</td>\n",
       "      <td>8</td>\n",
       "      <td>1</td>\n",
       "      <td>2</td>\n",
       "      <td>1</td>\n",
       "      <td>25788.0</td>\n",
       "    </tr>\n",
       "    <tr>\n",
       "      <th>89922</th>\n",
       "      <td>99355</td>\n",
       "      <td>1</td>\n",
       "      <td>1</td>\n",
       "      <td>1</td>\n",
       "      <td>1</td>\n",
       "      <td>0.0</td>\n",
       "    </tr>\n",
       "    <tr>\n",
       "      <th>89925</th>\n",
       "      <td>99477</td>\n",
       "      <td>1</td>\n",
       "      <td>0</td>\n",
       "      <td>1</td>\n",
       "      <td>1</td>\n",
       "      <td>0.0</td>\n",
       "    </tr>\n",
       "    <tr>\n",
       "      <th>89932</th>\n",
       "      <td>99868</td>\n",
       "      <td>5</td>\n",
       "      <td>1</td>\n",
       "      <td>2</td>\n",
       "      <td>1</td>\n",
       "      <td>97233.0</td>\n",
       "    </tr>\n",
       "  </tbody>\n",
       "</table>\n",
       "<p>24215 rows × 6 columns</p>\n",
       "</div>"
      ],
      "text/plain": [
       "       Respondent  FormalEducation  EthicalImplications  Employment  \\\n",
       "4               7                2                    1           5   \n",
       "6               9                2                    1           5   \n",
       "8              11                2                    1           5   \n",
       "14             21                1                    1           5   \n",
       "17             27                6                    1           5   \n",
       "...           ...              ...                  ...         ...   \n",
       "89898       98419                5                    0           3   \n",
       "89913       98833                8                    1           2   \n",
       "89922       99355                1                    1           1   \n",
       "89925       99477                1                    0           1   \n",
       "89932       99868                5                    1           2   \n",
       "\n",
       "       EthicsReport  ConvertedSalary  \n",
       "4                 1          21426.0  \n",
       "6                 1         120000.0  \n",
       "8                 1         250000.0  \n",
       "14                1              0.0  \n",
       "17                1          47904.0  \n",
       "...             ...              ...  \n",
       "89898             1           4548.0  \n",
       "89913             1          25788.0  \n",
       "89922             1              0.0  \n",
       "89925             1              0.0  \n",
       "89932             1          97233.0  \n",
       "\n",
       "[24215 rows x 6 columns]"
      ]
     },
     "execution_count": 23,
     "metadata": {},
     "output_type": "execute_result"
    }
   ],
   "source": [
    "quantified_survey_results"
   ]
  },
  {
   "cell_type": "markdown",
   "metadata": {},
   "source": [
    "## ConvertedSalary"
   ]
  },
  {
   "cell_type": "code",
   "execution_count": 24,
   "metadata": {},
   "outputs": [
    {
     "name": "stdout",
     "output_type": "stream",
     "text": [
      "[ 21426. 120000. 250000. ...    400.   1050.   1584.]\n"
     ]
    }
   ],
   "source": [
    "print(quantified_survey_results['ConvertedSalary'].unique())"
   ]
  },
  {
   "cell_type": "code",
   "execution_count": 25,
   "metadata": {},
   "outputs": [],
   "source": [
    "# quantified_survey_results.to_csv('quantified.csv', index=False, encoding='utf-8')"
   ]
  },
  {
   "cell_type": "code",
   "execution_count": 26,
   "metadata": {},
   "outputs": [
    {
     "data": {
      "text/plain": [
       "2000000.0"
      ]
     },
     "execution_count": 26,
     "metadata": {},
     "output_type": "execute_result"
    }
   ],
   "source": [
    "quantified_survey_results['ConvertedSalary'].max()"
   ]
  },
  {
   "cell_type": "code",
   "execution_count": 27,
   "metadata": {},
   "outputs": [
    {
     "data": {
      "text/plain": [
       "0.0"
      ]
     },
     "execution_count": 27,
     "metadata": {},
     "output_type": "execute_result"
    }
   ],
   "source": [
    "quantified_survey_results['ConvertedSalary'].min()"
   ]
  },
  {
   "cell_type": "code",
   "execution_count": 28,
   "metadata": {},
   "outputs": [],
   "source": [
    "salary_bins = [0, 10000,40000,80000,160000,200000,500000,2000000]"
   ]
  },
  {
   "cell_type": "code",
   "execution_count": 29,
   "metadata": {},
   "outputs": [],
   "source": [
    "quantified_survey_results['ConvertedSalary'] = pd.cut(x=quantified_survey_results['ConvertedSalary'], bins = salary_bins, include_lowest=True, labels=[0,1,2,3,4,5,6])"
   ]
  },
  {
   "cell_type": "code",
   "execution_count": 30,
   "metadata": {},
   "outputs": [
    {
     "data": {
      "text/html": [
       "<div>\n",
       "<style scoped>\n",
       "    .dataframe tbody tr th:only-of-type {\n",
       "        vertical-align: middle;\n",
       "    }\n",
       "\n",
       "    .dataframe tbody tr th {\n",
       "        vertical-align: top;\n",
       "    }\n",
       "\n",
       "    .dataframe thead th {\n",
       "        text-align: right;\n",
       "    }\n",
       "</style>\n",
       "<table border=\"1\" class=\"dataframe\">\n",
       "  <thead>\n",
       "    <tr style=\"text-align: right;\">\n",
       "      <th></th>\n",
       "      <th>Respondent</th>\n",
       "      <th>FormalEducation</th>\n",
       "      <th>EthicalImplications</th>\n",
       "      <th>Employment</th>\n",
       "      <th>EthicsReport</th>\n",
       "      <th>ConvertedSalary</th>\n",
       "    </tr>\n",
       "  </thead>\n",
       "  <tbody>\n",
       "    <tr>\n",
       "      <th>4</th>\n",
       "      <td>7</td>\n",
       "      <td>2</td>\n",
       "      <td>1</td>\n",
       "      <td>5</td>\n",
       "      <td>1</td>\n",
       "      <td>1</td>\n",
       "    </tr>\n",
       "    <tr>\n",
       "      <th>6</th>\n",
       "      <td>9</td>\n",
       "      <td>2</td>\n",
       "      <td>1</td>\n",
       "      <td>5</td>\n",
       "      <td>1</td>\n",
       "      <td>3</td>\n",
       "    </tr>\n",
       "    <tr>\n",
       "      <th>8</th>\n",
       "      <td>11</td>\n",
       "      <td>2</td>\n",
       "      <td>1</td>\n",
       "      <td>5</td>\n",
       "      <td>1</td>\n",
       "      <td>5</td>\n",
       "    </tr>\n",
       "    <tr>\n",
       "      <th>14</th>\n",
       "      <td>21</td>\n",
       "      <td>1</td>\n",
       "      <td>1</td>\n",
       "      <td>5</td>\n",
       "      <td>1</td>\n",
       "      <td>0</td>\n",
       "    </tr>\n",
       "    <tr>\n",
       "      <th>17</th>\n",
       "      <td>27</td>\n",
       "      <td>6</td>\n",
       "      <td>1</td>\n",
       "      <td>5</td>\n",
       "      <td>1</td>\n",
       "      <td>2</td>\n",
       "    </tr>\n",
       "    <tr>\n",
       "      <th>...</th>\n",
       "      <td>...</td>\n",
       "      <td>...</td>\n",
       "      <td>...</td>\n",
       "      <td>...</td>\n",
       "      <td>...</td>\n",
       "      <td>...</td>\n",
       "    </tr>\n",
       "    <tr>\n",
       "      <th>89898</th>\n",
       "      <td>98419</td>\n",
       "      <td>5</td>\n",
       "      <td>0</td>\n",
       "      <td>3</td>\n",
       "      <td>1</td>\n",
       "      <td>0</td>\n",
       "    </tr>\n",
       "    <tr>\n",
       "      <th>89913</th>\n",
       "      <td>98833</td>\n",
       "      <td>8</td>\n",
       "      <td>1</td>\n",
       "      <td>2</td>\n",
       "      <td>1</td>\n",
       "      <td>1</td>\n",
       "    </tr>\n",
       "    <tr>\n",
       "      <th>89922</th>\n",
       "      <td>99355</td>\n",
       "      <td>1</td>\n",
       "      <td>1</td>\n",
       "      <td>1</td>\n",
       "      <td>1</td>\n",
       "      <td>0</td>\n",
       "    </tr>\n",
       "    <tr>\n",
       "      <th>89925</th>\n",
       "      <td>99477</td>\n",
       "      <td>1</td>\n",
       "      <td>0</td>\n",
       "      <td>1</td>\n",
       "      <td>1</td>\n",
       "      <td>0</td>\n",
       "    </tr>\n",
       "    <tr>\n",
       "      <th>89932</th>\n",
       "      <td>99868</td>\n",
       "      <td>5</td>\n",
       "      <td>1</td>\n",
       "      <td>2</td>\n",
       "      <td>1</td>\n",
       "      <td>3</td>\n",
       "    </tr>\n",
       "  </tbody>\n",
       "</table>\n",
       "<p>24215 rows × 6 columns</p>\n",
       "</div>"
      ],
      "text/plain": [
       "       Respondent  FormalEducation  EthicalImplications  Employment  \\\n",
       "4               7                2                    1           5   \n",
       "6               9                2                    1           5   \n",
       "8              11                2                    1           5   \n",
       "14             21                1                    1           5   \n",
       "17             27                6                    1           5   \n",
       "...           ...              ...                  ...         ...   \n",
       "89898       98419                5                    0           3   \n",
       "89913       98833                8                    1           2   \n",
       "89922       99355                1                    1           1   \n",
       "89925       99477                1                    0           1   \n",
       "89932       99868                5                    1           2   \n",
       "\n",
       "       EthicsReport ConvertedSalary  \n",
       "4                 1               1  \n",
       "6                 1               3  \n",
       "8                 1               5  \n",
       "14                1               0  \n",
       "17                1               2  \n",
       "...             ...             ...  \n",
       "89898             1               0  \n",
       "89913             1               1  \n",
       "89922             1               0  \n",
       "89925             1               0  \n",
       "89932             1               3  \n",
       "\n",
       "[24215 rows x 6 columns]"
      ]
     },
     "execution_count": 30,
     "metadata": {},
     "output_type": "execute_result"
    }
   ],
   "source": [
    "quantified_survey_results"
   ]
  },
  {
   "cell_type": "markdown",
   "metadata": {},
   "source": [
    "# Histograms"
   ]
  },
  {
   "cell_type": "code",
   "execution_count": 31,
   "metadata": {},
   "outputs": [],
   "source": [
    "def make_histogram(column_name, num_bins=False):\n",
    "    if not num_bins:\n",
    "        num_bins = len(quantified_survey_results[column_name].unique())\n",
    "    hist = quantified_survey_results[column_name].hist(bins=num_bins, )\n",
    "    hist.set_title(column_name)\n",
    "    return hist"
   ]
  },
  {
   "cell_type": "code",
   "execution_count": 32,
   "metadata": {},
   "outputs": [],
   "source": [
    "#make_histogram('EducationParents')"
   ]
  },
  {
   "cell_type": "code",
   "execution_count": 33,
   "metadata": {},
   "outputs": [
    {
     "data": {
      "text/plain": [
       "<matplotlib.axes._subplots.AxesSubplot at 0xcbcf7b0>"
      ]
     },
     "execution_count": 33,
     "metadata": {},
     "output_type": "execute_result"
    },
    {
     "data": {
      "image/png": "[encoded data removed]",
      "text/plain": [
       "<Figure size 432x288 with 1 Axes>"
      ]
     },
     "metadata": {
      "needs_background": "light"
     },
     "output_type": "display_data"
    }
   ],
   "source": [
    "make_histogram('FormalEducation')"
   ]
  },
  {
   "cell_type": "code",
   "execution_count": 34,
   "metadata": {},
   "outputs": [
    {
     "data": {
      "text/plain": [
       "<matplotlib.axes._subplots.AxesSubplot at 0xdca9cf0>"
      ]
     },
     "execution_count": 34,
     "metadata": {},
     "output_type": "execute_result"
    },
    {
     "data": {
      "image/png": "[encoded data removed]",
      "text/plain": [
       "<Figure size 432x288 with 1 Axes>"
      ]
     },
     "metadata": {
      "needs_background": "light"
     },
     "output_type": "display_data"
    }
   ],
   "source": [
    "make_histogram('EthicalImplications')"
   ]
  },
  {
   "cell_type": "code",
   "execution_count": 35,
   "metadata": {},
   "outputs": [
    {
     "data": {
      "text/plain": [
       "<matplotlib.axes._subplots.AxesSubplot at 0xdcfe0d0>"
      ]
     },
     "execution_count": 35,
     "metadata": {},
     "output_type": "execute_result"
    },
    {
     "data": {
      "image/png": "[encoded data removed]",
      "text/plain": [
       "<Figure size 432x288 with 1 Axes>"
      ]
     },
     "metadata": {
      "needs_background": "light"
     },
     "output_type": "display_data"
    }
   ],
   "source": [
    "make_histogram('Employment')"
   ]
  },
  {
   "cell_type": "code",
   "execution_count": 36,
   "metadata": {},
   "outputs": [
    {
     "data": {
      "text/plain": [
       "<matplotlib.axes._subplots.AxesSubplot at 0xdd48ef0>"
      ]
     },
     "execution_count": 36,
     "metadata": {},
     "output_type": "execute_result"
    },
    {
     "data": {
      "image/png": "[encoded data removed]",
      "text/plain": [
       "<Figure size 432x288 with 1 Axes>"
      ]
     },
     "metadata": {
      "needs_background": "light"
     },
     "output_type": "display_data"
    }
   ],
   "source": [
    "make_histogram('EthicsReport')"
   ]
  },
  {
   "cell_type": "code",
   "execution_count": 37,
   "metadata": {},
   "outputs": [
    {
     "data": {
      "text/plain": [
       "<matplotlib.axes._subplots.AxesSubplot at 0xdd7b5b0>"
      ]
     },
     "execution_count": 37,
     "metadata": {},
     "output_type": "execute_result"
    },
    {
     "data": {
      "image/png": "[encoded data removed]",
      "text/plain": [
       "<Figure size 432x288 with 1 Axes>"
      ]
     },
     "metadata": {
      "needs_background": "light"
     },
     "output_type": "display_data"
    }
   ],
   "source": [
    "make_histogram('ConvertedSalary')"
   ]
  },
  {
   "cell_type": "markdown",
   "metadata": {},
   "source": [
    "# Get the results of a specific row"
   ]
  },
  {
   "cell_type": "code",
   "execution_count": 38,
   "metadata": {},
   "outputs": [
    {
     "data": {
      "text/plain": [
       "Respondent             7\n",
       "FormalEducation        2\n",
       "EthicalImplications    1\n",
       "Employment             5\n",
       "EthicsReport           1\n",
       "ConvertedSalary        1\n",
       "Name: 4, dtype: object"
      ]
     },
     "execution_count": 38,
     "metadata": {},
     "output_type": "execute_result"
    }
   ],
   "source": [
    "\n",
    "quantified_survey_results.iloc[0]"
   ]
  },
  {
   "cell_type": "markdown",
   "metadata": {},
   "source": [
    "# Stratifying"
   ]
  },
  {
   "cell_type": "code",
   "execution_count": 39,
   "metadata": {},
   "outputs": [],
   "source": [
    "stratified = quantified_survey_results.copy()\n",
    "stratified = stratified.drop(columns=[\"Respondent\"])\n",
    "stratified = stratified.groupby(['FormalEducation', 'EthicalImplications'])"
   ]
  },
  {
   "cell_type": "markdown",
   "metadata": {},
   "source": [
    "## Here is the mean of each strata"
   ]
  },
  {
   "cell_type": "code",
   "execution_count": 40,
   "metadata": {},
   "outputs": [
    {
     "data": {
      "text/html": [
       "<div>\n",
       "<style scoped>\n",
       "    .dataframe tbody tr th:only-of-type {\n",
       "        vertical-align: middle;\n",
       "    }\n",
       "\n",
       "    .dataframe tbody tr th {\n",
       "        vertical-align: top;\n",
       "    }\n",
       "\n",
       "    .dataframe thead th {\n",
       "        text-align: right;\n",
       "    }\n",
       "</style>\n",
       "<table border=\"1\" class=\"dataframe\">\n",
       "  <thead>\n",
       "    <tr style=\"text-align: right;\">\n",
       "      <th></th>\n",
       "      <th></th>\n",
       "      <th>Employment</th>\n",
       "      <th>EthicsReport</th>\n",
       "    </tr>\n",
       "    <tr>\n",
       "      <th>FormalEducation</th>\n",
       "      <th>EthicalImplications</th>\n",
       "      <th></th>\n",
       "      <th></th>\n",
       "    </tr>\n",
       "  </thead>\n",
       "  <tbody>\n",
       "    <tr>\n",
       "      <th rowspan=\"3\" valign=\"top\">0</th>\n",
       "      <th>-1</th>\n",
       "      <td>3.437500</td>\n",
       "      <td>0.437500</td>\n",
       "    </tr>\n",
       "    <tr>\n",
       "      <th>0</th>\n",
       "      <td>2.857143</td>\n",
       "      <td>0.809524</td>\n",
       "    </tr>\n",
       "    <tr>\n",
       "      <th>1</th>\n",
       "      <td>3.618056</td>\n",
       "      <td>0.923611</td>\n",
       "    </tr>\n",
       "    <tr>\n",
       "      <th rowspan=\"3\" valign=\"top\">1</th>\n",
       "      <th>-1</th>\n",
       "      <td>3.968000</td>\n",
       "      <td>0.584000</td>\n",
       "    </tr>\n",
       "    <tr>\n",
       "      <th>0</th>\n",
       "      <td>3.950355</td>\n",
       "      <td>0.822695</td>\n",
       "    </tr>\n",
       "    <tr>\n",
       "      <th>1</th>\n",
       "      <td>4.069456</td>\n",
       "      <td>0.948954</td>\n",
       "    </tr>\n",
       "    <tr>\n",
       "      <th rowspan=\"3\" valign=\"top\">2</th>\n",
       "      <th>-1</th>\n",
       "      <td>4.491620</td>\n",
       "      <td>0.603352</td>\n",
       "    </tr>\n",
       "    <tr>\n",
       "      <th>0</th>\n",
       "      <td>4.536170</td>\n",
       "      <td>0.825532</td>\n",
       "    </tr>\n",
       "    <tr>\n",
       "      <th>1</th>\n",
       "      <td>4.597697</td>\n",
       "      <td>0.960461</td>\n",
       "    </tr>\n",
       "    <tr>\n",
       "      <th rowspan=\"3\" valign=\"top\">3</th>\n",
       "      <th>-1</th>\n",
       "      <td>3.875000</td>\n",
       "      <td>1.000000</td>\n",
       "    </tr>\n",
       "    <tr>\n",
       "      <th>0</th>\n",
       "      <td>3.750000</td>\n",
       "      <td>0.833333</td>\n",
       "    </tr>\n",
       "    <tr>\n",
       "      <th>1</th>\n",
       "      <td>4.324324</td>\n",
       "      <td>0.945946</td>\n",
       "    </tr>\n",
       "    <tr>\n",
       "      <th rowspan=\"3\" valign=\"top\">4</th>\n",
       "      <th>-1</th>\n",
       "      <td>4.837209</td>\n",
       "      <td>0.674419</td>\n",
       "    </tr>\n",
       "    <tr>\n",
       "      <th>0</th>\n",
       "      <td>4.633333</td>\n",
       "      <td>0.816667</td>\n",
       "    </tr>\n",
       "    <tr>\n",
       "      <th>1</th>\n",
       "      <td>4.671254</td>\n",
       "      <td>0.952599</td>\n",
       "    </tr>\n",
       "    <tr>\n",
       "      <th rowspan=\"3\" valign=\"top\">5</th>\n",
       "      <th>-1</th>\n",
       "      <td>4.709677</td>\n",
       "      <td>0.683871</td>\n",
       "    </tr>\n",
       "    <tr>\n",
       "      <th>0</th>\n",
       "      <td>4.758422</td>\n",
       "      <td>0.875842</td>\n",
       "    </tr>\n",
       "    <tr>\n",
       "      <th>1</th>\n",
       "      <td>4.804613</td>\n",
       "      <td>0.957259</td>\n",
       "    </tr>\n",
       "    <tr>\n",
       "      <th rowspan=\"3\" valign=\"top\">6</th>\n",
       "      <th>-1</th>\n",
       "      <td>4.796178</td>\n",
       "      <td>0.707006</td>\n",
       "    </tr>\n",
       "    <tr>\n",
       "      <th>0</th>\n",
       "      <td>4.831633</td>\n",
       "      <td>0.846939</td>\n",
       "    </tr>\n",
       "    <tr>\n",
       "      <th>1</th>\n",
       "      <td>4.797458</td>\n",
       "      <td>0.954490</td>\n",
       "    </tr>\n",
       "    <tr>\n",
       "      <th rowspan=\"3\" valign=\"top\">7</th>\n",
       "      <th>-1</th>\n",
       "      <td>4.923077</td>\n",
       "      <td>0.461538</td>\n",
       "    </tr>\n",
       "    <tr>\n",
       "      <th>0</th>\n",
       "      <td>4.735294</td>\n",
       "      <td>0.882353</td>\n",
       "    </tr>\n",
       "    <tr>\n",
       "      <th>1</th>\n",
       "      <td>4.833333</td>\n",
       "      <td>0.965636</td>\n",
       "    </tr>\n",
       "    <tr>\n",
       "      <th rowspan=\"3\" valign=\"top\">8</th>\n",
       "      <th>-1</th>\n",
       "      <td>4.869565</td>\n",
       "      <td>0.608696</td>\n",
       "    </tr>\n",
       "    <tr>\n",
       "      <th>0</th>\n",
       "      <td>4.883721</td>\n",
       "      <td>0.883721</td>\n",
       "    </tr>\n",
       "    <tr>\n",
       "      <th>1</th>\n",
       "      <td>4.680672</td>\n",
       "      <td>0.894958</td>\n",
       "    </tr>\n",
       "  </tbody>\n",
       "</table>\n",
       "</div>"
      ],
      "text/plain": [
       "                                     Employment  EthicsReport\n",
       "FormalEducation EthicalImplications                          \n",
       "0               -1                     3.437500      0.437500\n",
       "                 0                     2.857143      0.809524\n",
       "                 1                     3.618056      0.923611\n",
       "1               -1                     3.968000      0.584000\n",
       "                 0                     3.950355      0.822695\n",
       "                 1                     4.069456      0.948954\n",
       "2               -1                     4.491620      0.603352\n",
       "                 0                     4.536170      0.825532\n",
       "                 1                     4.597697      0.960461\n",
       "3               -1                     3.875000      1.000000\n",
       "                 0                     3.750000      0.833333\n",
       "                 1                     4.324324      0.945946\n",
       "4               -1                     4.837209      0.674419\n",
       "                 0                     4.633333      0.816667\n",
       "                 1                     4.671254      0.952599\n",
       "5               -1                     4.709677      0.683871\n",
       "                 0                     4.758422      0.875842\n",
       "                 1                     4.804613      0.957259\n",
       "6               -1                     4.796178      0.707006\n",
       "                 0                     4.831633      0.846939\n",
       "                 1                     4.797458      0.954490\n",
       "7               -1                     4.923077      0.461538\n",
       "                 0                     4.735294      0.882353\n",
       "                 1                     4.833333      0.965636\n",
       "8               -1                     4.869565      0.608696\n",
       "                 0                     4.883721      0.883721\n",
       "                 1                     4.680672      0.894958"
      ]
     },
     "execution_count": 40,
     "metadata": {},
     "output_type": "execute_result"
    }
   ],
   "source": [
    "stratified.mean()"
   ]
  },
  {
   "cell_type": "markdown",
   "metadata": {},
   "source": [
    "### Histagram are easy. Here's a histogram of the mean"
   ]
  },
  {
   "cell_type": "code",
   "execution_count": 41,
   "metadata": {},
   "outputs": [
    {
     "data": {
      "text/plain": [
       "array([[<matplotlib.axes._subplots.AxesSubplot object at 0x0DD37F30>,\n",
       "        <matplotlib.axes._subplots.AxesSubplot object at 0x0DD70750>]],\n",
       "      dtype=object)"
      ]
     },
     "execution_count": 41,
     "metadata": {},
     "output_type": "execute_result"
    },
    {
     "data": {
      "image/png": "[encoded data removed]",
      "text/plain": [
       "<Figure size 432x288 with 2 Axes>"
      ]
     },
     "metadata": {
      "needs_background": "light"
     },
     "output_type": "display_data"
    }
   ],
   "source": [
    "stratified.mean().hist()"
   ]
  },
  {
   "cell_type": "code",
   "execution_count": 42,
   "metadata": {},
   "outputs": [],
   "source": [
    "# stratified.mean().to_csv('stratified_mean.csv', index=True, encoding='utf-8')"
   ]
  },
  {
   "cell_type": "markdown",
   "metadata": {},
   "source": [
    "## Mean isn't the only thing we can do. We can also get a specific stata"
   ]
  },
  {
   "cell_type": "code",
   "execution_count": 43,
   "metadata": {},
   "outputs": [
    {
     "data": {
      "text/html": [
       "<div>\n",
       "<style scoped>\n",
       "    .dataframe tbody tr th:only-of-type {\n",
       "        vertical-align: middle;\n",
       "    }\n",
       "\n",
       "    .dataframe tbody tr th {\n",
       "        vertical-align: top;\n",
       "    }\n",
       "\n",
       "    .dataframe thead th {\n",
       "        text-align: right;\n",
       "    }\n",
       "</style>\n",
       "<table border=\"1\" class=\"dataframe\">\n",
       "  <thead>\n",
       "    <tr style=\"text-align: right;\">\n",
       "      <th></th>\n",
       "      <th>FormalEducation</th>\n",
       "      <th>EthicalImplications</th>\n",
       "      <th>Employment</th>\n",
       "      <th>EthicsReport</th>\n",
       "      <th>ConvertedSalary</th>\n",
       "    </tr>\n",
       "  </thead>\n",
       "  <tbody>\n",
       "    <tr>\n",
       "      <th>14</th>\n",
       "      <td>1</td>\n",
       "      <td>1</td>\n",
       "      <td>5</td>\n",
       "      <td>1</td>\n",
       "      <td>0</td>\n",
       "    </tr>\n",
       "    <tr>\n",
       "      <th>160</th>\n",
       "      <td>1</td>\n",
       "      <td>1</td>\n",
       "      <td>3</td>\n",
       "      <td>1</td>\n",
       "      <td>2</td>\n",
       "    </tr>\n",
       "    <tr>\n",
       "      <th>244</th>\n",
       "      <td>1</td>\n",
       "      <td>1</td>\n",
       "      <td>5</td>\n",
       "      <td>1</td>\n",
       "      <td>2</td>\n",
       "    </tr>\n",
       "    <tr>\n",
       "      <th>495</th>\n",
       "      <td>1</td>\n",
       "      <td>1</td>\n",
       "      <td>3</td>\n",
       "      <td>1</td>\n",
       "      <td>0</td>\n",
       "    </tr>\n",
       "    <tr>\n",
       "      <th>563</th>\n",
       "      <td>1</td>\n",
       "      <td>1</td>\n",
       "      <td>3</td>\n",
       "      <td>1</td>\n",
       "      <td>1</td>\n",
       "    </tr>\n",
       "    <tr>\n",
       "      <th>...</th>\n",
       "      <td>...</td>\n",
       "      <td>...</td>\n",
       "      <td>...</td>\n",
       "      <td>...</td>\n",
       "      <td>...</td>\n",
       "    </tr>\n",
       "    <tr>\n",
       "      <th>89806</th>\n",
       "      <td>1</td>\n",
       "      <td>1</td>\n",
       "      <td>0</td>\n",
       "      <td>0</td>\n",
       "      <td>1</td>\n",
       "    </tr>\n",
       "    <tr>\n",
       "      <th>89816</th>\n",
       "      <td>1</td>\n",
       "      <td>1</td>\n",
       "      <td>2</td>\n",
       "      <td>1</td>\n",
       "      <td>0</td>\n",
       "    </tr>\n",
       "    <tr>\n",
       "      <th>89820</th>\n",
       "      <td>1</td>\n",
       "      <td>1</td>\n",
       "      <td>2</td>\n",
       "      <td>1</td>\n",
       "      <td>0</td>\n",
       "    </tr>\n",
       "    <tr>\n",
       "      <th>89888</th>\n",
       "      <td>1</td>\n",
       "      <td>1</td>\n",
       "      <td>4</td>\n",
       "      <td>0</td>\n",
       "      <td>0</td>\n",
       "    </tr>\n",
       "    <tr>\n",
       "      <th>89922</th>\n",
       "      <td>1</td>\n",
       "      <td>1</td>\n",
       "      <td>1</td>\n",
       "      <td>1</td>\n",
       "      <td>0</td>\n",
       "    </tr>\n",
       "  </tbody>\n",
       "</table>\n",
       "<p>1195 rows × 5 columns</p>\n",
       "</div>"
      ],
      "text/plain": [
       "       FormalEducation  EthicalImplications  Employment  EthicsReport  \\\n",
       "14                   1                    1           5             1   \n",
       "160                  1                    1           3             1   \n",
       "244                  1                    1           5             1   \n",
       "495                  1                    1           3             1   \n",
       "563                  1                    1           3             1   \n",
       "...                ...                  ...         ...           ...   \n",
       "89806                1                    1           0             0   \n",
       "89816                1                    1           2             1   \n",
       "89820                1                    1           2             1   \n",
       "89888                1                    1           4             0   \n",
       "89922                1                    1           1             1   \n",
       "\n",
       "      ConvertedSalary  \n",
       "14                  0  \n",
       "160                 2  \n",
       "244                 2  \n",
       "495                 0  \n",
       "563                 1  \n",
       "...               ...  \n",
       "89806               1  \n",
       "89816               0  \n",
       "89820               0  \n",
       "89888               0  \n",
       "89922               0  \n",
       "\n",
       "[1195 rows x 5 columns]"
      ]
     },
     "execution_count": 43,
     "metadata": {},
     "output_type": "execute_result"
    }
   ],
   "source": [
    "stratified.get_group((1, 1))\n",
    "# stratified.mean()"
   ]
  },
  {
   "cell_type": "code",
   "execution_count": 44,
   "metadata": {},
   "outputs": [
    {
     "data": {
      "text/plain": [
       "<matplotlib.axes._subplots.AxesSubplot at 0xde7a590>"
      ]
     },
     "execution_count": 44,
     "metadata": {},
     "output_type": "execute_result"
    },
    {
     "data": {
      "image/png": "[encoded data removed]",
      "text/plain": [
       "<Figure size 432x288 with 1 Axes>"
      ]
     },
     "metadata": {
      "needs_background": "light"
     },
     "output_type": "display_data"
    }
   ],
   "source": [
    "stratified.get_group((1, 1))['EthicsReport'].hist()"
   ]
  },
  {
   "cell_type": "code",
   "execution_count": 45,
   "metadata": {},
   "outputs": [
    {
     "data": {
      "text/plain": [
       "27"
      ]
     },
     "execution_count": 45,
     "metadata": {},
     "output_type": "execute_result"
    }
   ],
   "source": [
    "len(stratified)"
   ]
  },
  {
   "cell_type": "markdown",
   "metadata": {},
   "source": [
    "# Probability"
   ]
  },
  {
   "cell_type": "markdown",
   "metadata": {},
   "source": [
    "Now we can define a function which will be able to tell us the probability for a certain event string, given a conditional string. An example of the notation is as follows: \n",
    "$$p(x=2|y=3, v=1) = probability(\\text{\"x == 2\"}, \\text{\"y == 3 and v == 1\"})$$"
   ]
  },
  {
   "cell_type": "code",
   "execution_count": 46,
   "metadata": {},
   "outputs": [],
   "source": [
    "def probability (event_string, conditional_string):\n",
    "    #note this will go off the quantified_survey_results\n",
    "    data = quantified_survey_results.copy()\n",
    "    \n",
    "    if conditional_string:\n",
    "        conditioned_data = data.query(conditional_string)\n",
    "    else:\n",
    "        conditioned_data = data\n",
    "    event_given_conditioned_data = conditioned_data.query(event_string)\n",
    "    \n",
    "    return len(event_given_conditioned_data) / len(conditioned_data) if len(conditioned_data) != 0 else 0"
   ]
  },
  {
   "cell_type": "markdown",
   "metadata": {},
   "source": [
    "A couple sample examples can be found below where we condition on an event, and when we do not:"
   ]
  },
  {
   "cell_type": "code",
   "execution_count": 47,
   "metadata": {},
   "outputs": [
    {
     "data": {
      "text/plain": [
       "0.5765690376569038"
      ]
     },
     "execution_count": 47,
     "metadata": {},
     "output_type": "execute_result"
    }
   ],
   "source": [
    "probability('Employment == 5', 'FormalEducation == 1 and EthicalImplications == 1')"
   ]
  },
  {
   "cell_type": "code",
   "execution_count": 48,
   "metadata": {},
   "outputs": [
    {
     "data": {
      "text/plain": [
       "0.9303737352880446"
      ]
     },
     "execution_count": 48,
     "metadata": {},
     "output_type": "execute_result"
    }
   ],
   "source": [
    "probability('EthicsReport == 1', '')"
   ]
  },
  {
   "cell_type": "code",
   "execution_count": 49,
   "metadata": {},
   "outputs": [],
   "source": [
    "def prob_over_covariates(Y,Z,A):\n",
    "    #Define our constants:\n",
    "    education_range = [0,1,2,3,4,5,6,7]\n",
    "    ethics_range = [-1,0,1]\n",
    "    \n",
    "    cum_sum = 0\n",
    "    #Run through all levels and calculate the risk within each level of employment\n",
    "    for edu in education_range:\n",
    "        for eth in ethics_range:\n",
    "            \n",
    "            val1 = probability(\"ConvertedSalary == \" + str(Y), \"FormalEducation == \" + str(edu) + \" and EthicalImplications == \" + str(eth) + \" and EthicsReport == \" + str(A) + \" and Employment == \" + str(Z))\n",
    "            val2 = probability(\"FormalEducation == \" + str(edu) + \" and EthicalImplications == \" + str(eth), \"\")\n",
    "            \n",
    "            cum_sum += val1 * val2\n",
    "    return cum_sum"
   ]
  },
  {
   "cell_type": "code",
   "execution_count": 50,
   "metadata": {},
   "outputs": [],
   "source": [
    "def standardization(Y):\n",
    "    #Define our constants:\n",
    "    employment_range = [0,1,2,3,4,5]\n",
    "    \n",
    "    #Standardized treated risk\n",
    "    treated_sum = 0\n",
    "    for emp in employment_range:\n",
    "        treated_sum += prob_over_covariates(Y, emp, 1) * probability(\"Employment == \" + str(emp),\"\")\n",
    "        \n",
    "    #Standardized untreated risk\n",
    "    untreated_sum = 0\n",
    "    for emp in employment_range:\n",
    "        untreated_sum += prob_over_covariates(Y, emp, 0) * probability(\"Employment == \" + str(emp),\"\")\n",
    "    \n",
    "    return (untreated_sum, treated_sum)"
   ]
  },
  {
   "cell_type": "markdown",
   "metadata": {},
   "source": [
    "We can now run through every salary range and compare all of the different treated + untreated risk values."
   ]
  },
  {
   "cell_type": "code",
   "execution_count": 51,
   "metadata": {},
   "outputs": [
    {
     "name": "stdout",
     "output_type": "stream",
     "text": [
      "[(0.19004091728584213, 0.10645632045548083), (0.35474502001265457, 0.235315342075257), (0.22731040326173366, 0.3185701029601804), (0.15166359944071228, 0.2487616376035318), (0.011499525678184085, 0.024167861842089494), (0.01303829367984179, 0.0200190380744335), (0.034435257025118085, 0.033394953289387734)]\n"
     ]
    }
   ],
   "source": [
    "salary_range = [0,1,2,3,4,5,6]\n",
    "salary_bins = [10000,40000,80000,160000,200000,500000,2000000]\n",
    "tuple_list = []\n",
    "for sal in salary_range:\n",
    "    tuple_list.append(standardization(sal))\n",
    "print(tuple_list)"
   ]
  },
  {
   "cell_type": "markdown",
   "metadata": {},
   "source": [
    "And now see which values map to which:"
   ]
  },
  {
   "cell_type": "code",
   "execution_count": 52,
   "metadata": {},
   "outputs": [
    {
     "name": "stdout",
     "output_type": "stream",
     "text": [
      "Risk of salary of 10000 if (doesn't report, reports) code: (0.19004091728584213, 0.10645632045548083)\n",
      "Risk of salary of 40000 if (doesn't report, reports) code: (0.35474502001265457, 0.235315342075257)\n",
      "Risk of salary of 80000 if (doesn't report, reports) code: (0.22731040326173366, 0.3185701029601804)\n",
      "Risk of salary of 160000 if (doesn't report, reports) code: (0.15166359944071228, 0.2487616376035318)\n",
      "Risk of salary of 200000 if (doesn't report, reports) code: (0.011499525678184085, 0.024167861842089494)\n",
      "Risk of salary of 500000 if (doesn't report, reports) code: (0.01303829367984179, 0.0200190380744335)\n",
      "Risk of salary of 2000000 if (doesn't report, reports) code: (0.034435257025118085, 0.033394953289387734)\n"
     ]
    }
   ],
   "source": [
    "for sal in salary_range:\n",
    "    print(\"Risk of salary of \" + str(salary_bins[sal]) + \" if (doesn't report, reports) code: \" + str(tuple_list[sal]))"
   ]
  },
  {
   "cell_type": "markdown",
   "metadata": {},
   "source": [
    "Now we can also compute our risk values. Let's start with our Risk Difference:"
   ]
  },
  {
   "cell_type": "code",
   "execution_count": 53,
   "metadata": {},
   "outputs": [
    {
     "name": "stdout",
     "output_type": "stream",
     "text": [
      "Risk ratio for salary of 10000: -0.0835845968303613\n",
      "Risk ratio for salary of 40000: -0.11942967793739756\n",
      "Risk ratio for salary of 80000: 0.09125969969844674\n",
      "Risk ratio for salary of 160000: 0.0970980381628195\n",
      "Risk ratio for salary of 200000: 0.012668336163905409\n",
      "Risk ratio for salary of 500000: 0.0069807443945917105\n",
      "Risk ratio for salary of 2000000: -0.001040303735730351\n"
     ]
    }
   ],
   "source": [
    "for sal in salary_range:\n",
    "    untreated, treated = tuple_list[sal]\n",
    "    print(\"Risk ratio for salary of \" + str(salary_bins[sal]) + \": \" + str(treated - untreated))"
   ]
  },
  {
   "cell_type": "markdown",
   "metadata": {},
   "source": [
    "Similarly, we can then compute the Risk Ratio:"
   ]
  },
  {
   "cell_type": "code",
   "execution_count": 54,
   "metadata": {},
   "outputs": [
    {
     "name": "stdout",
     "output_type": "stream",
     "text": [
      "Risk ratio for salary of 10000: 0.5601757872772156\n",
      "Risk ratio for salary of 40000: 0.6633365623197833\n",
      "Risk ratio for salary of 80000: 1.4014761242289775\n",
      "Risk ratio for salary of 160000: 1.6402197924939574\n",
      "Risk ratio for salary of 200000: 2.1016398865858172\n",
      "Risk ratio for salary of 500000: 1.5354032180901462\n",
      "Risk ratio for salary of 2000000: 0.9697895754060577\n"
     ]
    }
   ],
   "source": [
    "salary_range = [0,1,2,3,4,5,6]\n",
    "salary_bins = [10000,40000,80000,160000,200000,500000,2000000]\n",
    "for sal in salary_range:\n",
    "    untreated, treated = tuple_list[sal]\n",
    "    print(\"Risk ratio for salary of \" + str(salary_bins[sal]) + \": \" + str(treated/untreated))"
   ]
  },
  {
   "cell_type": "code",
   "execution_count": null,
   "metadata": {},
   "outputs": [],
   "source": []
  },
  {
   "cell_type": "markdown",
   "metadata": {},
   "source": [
    "#### Scratch work:"
   ]
  },
  {
   "cell_type": "code",
   "execution_count": 55,
   "metadata": {},
   "outputs": [
    {
     "name": "stdout",
     "output_type": "stream",
     "text": [
      "['Depends on what it is' 'Yes, but only within the company'\n",
      " 'Yes, and publicly' 'No']\n"
     ]
    }
   ],
   "source": [
    "print(cleaned_survey_results['EthicsReport'].unique())"
   ]
  },
  {
   "cell_type": "code",
   "execution_count": 56,
   "metadata": {},
   "outputs": [
    {
     "name": "stdout",
     "output_type": "stream",
     "text": [
      "[2 3 0]\n"
     ]
    }
   ],
   "source": [
    "EthicsReport = {'Yes, and publicly': 3,\n",
    "                'Yes, but only within the company': 2,\n",
    "                'Depends on what it is': 1,\n",
    "                'No': 0 \n",
    "}\n",
    "\n",
    "quantified_survey_results['EthicsReport'] = cleaned_survey_results['EthicsReport'].replace(EthicsReport)\n",
    "print(quantified_survey_results['EthicsReport'].unique())"
   ]
  }
 ],
 "metadata": {
  "kernelspec": {
   "display_name": "Python 3",
   "language": "python",
   "name": "python3"
  },
  "language_info": {
   "codemirror_mode": {
    "name": "ipython",
    "version": 3
   },
   "file_extension": ".py",
   "mimetype": "text/x-python",
   "name": "python",
   "nbconvert_exporter": "python",
   "pygments_lexer": "ipython3",
   "version": "3.7.4"
  }
 },
 "nbformat": 4,
 "nbformat_minor": 4
}
