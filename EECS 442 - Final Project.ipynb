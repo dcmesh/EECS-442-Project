{
 "cells": [
  {
   "cell_type": "markdown",
   "metadata": {},
   "source": [
    "# Data Exploration"
   ]
  },
  {
   "cell_type": "markdown",
   "metadata": {},
   "source": [
    "Import the survey data from a csv"
   ]
  },
  {
   "cell_type": "code",
   "execution_count": 1,
   "metadata": {},
   "outputs": [],
   "source": [
    "import csv"
   ]
  },
  {
   "cell_type": "code",
   "execution_count": 2,
   "metadata": {},
   "outputs": [
    {
     "name": "stdout",
     "output_type": "stream",
     "text": [
      "Column names are Respondent, Hobby, OpenSource, Country, Student, Employment, FormalEducation, UndergradMajor, CompanySize, DevType, YearsCoding, YearsCodingProf, JobSatisfaction, CareerSatisfaction, HopeFiveYears, JobSearchStatus, LastNewJob, AssessJob1, AssessJob2, AssessJob3, AssessJob4, AssessJob5, AssessJob6, AssessJob7, AssessJob8, AssessJob9, AssessJob10, AssessBenefits1, AssessBenefits2, AssessBenefits3, AssessBenefits4, AssessBenefits5, AssessBenefits6, AssessBenefits7, AssessBenefits8, AssessBenefits9, AssessBenefits10, AssessBenefits11, JobContactPriorities1, JobContactPriorities2, JobContactPriorities3, JobContactPriorities4, JobContactPriorities5, JobEmailPriorities1, JobEmailPriorities2, JobEmailPriorities3, JobEmailPriorities4, JobEmailPriorities5, JobEmailPriorities6, JobEmailPriorities7, UpdateCV, Currency, Salary, SalaryType, ConvertedSalary, CurrencySymbol, CommunicationTools, TimeFullyProductive, EducationTypes, SelfTaughtTypes, TimeAfterBootcamp, HackathonReasons, AgreeDisagree1, AgreeDisagree2, AgreeDisagree3, LanguageWorkedWith, LanguageDesireNextYear, DatabaseWorkedWith, DatabaseDesireNextYear, PlatformWorkedWith, PlatformDesireNextYear, FrameworkWorkedWith, FrameworkDesireNextYear, IDE, OperatingSystem, NumberMonitors, Methodology, VersionControl, CheckInCode, AdBlocker, AdBlockerDisable, AdBlockerReasons, AdsAgreeDisagree1, AdsAgreeDisagree2, AdsAgreeDisagree3, AdsActions, AdsPriorities1, AdsPriorities2, AdsPriorities3, AdsPriorities4, AdsPriorities5, AdsPriorities6, AdsPriorities7, AIDangerous, AIInteresting, AIResponsible, AIFuture, EthicsChoice, EthicsReport, EthicsResponsible, EthicalImplications, StackOverflowRecommend, StackOverflowVisit, StackOverflowHasAccount, StackOverflowParticipate, StackOverflowJobs, StackOverflowDevStory, StackOverflowJobsRecommend, StackOverflowConsiderMember, HypotheticalTools1, HypotheticalTools2, HypotheticalTools3, HypotheticalTools4, HypotheticalTools5, WakeTime, HoursComputer, HoursOutside, SkipMeals, ErgonomicDevices, Exercise, Gender, SexualOrientation, EducationParents, RaceEthnicity, Age, Dependents, MilitaryUS, SurveyTooLong, SurveyEasy\n",
      "Processed 98856 lines.\n"
     ]
    }
   ],
   "source": [
    "with open('survey_results_public.csv', newline='', encoding=\"utf8\") as csv_file:\n",
    "    csv_reader = csv.reader(csv_file, delimiter=',')\n",
    "    line_count = 0\n",
    "    for row in csv_reader:\n",
    "        if line_count == 0:\n",
    "            print(f'Column names are {\", \".join(row)}')\n",
    "            line_count+= 1\n",
    "        else:\n",
    "            line_count += 1\n",
    "    print(f'Processed {line_count} lines.')"
   ]
  },
  {
   "cell_type": "markdown",
   "metadata": {},
   "source": [
    "It's pretty useful but doesn't provide easy manipulation of columns. Next, let us take a look at pandas dataframes:"
   ]
  },
  {
   "cell_type": "code",
   "execution_count": 3,
   "metadata": {},
   "outputs": [],
   "source": [
    "import pandas as pd"
   ]
  },
  {
   "cell_type": "markdown",
   "metadata": {},
   "source": [
    "Save the csv into a variable dataframe:"
   ]
  },
  {
   "cell_type": "code",
   "execution_count": 4,
   "metadata": {},
   "outputs": [],
   "source": [
    "df=pd.read_csv(\"survey_results_public.csv\", encoding =\"utf8\", low_memory=False)"
   ]
  },
  {
   "cell_type": "markdown",
   "metadata": {},
   "source": [
    "Now we can query the dataframe by column numbers"
   ]
  },
  {
   "cell_type": "code",
   "execution_count": 5,
   "metadata": {},
   "outputs": [
    {
     "data": {
      "text/plain": [
       "0        Yes\n",
       "1        Yes\n",
       "2        Yes\n",
       "3         No\n",
       "4        Yes\n",
       "        ... \n",
       "98850    Yes\n",
       "98851     No\n",
       "98852    Yes\n",
       "98853    Yes\n",
       "98854    Yes\n",
       "Name: Hobby, Length: 98855, dtype: object"
      ]
     },
     "execution_count": 5,
     "metadata": {},
     "output_type": "execute_result"
    }
   ],
   "source": [
    "df[df.columns[1]]"
   ]
  },
  {
   "cell_type": "markdown",
   "metadata": {},
   "source": [
    "Or we can utilize names:"
   ]
  },
  {
   "cell_type": "code",
   "execution_count": 6,
   "metadata": {},
   "outputs": [
    {
     "data": {
      "text/plain": [
       "0                    No\n",
       "1                    No\n",
       "2                    No\n",
       "3                    No\n",
       "4        Yes, part-time\n",
       "              ...      \n",
       "98850               NaN\n",
       "98851    Yes, full-time\n",
       "98852    Yes, full-time\n",
       "98853                No\n",
       "98854               NaN\n",
       "Name: Student, Length: 98855, dtype: object"
      ]
     },
     "execution_count": 6,
     "metadata": {},
     "output_type": "execute_result"
    }
   ],
   "source": [
    "df[\"Student\"]"
   ]
  },
  {
   "cell_type": "markdown",
   "metadata": {},
   "source": [
    "Now, the data we need is: Parent's Education, Education, Reporting Responsibility, Employment, Reporting Code, and Salary."
   ]
  },
  {
   "cell_type": "code",
   "execution_count": 7,
   "metadata": {},
   "outputs": [],
   "source": [
    "new_df = df[['Respondent', 'FormalEducation', 'EthicalImplications', 'Employment', 'EthicsReport', 'ConvertedSalary']].copy()"
   ]
  },
  {
   "cell_type": "markdown",
   "metadata": {},
   "source": [
    "And we can verify that our dataframe is correct (columns are split into mutiple lines of entries):"
   ]
  },
  {
   "cell_type": "code",
   "execution_count": 8,
   "metadata": {},
   "outputs": [
    {
     "data": {
      "text/html": [
       "<div>\n",
       "<style scoped>\n",
       "    .dataframe tbody tr th:only-of-type {\n",
       "        vertical-align: middle;\n",
       "    }\n",
       "\n",
       "    .dataframe tbody tr th {\n",
       "        vertical-align: top;\n",
       "    }\n",
       "\n",
       "    .dataframe thead th {\n",
       "        text-align: right;\n",
       "    }\n",
       "</style>\n",
       "<table border=\"1\" class=\"dataframe\">\n",
       "  <thead>\n",
       "    <tr style=\"text-align: right;\">\n",
       "      <th></th>\n",
       "      <th>Respondent</th>\n",
       "      <th>FormalEducation</th>\n",
       "      <th>EthicalImplications</th>\n",
       "      <th>Employment</th>\n",
       "      <th>EthicsReport</th>\n",
       "      <th>ConvertedSalary</th>\n",
       "    </tr>\n",
       "  </thead>\n",
       "  <tbody>\n",
       "    <tr>\n",
       "      <td>0</td>\n",
       "      <td>1</td>\n",
       "      <td>Bachelor’s degree (BA, BS, B.Eng., etc.)</td>\n",
       "      <td>Yes</td>\n",
       "      <td>Employed part-time</td>\n",
       "      <td>Yes, and publicly</td>\n",
       "      <td>NaN</td>\n",
       "    </tr>\n",
       "    <tr>\n",
       "      <td>1</td>\n",
       "      <td>3</td>\n",
       "      <td>Bachelor’s degree (BA, BS, B.Eng., etc.)</td>\n",
       "      <td>Yes</td>\n",
       "      <td>Employed full-time</td>\n",
       "      <td>Depends on what it is</td>\n",
       "      <td>70841.0</td>\n",
       "    </tr>\n",
       "    <tr>\n",
       "      <td>2</td>\n",
       "      <td>4</td>\n",
       "      <td>Associate degree</td>\n",
       "      <td>NaN</td>\n",
       "      <td>Employed full-time</td>\n",
       "      <td>NaN</td>\n",
       "      <td>NaN</td>\n",
       "    </tr>\n",
       "    <tr>\n",
       "      <td>3</td>\n",
       "      <td>5</td>\n",
       "      <td>Bachelor’s degree (BA, BS, B.Eng., etc.)</td>\n",
       "      <td>Yes</td>\n",
       "      <td>Employed full-time</td>\n",
       "      <td>Yes, but only within the company</td>\n",
       "      <td>NaN</td>\n",
       "    </tr>\n",
       "    <tr>\n",
       "      <td>4</td>\n",
       "      <td>7</td>\n",
       "      <td>Some college/university study without earning ...</td>\n",
       "      <td>Yes</td>\n",
       "      <td>Employed full-time</td>\n",
       "      <td>Yes, but only within the company</td>\n",
       "      <td>21426.0</td>\n",
       "    </tr>\n",
       "    <tr>\n",
       "      <td>...</td>\n",
       "      <td>...</td>\n",
       "      <td>...</td>\n",
       "      <td>...</td>\n",
       "      <td>...</td>\n",
       "      <td>...</td>\n",
       "      <td>...</td>\n",
       "    </tr>\n",
       "    <tr>\n",
       "      <td>98850</td>\n",
       "      <td>101513</td>\n",
       "      <td>NaN</td>\n",
       "      <td>NaN</td>\n",
       "      <td>NaN</td>\n",
       "      <td>NaN</td>\n",
       "      <td>NaN</td>\n",
       "    </tr>\n",
       "    <tr>\n",
       "      <td>98851</td>\n",
       "      <td>101531</td>\n",
       "      <td>NaN</td>\n",
       "      <td>NaN</td>\n",
       "      <td>Not employed, but looking for work</td>\n",
       "      <td>NaN</td>\n",
       "      <td>NaN</td>\n",
       "    </tr>\n",
       "    <tr>\n",
       "      <td>98852</td>\n",
       "      <td>101541</td>\n",
       "      <td>Bachelor’s degree (BA, BS, B.Eng., etc.)</td>\n",
       "      <td>NaN</td>\n",
       "      <td>Employed full-time</td>\n",
       "      <td>NaN</td>\n",
       "      <td>NaN</td>\n",
       "    </tr>\n",
       "    <tr>\n",
       "      <td>98853</td>\n",
       "      <td>101544</td>\n",
       "      <td>Some college/university study without earning ...</td>\n",
       "      <td>NaN</td>\n",
       "      <td>Independent contractor, freelancer, or self-em...</td>\n",
       "      <td>NaN</td>\n",
       "      <td>NaN</td>\n",
       "    </tr>\n",
       "    <tr>\n",
       "      <td>98854</td>\n",
       "      <td>101548</td>\n",
       "      <td>NaN</td>\n",
       "      <td>NaN</td>\n",
       "      <td>NaN</td>\n",
       "      <td>NaN</td>\n",
       "      <td>NaN</td>\n",
       "    </tr>\n",
       "  </tbody>\n",
       "</table>\n",
       "<p>98855 rows × 6 columns</p>\n",
       "</div>"
      ],
      "text/plain": [
       "       Respondent                                    FormalEducation  \\\n",
       "0               1           Bachelor’s degree (BA, BS, B.Eng., etc.)   \n",
       "1               3           Bachelor’s degree (BA, BS, B.Eng., etc.)   \n",
       "2               4                                   Associate degree   \n",
       "3               5           Bachelor’s degree (BA, BS, B.Eng., etc.)   \n",
       "4               7  Some college/university study without earning ...   \n",
       "...           ...                                                ...   \n",
       "98850      101513                                                NaN   \n",
       "98851      101531                                                NaN   \n",
       "98852      101541           Bachelor’s degree (BA, BS, B.Eng., etc.)   \n",
       "98853      101544  Some college/university study without earning ...   \n",
       "98854      101548                                                NaN   \n",
       "\n",
       "      EthicalImplications                                         Employment  \\\n",
       "0                     Yes                                 Employed part-time   \n",
       "1                     Yes                                 Employed full-time   \n",
       "2                     NaN                                 Employed full-time   \n",
       "3                     Yes                                 Employed full-time   \n",
       "4                     Yes                                 Employed full-time   \n",
       "...                   ...                                                ...   \n",
       "98850                 NaN                                                NaN   \n",
       "98851                 NaN                 Not employed, but looking for work   \n",
       "98852                 NaN                                 Employed full-time   \n",
       "98853                 NaN  Independent contractor, freelancer, or self-em...   \n",
       "98854                 NaN                                                NaN   \n",
       "\n",
       "                           EthicsReport  ConvertedSalary  \n",
       "0                     Yes, and publicly              NaN  \n",
       "1                 Depends on what it is          70841.0  \n",
       "2                                   NaN              NaN  \n",
       "3      Yes, but only within the company              NaN  \n",
       "4      Yes, but only within the company          21426.0  \n",
       "...                                 ...              ...  \n",
       "98850                               NaN              NaN  \n",
       "98851                               NaN              NaN  \n",
       "98852                               NaN              NaN  \n",
       "98853                               NaN              NaN  \n",
       "98854                               NaN              NaN  \n",
       "\n",
       "[98855 rows x 6 columns]"
      ]
     },
     "execution_count": 8,
     "metadata": {},
     "output_type": "execute_result"
    }
   ],
   "source": [
    "new_df"
   ]
  },
  {
   "cell_type": "markdown",
   "metadata": {},
   "source": [
    "Given this new table, we can now output to another csv which is purely for the columns we're interested in."
   ]
  },
  {
   "cell_type": "code",
   "execution_count": 9,
   "metadata": {},
   "outputs": [],
   "source": [
    "new_df.to_csv('survey_results_public_important.csv', index=False, encoding='utf-8')"
   ]
  },
  {
   "cell_type": "markdown",
   "metadata": {},
   "source": [
    "## Now we need to clean up the data. Only use entries that have ALL the fields entered"
   ]
  },
  {
   "cell_type": "code",
   "execution_count": 10,
   "metadata": {},
   "outputs": [],
   "source": [
    "cleaned_survey_results = new_df.copy().dropna()"
   ]
  },
  {
   "cell_type": "code",
   "execution_count": 11,
   "metadata": {},
   "outputs": [
    {
     "data": {
      "text/html": [
       "<div>\n",
       "<style scoped>\n",
       "    .dataframe tbody tr th:only-of-type {\n",
       "        vertical-align: middle;\n",
       "    }\n",
       "\n",
       "    .dataframe tbody tr th {\n",
       "        vertical-align: top;\n",
       "    }\n",
       "\n",
       "    .dataframe thead th {\n",
       "        text-align: right;\n",
       "    }\n",
       "</style>\n",
       "<table border=\"1\" class=\"dataframe\">\n",
       "  <thead>\n",
       "    <tr style=\"text-align: right;\">\n",
       "      <th></th>\n",
       "      <th>Respondent</th>\n",
       "      <th>FormalEducation</th>\n",
       "      <th>EthicalImplications</th>\n",
       "      <th>Employment</th>\n",
       "      <th>EthicsReport</th>\n",
       "      <th>ConvertedSalary</th>\n",
       "    </tr>\n",
       "  </thead>\n",
       "  <tbody>\n",
       "    <tr>\n",
       "      <td>1</td>\n",
       "      <td>3</td>\n",
       "      <td>Bachelor’s degree (BA, BS, B.Eng., etc.)</td>\n",
       "      <td>Yes</td>\n",
       "      <td>Employed full-time</td>\n",
       "      <td>Depends on what it is</td>\n",
       "      <td>70841.0</td>\n",
       "    </tr>\n",
       "    <tr>\n",
       "      <td>4</td>\n",
       "      <td>7</td>\n",
       "      <td>Some college/university study without earning ...</td>\n",
       "      <td>Yes</td>\n",
       "      <td>Employed full-time</td>\n",
       "      <td>Yes, but only within the company</td>\n",
       "      <td>21426.0</td>\n",
       "    </tr>\n",
       "    <tr>\n",
       "      <td>5</td>\n",
       "      <td>8</td>\n",
       "      <td>Bachelor’s degree (BA, BS, B.Eng., etc.)</td>\n",
       "      <td>Unsure / I don't know</td>\n",
       "      <td>Employed full-time</td>\n",
       "      <td>Depends on what it is</td>\n",
       "      <td>41671.0</td>\n",
       "    </tr>\n",
       "    <tr>\n",
       "      <td>6</td>\n",
       "      <td>9</td>\n",
       "      <td>Some college/university study without earning ...</td>\n",
       "      <td>Yes</td>\n",
       "      <td>Employed full-time</td>\n",
       "      <td>Yes, but only within the company</td>\n",
       "      <td>120000.0</td>\n",
       "    </tr>\n",
       "    <tr>\n",
       "      <td>8</td>\n",
       "      <td>11</td>\n",
       "      <td>Some college/university study without earning ...</td>\n",
       "      <td>Yes</td>\n",
       "      <td>Employed full-time</td>\n",
       "      <td>Yes, and publicly</td>\n",
       "      <td>250000.0</td>\n",
       "    </tr>\n",
       "    <tr>\n",
       "      <td>...</td>\n",
       "      <td>...</td>\n",
       "      <td>...</td>\n",
       "      <td>...</td>\n",
       "      <td>...</td>\n",
       "      <td>...</td>\n",
       "      <td>...</td>\n",
       "    </tr>\n",
       "    <tr>\n",
       "      <td>89932</td>\n",
       "      <td>99868</td>\n",
       "      <td>Bachelor’s degree (BA, BS, B.Eng., etc.)</td>\n",
       "      <td>Yes</td>\n",
       "      <td>Not employed, but looking for work</td>\n",
       "      <td>Yes, and publicly</td>\n",
       "      <td>97233.0</td>\n",
       "    </tr>\n",
       "    <tr>\n",
       "      <td>89946</td>\n",
       "      <td>100383</td>\n",
       "      <td>Secondary school (e.g. American high school, G...</td>\n",
       "      <td>Unsure / I don't know</td>\n",
       "      <td>Not employed, and not looking for work</td>\n",
       "      <td>Depends on what it is</td>\n",
       "      <td>0.0</td>\n",
       "    </tr>\n",
       "    <tr>\n",
       "      <td>89954</td>\n",
       "      <td>100743</td>\n",
       "      <td>Secondary school (e.g. American high school, G...</td>\n",
       "      <td>Yes</td>\n",
       "      <td>Not employed, and not looking for work</td>\n",
       "      <td>Depends on what it is</td>\n",
       "      <td>10284.0</td>\n",
       "    </tr>\n",
       "    <tr>\n",
       "      <td>89960</td>\n",
       "      <td>100927</td>\n",
       "      <td>Secondary school (e.g. American high school, G...</td>\n",
       "      <td>Unsure / I don't know</td>\n",
       "      <td>Employed full-time</td>\n",
       "      <td>Depends on what it is</td>\n",
       "      <td>0.0</td>\n",
       "    </tr>\n",
       "    <tr>\n",
       "      <td>89965</td>\n",
       "      <td>101115</td>\n",
       "      <td>Bachelor’s degree (BA, BS, B.Eng., etc.)</td>\n",
       "      <td>No</td>\n",
       "      <td>Not employed, but looking for work</td>\n",
       "      <td>Depends on what it is</td>\n",
       "      <td>0.0</td>\n",
       "    </tr>\n",
       "  </tbody>\n",
       "</table>\n",
       "<p>44563 rows × 6 columns</p>\n",
       "</div>"
      ],
      "text/plain": [
       "       Respondent                                    FormalEducation  \\\n",
       "1               3           Bachelor’s degree (BA, BS, B.Eng., etc.)   \n",
       "4               7  Some college/university study without earning ...   \n",
       "5               8           Bachelor’s degree (BA, BS, B.Eng., etc.)   \n",
       "6               9  Some college/university study without earning ...   \n",
       "8              11  Some college/university study without earning ...   \n",
       "...           ...                                                ...   \n",
       "89932       99868           Bachelor’s degree (BA, BS, B.Eng., etc.)   \n",
       "89946      100383  Secondary school (e.g. American high school, G...   \n",
       "89954      100743  Secondary school (e.g. American high school, G...   \n",
       "89960      100927  Secondary school (e.g. American high school, G...   \n",
       "89965      101115           Bachelor’s degree (BA, BS, B.Eng., etc.)   \n",
       "\n",
       "         EthicalImplications                              Employment  \\\n",
       "1                        Yes                      Employed full-time   \n",
       "4                        Yes                      Employed full-time   \n",
       "5      Unsure / I don't know                      Employed full-time   \n",
       "6                        Yes                      Employed full-time   \n",
       "8                        Yes                      Employed full-time   \n",
       "...                      ...                                     ...   \n",
       "89932                    Yes      Not employed, but looking for work   \n",
       "89946  Unsure / I don't know  Not employed, and not looking for work   \n",
       "89954                    Yes  Not employed, and not looking for work   \n",
       "89960  Unsure / I don't know                      Employed full-time   \n",
       "89965                     No      Not employed, but looking for work   \n",
       "\n",
       "                           EthicsReport  ConvertedSalary  \n",
       "1                 Depends on what it is          70841.0  \n",
       "4      Yes, but only within the company          21426.0  \n",
       "5                 Depends on what it is          41671.0  \n",
       "6      Yes, but only within the company         120000.0  \n",
       "8                     Yes, and publicly         250000.0  \n",
       "...                                 ...              ...  \n",
       "89932                 Yes, and publicly          97233.0  \n",
       "89946             Depends on what it is              0.0  \n",
       "89954             Depends on what it is          10284.0  \n",
       "89960             Depends on what it is              0.0  \n",
       "89965             Depends on what it is              0.0  \n",
       "\n",
       "[44563 rows x 6 columns]"
      ]
     },
     "execution_count": 11,
     "metadata": {},
     "output_type": "execute_result"
    }
   ],
   "source": [
    "cleaned_survey_results"
   ]
  },
  {
   "cell_type": "markdown",
   "metadata": {},
   "source": [
    "Well that was easy! I wasn't anticipating it to be such an easy command, but go Pandas!"
   ]
  },
  {
   "cell_type": "markdown",
   "metadata": {},
   "source": [
    "## Now, let's quantify the responses of each column\n",
    "Create a dictionary for each column\n",
    "\n",
    "'EducationParents', 'FormalEducation', 'EthicalImplications', 'Employment', 'EthicsReport', 'ConvertedSalary'"
   ]
  },
  {
   "cell_type": "code",
   "execution_count": 12,
   "metadata": {},
   "outputs": [],
   "source": [
    "quantified_survey_results = cleaned_survey_results.copy()"
   ]
  },
  {
   "cell_type": "markdown",
   "metadata": {},
   "source": [
    "### FormalEducation"
   ]
  },
  {
   "cell_type": "code",
   "execution_count": 13,
   "metadata": {},
   "outputs": [
    {
     "name": "stdout",
     "output_type": "stream",
     "text": [
      "['Bachelor’s degree (BA, BS, B.Eng., etc.)'\n",
      " 'Some college/university study without earning a degree'\n",
      " 'Secondary school (e.g. American high school, German Realschule or Gymnasium, etc.)'\n",
      " 'Master’s degree (MA, MS, M.Eng., MBA, etc.)' 'Associate degree'\n",
      " 'Professional degree (JD, MD, etc.)'\n",
      " 'Other doctoral degree (Ph.D, Ed.D., etc.)' 'Primary/elementary school'\n",
      " 'I never completed any formal education']\n"
     ]
    }
   ],
   "source": [
    "print(cleaned_survey_results['FormalEducation'].unique())"
   ]
  },
  {
   "cell_type": "code",
   "execution_count": 14,
   "metadata": {},
   "outputs": [
    {
     "name": "stdout",
     "output_type": "stream",
     "text": [
      "[5 2 1 6 4 8 7 0 3]\n"
     ]
    }
   ],
   "source": [
    "FormalEducation = {'Professional degree (JD, MD, etc.)': 8,\n",
    "                    'Other doctoral degree (Ph.D, Ed.D., etc.)': 7,\n",
    "                    'Master’s degree (MA, MS, M.Eng., MBA, etc.)': 6,\n",
    "                    'Bachelor’s degree (BA, BS, B.Eng., etc.)': 5,\n",
    "                    'Associate degree': 4,\n",
    "                    'They never completed any formal education': 3,\n",
    "                    'I never completed any formal education': 3,\n",
    "                    'Some college/university study without earning a degree': 2,\n",
    "                    'Secondary school (e.g. American high school, German Realschule or Gymnasium, etc.)': 1,\n",
    "                    'Primary/elementary school': 0}\n",
    "quantified_survey_results['FormalEducation'] = cleaned_survey_results['FormalEducation'].replace(FormalEducation)\n",
    "print(quantified_survey_results['FormalEducation'].unique())"
   ]
  },
  {
   "cell_type": "markdown",
   "metadata": {},
   "source": [
    "### EthicsImplications"
   ]
  },
  {
   "cell_type": "code",
   "execution_count": 15,
   "metadata": {},
   "outputs": [
    {
     "name": "stdout",
     "output_type": "stream",
     "text": [
      "['Yes' \"Unsure / I don't know\" 'No']\n"
     ]
    }
   ],
   "source": [
    "print(cleaned_survey_results['EthicalImplications'].unique())"
   ]
  },
  {
   "cell_type": "code",
   "execution_count": 16,
   "metadata": {},
   "outputs": [
    {
     "name": "stdout",
     "output_type": "stream",
     "text": [
      "['Employed full-time' 'Employed part-time'\n",
      " 'Independent contractor, freelancer, or self-employed'\n",
      " 'Not employed, and not looking for work'\n",
      " 'Not employed, but looking for work' 'Retired']\n"
     ]
    }
   ],
   "source": [
    "# Note: Will the negative number affect our results too much?\n",
    "\n",
    "EthicalImplications = {'Yes': 1, \n",
    "                        \"Unsure / I don't know\": 0,\n",
    "                      \"No\": -1}\n",
    "\n",
    "quantified_survey_results['EthicalImplications'] = cleaned_survey_results['EthicalImplications'].replace(EthicalImplications)\n",
    "print(quantified_survey_results['Employment'].unique())"
   ]
  },
  {
   "cell_type": "markdown",
   "metadata": {},
   "source": [
    "### Employment"
   ]
  },
  {
   "cell_type": "code",
   "execution_count": 17,
   "metadata": {},
   "outputs": [
    {
     "name": "stdout",
     "output_type": "stream",
     "text": [
      "[5 3 4 1 2 0]\n"
     ]
    }
   ],
   "source": [
    "# Note: This was the hardest one to quantify. Also I think we should ommit 'Retired' but I want to see what you all think\n",
    "\n",
    "Employment = {\"Employed full-time\": 5,\n",
    "                \"Independent contractor, freelancer, or self-employed\": 4,\n",
    "              'Employed part-time': 3,\n",
    "              'Not employed, but looking for work': 2,\n",
    "              'Not employed, and not looking for work': 1,\n",
    "              'Retired':0\n",
    "}\n",
    "\n",
    "quantified_survey_results['Employment'] = cleaned_survey_results['Employment'].replace(Employment)\n",
    "print(quantified_survey_results['Employment'].unique())"
   ]
  },
  {
   "cell_type": "markdown",
   "metadata": {},
   "source": [
    "### EthicsReport"
   ]
  },
  {
   "cell_type": "code",
   "execution_count": 18,
   "metadata": {},
   "outputs": [],
   "source": [
    "quantified_survey_results = quantified_survey_results[quantified_survey_results.EthicsReport != 'Depends on what it is']"
   ]
  },
  {
   "cell_type": "code",
   "execution_count": 19,
   "metadata": {},
   "outputs": [
    {
     "data": {
      "text/html": [
       "<div>\n",
       "<style scoped>\n",
       "    .dataframe tbody tr th:only-of-type {\n",
       "        vertical-align: middle;\n",
       "    }\n",
       "\n",
       "    .dataframe tbody tr th {\n",
       "        vertical-align: top;\n",
       "    }\n",
       "\n",
       "    .dataframe thead th {\n",
       "        text-align: right;\n",
       "    }\n",
       "</style>\n",
       "<table border=\"1\" class=\"dataframe\">\n",
       "  <thead>\n",
       "    <tr style=\"text-align: right;\">\n",
       "      <th></th>\n",
       "      <th>Respondent</th>\n",
       "      <th>FormalEducation</th>\n",
       "      <th>EthicalImplications</th>\n",
       "      <th>Employment</th>\n",
       "      <th>EthicsReport</th>\n",
       "      <th>ConvertedSalary</th>\n",
       "    </tr>\n",
       "  </thead>\n",
       "  <tbody>\n",
       "    <tr>\n",
       "      <td>4</td>\n",
       "      <td>7</td>\n",
       "      <td>2</td>\n",
       "      <td>1</td>\n",
       "      <td>5</td>\n",
       "      <td>Yes, but only within the company</td>\n",
       "      <td>21426.0</td>\n",
       "    </tr>\n",
       "    <tr>\n",
       "      <td>6</td>\n",
       "      <td>9</td>\n",
       "      <td>2</td>\n",
       "      <td>1</td>\n",
       "      <td>5</td>\n",
       "      <td>Yes, but only within the company</td>\n",
       "      <td>120000.0</td>\n",
       "    </tr>\n",
       "    <tr>\n",
       "      <td>8</td>\n",
       "      <td>11</td>\n",
       "      <td>2</td>\n",
       "      <td>1</td>\n",
       "      <td>5</td>\n",
       "      <td>Yes, and publicly</td>\n",
       "      <td>250000.0</td>\n",
       "    </tr>\n",
       "    <tr>\n",
       "      <td>14</td>\n",
       "      <td>21</td>\n",
       "      <td>1</td>\n",
       "      <td>1</td>\n",
       "      <td>5</td>\n",
       "      <td>Yes, and publicly</td>\n",
       "      <td>0.0</td>\n",
       "    </tr>\n",
       "    <tr>\n",
       "      <td>17</td>\n",
       "      <td>27</td>\n",
       "      <td>6</td>\n",
       "      <td>1</td>\n",
       "      <td>5</td>\n",
       "      <td>Yes, and publicly</td>\n",
       "      <td>47904.0</td>\n",
       "    </tr>\n",
       "    <tr>\n",
       "      <td>...</td>\n",
       "      <td>...</td>\n",
       "      <td>...</td>\n",
       "      <td>...</td>\n",
       "      <td>...</td>\n",
       "      <td>...</td>\n",
       "      <td>...</td>\n",
       "    </tr>\n",
       "    <tr>\n",
       "      <td>89898</td>\n",
       "      <td>98419</td>\n",
       "      <td>5</td>\n",
       "      <td>0</td>\n",
       "      <td>3</td>\n",
       "      <td>Yes, and publicly</td>\n",
       "      <td>4548.0</td>\n",
       "    </tr>\n",
       "    <tr>\n",
       "      <td>89913</td>\n",
       "      <td>98833</td>\n",
       "      <td>8</td>\n",
       "      <td>1</td>\n",
       "      <td>2</td>\n",
       "      <td>Yes, and publicly</td>\n",
       "      <td>25788.0</td>\n",
       "    </tr>\n",
       "    <tr>\n",
       "      <td>89922</td>\n",
       "      <td>99355</td>\n",
       "      <td>1</td>\n",
       "      <td>1</td>\n",
       "      <td>1</td>\n",
       "      <td>Yes, but only within the company</td>\n",
       "      <td>0.0</td>\n",
       "    </tr>\n",
       "    <tr>\n",
       "      <td>89925</td>\n",
       "      <td>99477</td>\n",
       "      <td>1</td>\n",
       "      <td>0</td>\n",
       "      <td>1</td>\n",
       "      <td>Yes, and publicly</td>\n",
       "      <td>0.0</td>\n",
       "    </tr>\n",
       "    <tr>\n",
       "      <td>89932</td>\n",
       "      <td>99868</td>\n",
       "      <td>5</td>\n",
       "      <td>1</td>\n",
       "      <td>2</td>\n",
       "      <td>Yes, and publicly</td>\n",
       "      <td>97233.0</td>\n",
       "    </tr>\n",
       "  </tbody>\n",
       "</table>\n",
       "<p>24215 rows × 6 columns</p>\n",
       "</div>"
      ],
      "text/plain": [
       "       Respondent  FormalEducation  EthicalImplications  Employment  \\\n",
       "4               7                2                    1           5   \n",
       "6               9                2                    1           5   \n",
       "8              11                2                    1           5   \n",
       "14             21                1                    1           5   \n",
       "17             27                6                    1           5   \n",
       "...           ...              ...                  ...         ...   \n",
       "89898       98419                5                    0           3   \n",
       "89913       98833                8                    1           2   \n",
       "89922       99355                1                    1           1   \n",
       "89925       99477                1                    0           1   \n",
       "89932       99868                5                    1           2   \n",
       "\n",
       "                           EthicsReport  ConvertedSalary  \n",
       "4      Yes, but only within the company          21426.0  \n",
       "6      Yes, but only within the company         120000.0  \n",
       "8                     Yes, and publicly         250000.0  \n",
       "14                    Yes, and publicly              0.0  \n",
       "17                    Yes, and publicly          47904.0  \n",
       "...                                 ...              ...  \n",
       "89898                 Yes, and publicly           4548.0  \n",
       "89913                 Yes, and publicly          25788.0  \n",
       "89922  Yes, but only within the company              0.0  \n",
       "89925                 Yes, and publicly              0.0  \n",
       "89932                 Yes, and publicly          97233.0  \n",
       "\n",
       "[24215 rows x 6 columns]"
      ]
     },
     "execution_count": 19,
     "metadata": {},
     "output_type": "execute_result"
    }
   ],
   "source": [
    "quantified_survey_results"
   ]
  },
  {
   "cell_type": "code",
   "execution_count": 20,
   "metadata": {},
   "outputs": [],
   "source": [
    "Report = {\"Yes, but only within the company\":1, \n",
    "          \"Yes, and publicly\":1, \n",
    "          \"No\":0\n",
    "         }\n",
    "\n",
    "quantified_survey_results['EthicsReport'] = quantified_survey_results['EthicsReport'].replace(Report)"
   ]
  },
  {
   "cell_type": "code",
   "execution_count": 21,
   "metadata": {},
   "outputs": [
    {
     "data": {
      "text/html": [
       "<div>\n",
       "<style scoped>\n",
       "    .dataframe tbody tr th:only-of-type {\n",
       "        vertical-align: middle;\n",
       "    }\n",
       "\n",
       "    .dataframe tbody tr th {\n",
       "        vertical-align: top;\n",
       "    }\n",
       "\n",
       "    .dataframe thead th {\n",
       "        text-align: right;\n",
       "    }\n",
       "</style>\n",
       "<table border=\"1\" class=\"dataframe\">\n",
       "  <thead>\n",
       "    <tr style=\"text-align: right;\">\n",
       "      <th></th>\n",
       "      <th>Respondent</th>\n",
       "      <th>FormalEducation</th>\n",
       "      <th>EthicalImplications</th>\n",
       "      <th>Employment</th>\n",
       "      <th>EthicsReport</th>\n",
       "      <th>ConvertedSalary</th>\n",
       "    </tr>\n",
       "  </thead>\n",
       "  <tbody>\n",
       "    <tr>\n",
       "      <td>4</td>\n",
       "      <td>7</td>\n",
       "      <td>2</td>\n",
       "      <td>1</td>\n",
       "      <td>5</td>\n",
       "      <td>1</td>\n",
       "      <td>21426.0</td>\n",
       "    </tr>\n",
       "    <tr>\n",
       "      <td>6</td>\n",
       "      <td>9</td>\n",
       "      <td>2</td>\n",
       "      <td>1</td>\n",
       "      <td>5</td>\n",
       "      <td>1</td>\n",
       "      <td>120000.0</td>\n",
       "    </tr>\n",
       "    <tr>\n",
       "      <td>8</td>\n",
       "      <td>11</td>\n",
       "      <td>2</td>\n",
       "      <td>1</td>\n",
       "      <td>5</td>\n",
       "      <td>1</td>\n",
       "      <td>250000.0</td>\n",
       "    </tr>\n",
       "    <tr>\n",
       "      <td>14</td>\n",
       "      <td>21</td>\n",
       "      <td>1</td>\n",
       "      <td>1</td>\n",
       "      <td>5</td>\n",
       "      <td>1</td>\n",
       "      <td>0.0</td>\n",
       "    </tr>\n",
       "    <tr>\n",
       "      <td>17</td>\n",
       "      <td>27</td>\n",
       "      <td>6</td>\n",
       "      <td>1</td>\n",
       "      <td>5</td>\n",
       "      <td>1</td>\n",
       "      <td>47904.0</td>\n",
       "    </tr>\n",
       "    <tr>\n",
       "      <td>...</td>\n",
       "      <td>...</td>\n",
       "      <td>...</td>\n",
       "      <td>...</td>\n",
       "      <td>...</td>\n",
       "      <td>...</td>\n",
       "      <td>...</td>\n",
       "    </tr>\n",
       "    <tr>\n",
       "      <td>89898</td>\n",
       "      <td>98419</td>\n",
       "      <td>5</td>\n",
       "      <td>0</td>\n",
       "      <td>3</td>\n",
       "      <td>1</td>\n",
       "      <td>4548.0</td>\n",
       "    </tr>\n",
       "    <tr>\n",
       "      <td>89913</td>\n",
       "      <td>98833</td>\n",
       "      <td>8</td>\n",
       "      <td>1</td>\n",
       "      <td>2</td>\n",
       "      <td>1</td>\n",
       "      <td>25788.0</td>\n",
       "    </tr>\n",
       "    <tr>\n",
       "      <td>89922</td>\n",
       "      <td>99355</td>\n",
       "      <td>1</td>\n",
       "      <td>1</td>\n",
       "      <td>1</td>\n",
       "      <td>1</td>\n",
       "      <td>0.0</td>\n",
       "    </tr>\n",
       "    <tr>\n",
       "      <td>89925</td>\n",
       "      <td>99477</td>\n",
       "      <td>1</td>\n",
       "      <td>0</td>\n",
       "      <td>1</td>\n",
       "      <td>1</td>\n",
       "      <td>0.0</td>\n",
       "    </tr>\n",
       "    <tr>\n",
       "      <td>89932</td>\n",
       "      <td>99868</td>\n",
       "      <td>5</td>\n",
       "      <td>1</td>\n",
       "      <td>2</td>\n",
       "      <td>1</td>\n",
       "      <td>97233.0</td>\n",
       "    </tr>\n",
       "  </tbody>\n",
       "</table>\n",
       "<p>24215 rows × 6 columns</p>\n",
       "</div>"
      ],
      "text/plain": [
       "       Respondent  FormalEducation  EthicalImplications  Employment  \\\n",
       "4               7                2                    1           5   \n",
       "6               9                2                    1           5   \n",
       "8              11                2                    1           5   \n",
       "14             21                1                    1           5   \n",
       "17             27                6                    1           5   \n",
       "...           ...              ...                  ...         ...   \n",
       "89898       98419                5                    0           3   \n",
       "89913       98833                8                    1           2   \n",
       "89922       99355                1                    1           1   \n",
       "89925       99477                1                    0           1   \n",
       "89932       99868                5                    1           2   \n",
       "\n",
       "       EthicsReport  ConvertedSalary  \n",
       "4                 1          21426.0  \n",
       "6                 1         120000.0  \n",
       "8                 1         250000.0  \n",
       "14                1              0.0  \n",
       "17                1          47904.0  \n",
       "...             ...              ...  \n",
       "89898             1           4548.0  \n",
       "89913             1          25788.0  \n",
       "89922             1              0.0  \n",
       "89925             1              0.0  \n",
       "89932             1          97233.0  \n",
       "\n",
       "[24215 rows x 6 columns]"
      ]
     },
     "execution_count": 21,
     "metadata": {},
     "output_type": "execute_result"
    }
   ],
   "source": [
    "quantified_survey_results"
   ]
  },
  {
   "cell_type": "markdown",
   "metadata": {},
   "source": [
    "### ConvertedSalary"
   ]
  },
  {
   "cell_type": "code",
   "execution_count": 22,
   "metadata": {},
   "outputs": [
    {
     "name": "stdout",
     "output_type": "stream",
     "text": [
      "[ 21426. 120000. 250000. ...    400.   1050.   1584.]\n"
     ]
    }
   ],
   "source": [
    "print(quantified_survey_results['ConvertedSalary'].unique())"
   ]
  },
  {
   "cell_type": "code",
   "execution_count": 23,
   "metadata": {},
   "outputs": [],
   "source": [
    "# quantified_survey_results.to_csv('quantified.csv', index=False, encoding='utf-8')"
   ]
  },
  {
   "cell_type": "code",
   "execution_count": 24,
   "metadata": {},
   "outputs": [
    {
     "data": {
      "text/plain": [
       "2000000.0"
      ]
     },
     "execution_count": 24,
     "metadata": {},
     "output_type": "execute_result"
    }
   ],
   "source": [
    "quantified_survey_results['ConvertedSalary'].max()"
   ]
  },
  {
   "cell_type": "code",
   "execution_count": 25,
   "metadata": {},
   "outputs": [
    {
     "data": {
      "text/plain": [
       "0.0"
      ]
     },
     "execution_count": 25,
     "metadata": {},
     "output_type": "execute_result"
    }
   ],
   "source": [
    "quantified_survey_results['ConvertedSalary'].min()"
   ]
  },
  {
   "cell_type": "code",
   "execution_count": 26,
   "metadata": {},
   "outputs": [],
   "source": [
    "salary_bins = [0, 10000,40000,80000,160000,200000,500000,2000000]"
   ]
  },
  {
   "cell_type": "code",
   "execution_count": 27,
   "metadata": {},
   "outputs": [],
   "source": [
    "quantified_survey_results['ConvertedSalary'] = pd.cut(x=quantified_survey_results['ConvertedSalary'], bins = salary_bins, include_lowest=True, labels=[0,1,2,3,4,5,6])"
   ]
  },
  {
   "cell_type": "code",
   "execution_count": 28,
   "metadata": {},
   "outputs": [
    {
     "data": {
      "text/html": [
       "<div>\n",
       "<style scoped>\n",
       "    .dataframe tbody tr th:only-of-type {\n",
       "        vertical-align: middle;\n",
       "    }\n",
       "\n",
       "    .dataframe tbody tr th {\n",
       "        vertical-align: top;\n",
       "    }\n",
       "\n",
       "    .dataframe thead th {\n",
       "        text-align: right;\n",
       "    }\n",
       "</style>\n",
       "<table border=\"1\" class=\"dataframe\">\n",
       "  <thead>\n",
       "    <tr style=\"text-align: right;\">\n",
       "      <th></th>\n",
       "      <th>Respondent</th>\n",
       "      <th>FormalEducation</th>\n",
       "      <th>EthicalImplications</th>\n",
       "      <th>Employment</th>\n",
       "      <th>EthicsReport</th>\n",
       "      <th>ConvertedSalary</th>\n",
       "    </tr>\n",
       "  </thead>\n",
       "  <tbody>\n",
       "    <tr>\n",
       "      <td>4</td>\n",
       "      <td>7</td>\n",
       "      <td>2</td>\n",
       "      <td>1</td>\n",
       "      <td>5</td>\n",
       "      <td>1</td>\n",
       "      <td>1</td>\n",
       "    </tr>\n",
       "    <tr>\n",
       "      <td>6</td>\n",
       "      <td>9</td>\n",
       "      <td>2</td>\n",
       "      <td>1</td>\n",
       "      <td>5</td>\n",
       "      <td>1</td>\n",
       "      <td>3</td>\n",
       "    </tr>\n",
       "    <tr>\n",
       "      <td>8</td>\n",
       "      <td>11</td>\n",
       "      <td>2</td>\n",
       "      <td>1</td>\n",
       "      <td>5</td>\n",
       "      <td>1</td>\n",
       "      <td>5</td>\n",
       "    </tr>\n",
       "    <tr>\n",
       "      <td>14</td>\n",
       "      <td>21</td>\n",
       "      <td>1</td>\n",
       "      <td>1</td>\n",
       "      <td>5</td>\n",
       "      <td>1</td>\n",
       "      <td>0</td>\n",
       "    </tr>\n",
       "    <tr>\n",
       "      <td>17</td>\n",
       "      <td>27</td>\n",
       "      <td>6</td>\n",
       "      <td>1</td>\n",
       "      <td>5</td>\n",
       "      <td>1</td>\n",
       "      <td>2</td>\n",
       "    </tr>\n",
       "    <tr>\n",
       "      <td>...</td>\n",
       "      <td>...</td>\n",
       "      <td>...</td>\n",
       "      <td>...</td>\n",
       "      <td>...</td>\n",
       "      <td>...</td>\n",
       "      <td>...</td>\n",
       "    </tr>\n",
       "    <tr>\n",
       "      <td>89898</td>\n",
       "      <td>98419</td>\n",
       "      <td>5</td>\n",
       "      <td>0</td>\n",
       "      <td>3</td>\n",
       "      <td>1</td>\n",
       "      <td>0</td>\n",
       "    </tr>\n",
       "    <tr>\n",
       "      <td>89913</td>\n",
       "      <td>98833</td>\n",
       "      <td>8</td>\n",
       "      <td>1</td>\n",
       "      <td>2</td>\n",
       "      <td>1</td>\n",
       "      <td>1</td>\n",
       "    </tr>\n",
       "    <tr>\n",
       "      <td>89922</td>\n",
       "      <td>99355</td>\n",
       "      <td>1</td>\n",
       "      <td>1</td>\n",
       "      <td>1</td>\n",
       "      <td>1</td>\n",
       "      <td>0</td>\n",
       "    </tr>\n",
       "    <tr>\n",
       "      <td>89925</td>\n",
       "      <td>99477</td>\n",
       "      <td>1</td>\n",
       "      <td>0</td>\n",
       "      <td>1</td>\n",
       "      <td>1</td>\n",
       "      <td>0</td>\n",
       "    </tr>\n",
       "    <tr>\n",
       "      <td>89932</td>\n",
       "      <td>99868</td>\n",
       "      <td>5</td>\n",
       "      <td>1</td>\n",
       "      <td>2</td>\n",
       "      <td>1</td>\n",
       "      <td>3</td>\n",
       "    </tr>\n",
       "  </tbody>\n",
       "</table>\n",
       "<p>24215 rows × 6 columns</p>\n",
       "</div>"
      ],
      "text/plain": [
       "       Respondent  FormalEducation  EthicalImplications  Employment  \\\n",
       "4               7                2                    1           5   \n",
       "6               9                2                    1           5   \n",
       "8              11                2                    1           5   \n",
       "14             21                1                    1           5   \n",
       "17             27                6                    1           5   \n",
       "...           ...              ...                  ...         ...   \n",
       "89898       98419                5                    0           3   \n",
       "89913       98833                8                    1           2   \n",
       "89922       99355                1                    1           1   \n",
       "89925       99477                1                    0           1   \n",
       "89932       99868                5                    1           2   \n",
       "\n",
       "       EthicsReport ConvertedSalary  \n",
       "4                 1               1  \n",
       "6                 1               3  \n",
       "8                 1               5  \n",
       "14                1               0  \n",
       "17                1               2  \n",
       "...             ...             ...  \n",
       "89898             1               0  \n",
       "89913             1               1  \n",
       "89922             1               0  \n",
       "89925             1               0  \n",
       "89932             1               3  \n",
       "\n",
       "[24215 rows x 6 columns]"
      ]
     },
     "execution_count": 28,
     "metadata": {},
     "output_type": "execute_result"
    }
   ],
   "source": [
    "quantified_survey_results"
   ]
  },
  {
   "cell_type": "markdown",
   "metadata": {},
   "source": [
    "## Histograms"
   ]
  },
  {
   "cell_type": "code",
   "execution_count": 29,
   "metadata": {},
   "outputs": [],
   "source": [
    "def make_histogram(column_name, num_bins=False):\n",
    "    if not num_bins:\n",
    "        num_bins = len(quantified_survey_results[column_name].unique())\n",
    "    hist = quantified_survey_results[column_name].hist(bins=num_bins, )\n",
    "    hist.set_title(column_name)\n",
    "    return hist"
   ]
  },
  {
   "cell_type": "code",
   "execution_count": 72,
   "metadata": {},
   "outputs": [
    {
     "data": {
      "text/plain": [
       "<matplotlib.axes._subplots.AxesSubplot at 0x12005a510>"
      ]
     },
     "execution_count": 72,
     "metadata": {},
     "output_type": "execute_result"
    },
    {
     "data": {
      "image/png": "[encoded data removed]",
      "text/plain": [
       "<Figure size 432x288 with 1 Axes>"
      ]
     },
     "metadata": {
      "needs_background": "light"
     },
     "output_type": "display_data"
    }
   ],
   "source": [
    "make_histogram('FormalEducation')"
   ]
  },
  {
   "cell_type": "code",
   "execution_count": 31,
   "metadata": {},
   "outputs": [
    {
     "data": {
      "text/plain": [
       "<matplotlib.axes._subplots.AxesSubplot at 0x11f2960d0>"
      ]
     },
     "execution_count": 31,
     "metadata": {},
     "output_type": "execute_result"
    },
    {
     "data": {
      "image/png": "[encoded data removed]",
      "text/plain": [
       "<Figure size 432x288 with 1 Axes>"
      ]
     },
     "metadata": {
      "needs_background": "light"
     },
     "output_type": "display_data"
    }
   ],
   "source": [
    "make_histogram('EthicalImplications')"
   ]
  },
  {
   "cell_type": "code",
   "execution_count": 32,
   "metadata": {},
   "outputs": [
    {
     "data": {
      "text/plain": [
       "<matplotlib.axes._subplots.AxesSubplot at 0x11f2c4590>"
      ]
     },
     "execution_count": 32,
     "metadata": {},
     "output_type": "execute_result"
    },
    {
     "data": {
      "image/png": "[encoded data removed]",
      "text/plain": [
       "<Figure size 432x288 with 1 Axes>"
      ]
     },
     "metadata": {
      "needs_background": "light"
     },
     "output_type": "display_data"
    }
   ],
   "source": [
    "make_histogram('Employment')"
   ]
  },
  {
   "cell_type": "code",
   "execution_count": 33,
   "metadata": {},
   "outputs": [
    {
     "data": {
      "text/plain": [
       "<matplotlib.axes._subplots.AxesSubplot at 0x11f3bd490>"
      ]
     },
     "execution_count": 33,
     "metadata": {},
     "output_type": "execute_result"
    },
    {
     "data": {
      "image/png": "[encoded data removed]",
      "text/plain": [
       "<Figure size 432x288 with 1 Axes>"
      ]
     },
     "metadata": {
      "needs_background": "light"
     },
     "output_type": "display_data"
    }
   ],
   "source": [
    "make_histogram('EthicsReport')"
   ]
  },
  {
   "cell_type": "code",
   "execution_count": 34,
   "metadata": {},
   "outputs": [
    {
     "data": {
      "text/plain": [
       "<matplotlib.axes._subplots.AxesSubplot at 0x11f4a0190>"
      ]
     },
     "execution_count": 34,
     "metadata": {},
     "output_type": "execute_result"
    },
    {
     "data": {
      "image/png": "[encoded data removed]",
      "text/plain": [
       "<Figure size 432x288 with 1 Axes>"
      ]
     },
     "metadata": {
      "needs_background": "light"
     },
     "output_type": "display_data"
    }
   ],
   "source": [
    "make_histogram('ConvertedSalary')"
   ]
  },
  {
   "cell_type": "markdown",
   "metadata": {},
   "source": [
    "## Get the results of a specific row"
   ]
  },
  {
   "cell_type": "code",
   "execution_count": 35,
   "metadata": {},
   "outputs": [
    {
     "data": {
      "text/plain": [
       "Respondent             7\n",
       "FormalEducation        2\n",
       "EthicalImplications    1\n",
       "Employment             5\n",
       "EthicsReport           1\n",
       "ConvertedSalary        1\n",
       "Name: 4, dtype: object"
      ]
     },
     "execution_count": 35,
     "metadata": {},
     "output_type": "execute_result"
    }
   ],
   "source": [
    "quantified_survey_results.iloc[0]"
   ]
  },
  {
   "cell_type": "markdown",
   "metadata": {},
   "source": [
    "## Stratifying"
   ]
  },
  {
   "cell_type": "code",
   "execution_count": 36,
   "metadata": {},
   "outputs": [],
   "source": [
    "stratified = quantified_survey_results.copy()\n",
    "stratified = stratified.drop(columns=[\"Respondent\"])\n",
    "stratified = stratified.groupby(['FormalEducation', 'EthicalImplications'])"
   ]
  },
  {
   "cell_type": "markdown",
   "metadata": {},
   "source": [
    "### Here is the mean of each strata"
   ]
  },
  {
   "cell_type": "code",
   "execution_count": 37,
   "metadata": {},
   "outputs": [
    {
     "data": {
      "text/html": [
       "<div>\n",
       "<style scoped>\n",
       "    .dataframe tbody tr th:only-of-type {\n",
       "        vertical-align: middle;\n",
       "    }\n",
       "\n",
       "    .dataframe tbody tr th {\n",
       "        vertical-align: top;\n",
       "    }\n",
       "\n",
       "    .dataframe thead th {\n",
       "        text-align: right;\n",
       "    }\n",
       "</style>\n",
       "<table border=\"1\" class=\"dataframe\">\n",
       "  <thead>\n",
       "    <tr style=\"text-align: right;\">\n",
       "      <th></th>\n",
       "      <th></th>\n",
       "      <th>Employment</th>\n",
       "      <th>EthicsReport</th>\n",
       "    </tr>\n",
       "    <tr>\n",
       "      <th>FormalEducation</th>\n",
       "      <th>EthicalImplications</th>\n",
       "      <th></th>\n",
       "      <th></th>\n",
       "    </tr>\n",
       "  </thead>\n",
       "  <tbody>\n",
       "    <tr>\n",
       "      <td rowspan=\"3\" valign=\"top\">0</td>\n",
       "      <td>-1</td>\n",
       "      <td>3.437500</td>\n",
       "      <td>0.437500</td>\n",
       "    </tr>\n",
       "    <tr>\n",
       "      <td>0</td>\n",
       "      <td>2.857143</td>\n",
       "      <td>0.809524</td>\n",
       "    </tr>\n",
       "    <tr>\n",
       "      <td>1</td>\n",
       "      <td>3.618056</td>\n",
       "      <td>0.923611</td>\n",
       "    </tr>\n",
       "    <tr>\n",
       "      <td rowspan=\"3\" valign=\"top\">1</td>\n",
       "      <td>-1</td>\n",
       "      <td>3.968000</td>\n",
       "      <td>0.584000</td>\n",
       "    </tr>\n",
       "    <tr>\n",
       "      <td>0</td>\n",
       "      <td>3.950355</td>\n",
       "      <td>0.822695</td>\n",
       "    </tr>\n",
       "    <tr>\n",
       "      <td>1</td>\n",
       "      <td>4.069456</td>\n",
       "      <td>0.948954</td>\n",
       "    </tr>\n",
       "    <tr>\n",
       "      <td rowspan=\"3\" valign=\"top\">2</td>\n",
       "      <td>-1</td>\n",
       "      <td>4.491620</td>\n",
       "      <td>0.603352</td>\n",
       "    </tr>\n",
       "    <tr>\n",
       "      <td>0</td>\n",
       "      <td>4.536170</td>\n",
       "      <td>0.825532</td>\n",
       "    </tr>\n",
       "    <tr>\n",
       "      <td>1</td>\n",
       "      <td>4.597697</td>\n",
       "      <td>0.960461</td>\n",
       "    </tr>\n",
       "    <tr>\n",
       "      <td rowspan=\"3\" valign=\"top\">3</td>\n",
       "      <td>-1</td>\n",
       "      <td>3.875000</td>\n",
       "      <td>1.000000</td>\n",
       "    </tr>\n",
       "    <tr>\n",
       "      <td>0</td>\n",
       "      <td>3.750000</td>\n",
       "      <td>0.833333</td>\n",
       "    </tr>\n",
       "    <tr>\n",
       "      <td>1</td>\n",
       "      <td>4.324324</td>\n",
       "      <td>0.945946</td>\n",
       "    </tr>\n",
       "    <tr>\n",
       "      <td rowspan=\"3\" valign=\"top\">4</td>\n",
       "      <td>-1</td>\n",
       "      <td>4.837209</td>\n",
       "      <td>0.674419</td>\n",
       "    </tr>\n",
       "    <tr>\n",
       "      <td>0</td>\n",
       "      <td>4.633333</td>\n",
       "      <td>0.816667</td>\n",
       "    </tr>\n",
       "    <tr>\n",
       "      <td>1</td>\n",
       "      <td>4.671254</td>\n",
       "      <td>0.952599</td>\n",
       "    </tr>\n",
       "    <tr>\n",
       "      <td rowspan=\"3\" valign=\"top\">5</td>\n",
       "      <td>-1</td>\n",
       "      <td>4.709677</td>\n",
       "      <td>0.683871</td>\n",
       "    </tr>\n",
       "    <tr>\n",
       "      <td>0</td>\n",
       "      <td>4.758422</td>\n",
       "      <td>0.875842</td>\n",
       "    </tr>\n",
       "    <tr>\n",
       "      <td>1</td>\n",
       "      <td>4.804613</td>\n",
       "      <td>0.957259</td>\n",
       "    </tr>\n",
       "    <tr>\n",
       "      <td rowspan=\"3\" valign=\"top\">6</td>\n",
       "      <td>-1</td>\n",
       "      <td>4.796178</td>\n",
       "      <td>0.707006</td>\n",
       "    </tr>\n",
       "    <tr>\n",
       "      <td>0</td>\n",
       "      <td>4.831633</td>\n",
       "      <td>0.846939</td>\n",
       "    </tr>\n",
       "    <tr>\n",
       "      <td>1</td>\n",
       "      <td>4.797458</td>\n",
       "      <td>0.954490</td>\n",
       "    </tr>\n",
       "    <tr>\n",
       "      <td rowspan=\"3\" valign=\"top\">7</td>\n",
       "      <td>-1</td>\n",
       "      <td>4.923077</td>\n",
       "      <td>0.461538</td>\n",
       "    </tr>\n",
       "    <tr>\n",
       "      <td>0</td>\n",
       "      <td>4.735294</td>\n",
       "      <td>0.882353</td>\n",
       "    </tr>\n",
       "    <tr>\n",
       "      <td>1</td>\n",
       "      <td>4.833333</td>\n",
       "      <td>0.965636</td>\n",
       "    </tr>\n",
       "    <tr>\n",
       "      <td rowspan=\"3\" valign=\"top\">8</td>\n",
       "      <td>-1</td>\n",
       "      <td>4.869565</td>\n",
       "      <td>0.608696</td>\n",
       "    </tr>\n",
       "    <tr>\n",
       "      <td>0</td>\n",
       "      <td>4.883721</td>\n",
       "      <td>0.883721</td>\n",
       "    </tr>\n",
       "    <tr>\n",
       "      <td>1</td>\n",
       "      <td>4.680672</td>\n",
       "      <td>0.894958</td>\n",
       "    </tr>\n",
       "  </tbody>\n",
       "</table>\n",
       "</div>"
      ],
      "text/plain": [
       "                                     Employment  EthicsReport\n",
       "FormalEducation EthicalImplications                          \n",
       "0               -1                     3.437500      0.437500\n",
       "                 0                     2.857143      0.809524\n",
       "                 1                     3.618056      0.923611\n",
       "1               -1                     3.968000      0.584000\n",
       "                 0                     3.950355      0.822695\n",
       "                 1                     4.069456      0.948954\n",
       "2               -1                     4.491620      0.603352\n",
       "                 0                     4.536170      0.825532\n",
       "                 1                     4.597697      0.960461\n",
       "3               -1                     3.875000      1.000000\n",
       "                 0                     3.750000      0.833333\n",
       "                 1                     4.324324      0.945946\n",
       "4               -1                     4.837209      0.674419\n",
       "                 0                     4.633333      0.816667\n",
       "                 1                     4.671254      0.952599\n",
       "5               -1                     4.709677      0.683871\n",
       "                 0                     4.758422      0.875842\n",
       "                 1                     4.804613      0.957259\n",
       "6               -1                     4.796178      0.707006\n",
       "                 0                     4.831633      0.846939\n",
       "                 1                     4.797458      0.954490\n",
       "7               -1                     4.923077      0.461538\n",
       "                 0                     4.735294      0.882353\n",
       "                 1                     4.833333      0.965636\n",
       "8               -1                     4.869565      0.608696\n",
       "                 0                     4.883721      0.883721\n",
       "                 1                     4.680672      0.894958"
      ]
     },
     "execution_count": 37,
     "metadata": {},
     "output_type": "execute_result"
    }
   ],
   "source": [
    "stratified.mean()"
   ]
  },
  {
   "cell_type": "markdown",
   "metadata": {},
   "source": [
    "Here's a histogram of the mean"
   ]
  },
  {
   "cell_type": "code",
   "execution_count": 38,
   "metadata": {},
   "outputs": [
    {
     "data": {
      "text/plain": [
       "array([[<matplotlib.axes._subplots.AxesSubplot object at 0x11f5f6e50>,\n",
       "        <matplotlib.axes._subplots.AxesSubplot object at 0x11f87c510>]],\n",
       "      dtype=object)"
      ]
     },
     "execution_count": 38,
     "metadata": {},
     "output_type": "execute_result"
    },
    {
     "data": {
      "image/png": "[encoded data removed]",
      "text/plain": [
       "<Figure size 432x288 with 2 Axes>"
      ]
     },
     "metadata": {
      "needs_background": "light"
     },
     "output_type": "display_data"
    }
   ],
   "source": [
    "stratified.mean().hist()"
   ]
  },
  {
   "cell_type": "code",
   "execution_count": 39,
   "metadata": {},
   "outputs": [],
   "source": [
    "# stratified.mean().to_csv('stratified_mean.csv', index=True, encoding='utf-8')"
   ]
  },
  {
   "cell_type": "markdown",
   "metadata": {},
   "source": [
    "### Getting a specific stata"
   ]
  },
  {
   "cell_type": "code",
   "execution_count": 40,
   "metadata": {},
   "outputs": [
    {
     "data": {
      "text/html": [
       "<div>\n",
       "<style scoped>\n",
       "    .dataframe tbody tr th:only-of-type {\n",
       "        vertical-align: middle;\n",
       "    }\n",
       "\n",
       "    .dataframe tbody tr th {\n",
       "        vertical-align: top;\n",
       "    }\n",
       "\n",
       "    .dataframe thead th {\n",
       "        text-align: right;\n",
       "    }\n",
       "</style>\n",
       "<table border=\"1\" class=\"dataframe\">\n",
       "  <thead>\n",
       "    <tr style=\"text-align: right;\">\n",
       "      <th></th>\n",
       "      <th>FormalEducation</th>\n",
       "      <th>EthicalImplications</th>\n",
       "      <th>Employment</th>\n",
       "      <th>EthicsReport</th>\n",
       "      <th>ConvertedSalary</th>\n",
       "    </tr>\n",
       "  </thead>\n",
       "  <tbody>\n",
       "    <tr>\n",
       "      <td>14</td>\n",
       "      <td>1</td>\n",
       "      <td>1</td>\n",
       "      <td>5</td>\n",
       "      <td>1</td>\n",
       "      <td>0</td>\n",
       "    </tr>\n",
       "    <tr>\n",
       "      <td>160</td>\n",
       "      <td>1</td>\n",
       "      <td>1</td>\n",
       "      <td>3</td>\n",
       "      <td>1</td>\n",
       "      <td>2</td>\n",
       "    </tr>\n",
       "    <tr>\n",
       "      <td>244</td>\n",
       "      <td>1</td>\n",
       "      <td>1</td>\n",
       "      <td>5</td>\n",
       "      <td>1</td>\n",
       "      <td>2</td>\n",
       "    </tr>\n",
       "    <tr>\n",
       "      <td>495</td>\n",
       "      <td>1</td>\n",
       "      <td>1</td>\n",
       "      <td>3</td>\n",
       "      <td>1</td>\n",
       "      <td>0</td>\n",
       "    </tr>\n",
       "    <tr>\n",
       "      <td>563</td>\n",
       "      <td>1</td>\n",
       "      <td>1</td>\n",
       "      <td>3</td>\n",
       "      <td>1</td>\n",
       "      <td>1</td>\n",
       "    </tr>\n",
       "    <tr>\n",
       "      <td>...</td>\n",
       "      <td>...</td>\n",
       "      <td>...</td>\n",
       "      <td>...</td>\n",
       "      <td>...</td>\n",
       "      <td>...</td>\n",
       "    </tr>\n",
       "    <tr>\n",
       "      <td>89806</td>\n",
       "      <td>1</td>\n",
       "      <td>1</td>\n",
       "      <td>0</td>\n",
       "      <td>0</td>\n",
       "      <td>1</td>\n",
       "    </tr>\n",
       "    <tr>\n",
       "      <td>89816</td>\n",
       "      <td>1</td>\n",
       "      <td>1</td>\n",
       "      <td>2</td>\n",
       "      <td>1</td>\n",
       "      <td>0</td>\n",
       "    </tr>\n",
       "    <tr>\n",
       "      <td>89820</td>\n",
       "      <td>1</td>\n",
       "      <td>1</td>\n",
       "      <td>2</td>\n",
       "      <td>1</td>\n",
       "      <td>0</td>\n",
       "    </tr>\n",
       "    <tr>\n",
       "      <td>89888</td>\n",
       "      <td>1</td>\n",
       "      <td>1</td>\n",
       "      <td>4</td>\n",
       "      <td>0</td>\n",
       "      <td>0</td>\n",
       "    </tr>\n",
       "    <tr>\n",
       "      <td>89922</td>\n",
       "      <td>1</td>\n",
       "      <td>1</td>\n",
       "      <td>1</td>\n",
       "      <td>1</td>\n",
       "      <td>0</td>\n",
       "    </tr>\n",
       "  </tbody>\n",
       "</table>\n",
       "<p>1195 rows × 5 columns</p>\n",
       "</div>"
      ],
      "text/plain": [
       "       FormalEducation  EthicalImplications  Employment  EthicsReport  \\\n",
       "14                   1                    1           5             1   \n",
       "160                  1                    1           3             1   \n",
       "244                  1                    1           5             1   \n",
       "495                  1                    1           3             1   \n",
       "563                  1                    1           3             1   \n",
       "...                ...                  ...         ...           ...   \n",
       "89806                1                    1           0             0   \n",
       "89816                1                    1           2             1   \n",
       "89820                1                    1           2             1   \n",
       "89888                1                    1           4             0   \n",
       "89922                1                    1           1             1   \n",
       "\n",
       "      ConvertedSalary  \n",
       "14                  0  \n",
       "160                 2  \n",
       "244                 2  \n",
       "495                 0  \n",
       "563                 1  \n",
       "...               ...  \n",
       "89806               1  \n",
       "89816               0  \n",
       "89820               0  \n",
       "89888               0  \n",
       "89922               0  \n",
       "\n",
       "[1195 rows x 5 columns]"
      ]
     },
     "execution_count": 40,
     "metadata": {},
     "output_type": "execute_result"
    }
   ],
   "source": [
    "stratified.get_group((1, 1))\n",
    "# stratified.mean()"
   ]
  },
  {
   "cell_type": "code",
   "execution_count": 41,
   "metadata": {},
   "outputs": [
    {
     "data": {
      "text/plain": [
       "<matplotlib.axes._subplots.AxesSubplot at 0x11f93add0>"
      ]
     },
     "execution_count": 41,
     "metadata": {},
     "output_type": "execute_result"
    },
    {
     "data": {
      "image/png": "[encoded data removed]",
      "text/plain": [
       "<Figure size 432x288 with 1 Axes>"
      ]
     },
     "metadata": {
      "needs_background": "light"
     },
     "output_type": "display_data"
    }
   ],
   "source": [
    "stratified.get_group((1, 1))['EthicsReport'].hist()"
   ]
  },
  {
   "cell_type": "code",
   "execution_count": 42,
   "metadata": {},
   "outputs": [
    {
     "data": {
      "text/plain": [
       "27"
      ]
     },
     "execution_count": 42,
     "metadata": {},
     "output_type": "execute_result"
    }
   ],
   "source": [
    "len(stratified)"
   ]
  },
  {
   "cell_type": "markdown",
   "metadata": {},
   "source": [
    "# Probability"
   ]
  },
  {
   "cell_type": "markdown",
   "metadata": {},
   "source": [
    "Now we can define a function which will be able to tell us the probability for a certain event string, given a conditional string. An example of the notation is as follows: \n",
    "$$p(x=2|y=3, v=1) = probability(\\text{\"x == 2\"}, \\text{\"y == 3 and v == 1\"})$$"
   ]
  },
  {
   "cell_type": "code",
   "execution_count": 43,
   "metadata": {},
   "outputs": [],
   "source": [
    "def probability (event_string, conditional_string):\n",
    "    #note this will go off the quantified_survey_results\n",
    "    data = quantified_survey_results.copy()\n",
    "    \n",
    "    if conditional_string:\n",
    "        conditioned_data = data.query(conditional_string)\n",
    "    else:\n",
    "        conditioned_data = data\n",
    "    event_given_conditioned_data = conditioned_data.query(event_string)\n",
    "    \n",
    "    return len(event_given_conditioned_data) / len(conditioned_data) if len(conditioned_data) != 0 else 0"
   ]
  },
  {
   "cell_type": "markdown",
   "metadata": {},
   "source": [
    "A couple sample examples can be found below where we condition on an event, and when we do not:"
   ]
  },
  {
   "cell_type": "code",
   "execution_count": 44,
   "metadata": {},
   "outputs": [
    {
     "data": {
      "text/plain": [
       "0.5765690376569038"
      ]
     },
     "execution_count": 44,
     "metadata": {},
     "output_type": "execute_result"
    }
   ],
   "source": [
    "probability('Employment == 5', 'FormalEducation == 1 and EthicalImplications == 1')"
   ]
  },
  {
   "cell_type": "code",
   "execution_count": 45,
   "metadata": {},
   "outputs": [
    {
     "data": {
      "text/plain": [
       "0.9303737352880446"
      ]
     },
     "execution_count": 45,
     "metadata": {},
     "output_type": "execute_result"
    }
   ],
   "source": [
    "probability('EthicsReport == 1', '')"
   ]
  },
  {
   "cell_type": "markdown",
   "metadata": {},
   "source": [
    "# 3.2.2 IP Weighting"
   ]
  },
  {
   "cell_type": "markdown",
   "metadata": {},
   "source": [
    "We can now define our function for IP weighting:"
   ]
  },
  {
   "cell_type": "code",
   "execution_count": 46,
   "metadata": {},
   "outputs": [],
   "source": [
    "import numpy as np"
   ]
  },
  {
   "cell_type": "code",
   "execution_count": 47,
   "metadata": {},
   "outputs": [],
   "source": [
    "def ipw():\n",
    "    # Define all of the ranges:\n",
    "    education_range = [0,1,2,3,4,5,6,7]\n",
    "    employment_range = [0,1,2,3,4,5]\n",
    "    ethics_range = [-1,0,1]\n",
    "    treatment_range = [0,1]\n",
    "    salary_range = [0,1,2,3,4,5,6]\n",
    "    \n",
    "    # Master array to hold all the calculated probabilities\n",
    "    covariates_prob = []\n",
    "    \n",
    "    # Cover all covariates:\n",
    "    for edu in education_range:\n",
    "        for emp in employment_range:\n",
    "            for eth in ethics_range:\n",
    "                \n",
    "                treated = []\n",
    "                untreated = []\n",
    "                \n",
    "                # Calculated \n",
    "                for sal in salary_range:\n",
    "                    untreated.append(probability(\"ConvertedSalary == \"+ str(sal), \"FormalEducation == \" + str(edu) + \" and EthicalImplications == \" + str(eth) + \" and Employment == \" + str(emp) + \" and EthicsReport == \" + str(treatment_range[0])))\n",
    "                    \n",
    "                for sal in salary_range:\n",
    "                    treated.append(probability(\"ConvertedSalary == \"+ str(sal), \"FormalEducation == \" + str(edu) + \" and EthicalImplications == \" + str(eth) + \" and Employment == \" + str(emp) + \" and EthicsReport == \" + str(treatment_range[1])))\n",
    "                \n",
    "                covariates_prob.append([probability(\"FormalEducation == \" + str(edu) + \" and EthicalImplications == \" + str(eth) + \" and Employment == \" + str(emp), \"\"), untreated, treated])\n",
    "                \n",
    "    return covariates_prob"
   ]
  },
  {
   "cell_type": "code",
   "execution_count": 48,
   "metadata": {},
   "outputs": [],
   "source": [
    "data_probabilities = np.array(ipw())"
   ]
  },
  {
   "cell_type": "markdown",
   "metadata": {},
   "source": [
    "The output result will be an array where the first column is the probability for the covariate level, the second column holds the probabilities for the results within that covariate level for untreated individuals, and the last column holds similarly for the treated individuals."
   ]
  },
  {
   "cell_type": "code",
   "execution_count": 49,
   "metadata": {},
   "outputs": [
    {
     "data": {
      "text/plain": [
       "array([[4.1296716911005576e-05, list([0, 0, 0, 0, 0, 0, 0]),\n",
       "        list([1.0, 0.0, 0.0, 0.0, 0.0, 0.0, 0.0])],\n",
       "       [0.0, list([0, 0, 0, 0, 0, 0, 0]), list([0, 0, 0, 0, 0, 0, 0])],\n",
       "       [0.0, list([0, 0, 0, 0, 0, 0, 0]), list([0, 0, 0, 0, 0, 0, 0])],\n",
       "       [0.0001651868676440223, list([1.0, 0.0, 0.0, 0.0, 0.0, 0.0, 0.0]),\n",
       "        list([1.0, 0.0, 0.0, 0.0, 0.0, 0.0, 0.0])],\n",
       "       [0.00028907701837703904,\n",
       "        list([0.5, 0.0, 0.0, 0.0, 0.0, 0.0, 0.5]),\n",
       "        list([0.6, 0.4, 0.0, 0.0, 0.0, 0.0, 0.0])],\n",
       "       [0.001073714639686145, list([1.0, 0.0, 0.0, 0.0, 0.0, 0.0, 0.0]),\n",
       "        list([1.0, 0.0, 0.0, 0.0, 0.0, 0.0, 0.0])],\n",
       "       [4.1296716911005576e-05, list([0, 0, 0, 0, 0, 0, 0]),\n",
       "        list([1.0, 0.0, 0.0, 0.0, 0.0, 0.0, 0.0])],\n",
       "       [8.259343382201115e-05, list([0, 0, 0, 0, 0, 0, 0]),\n",
       "        list([1.0, 0.0, 0.0, 0.0, 0.0, 0.0, 0.0])],\n",
       "       [0.0006194507536650836, list([0.0, 1.0, 0.0, 0.0, 0.0, 0.0, 0.0]),\n",
       "        list([0.9285714285714286, 0.07142857142857142, 0.0, 0.0, 0.0, 0.0, 0.0])],\n",
       "       [0.0, list([0, 0, 0, 0, 0, 0, 0]), list([0, 0, 0, 0, 0, 0, 0])],\n",
       "       [0.0001651868676440223, list([0, 0, 0, 0, 0, 0, 0]),\n",
       "        list([0.0, 1.0, 0.0, 0.0, 0.0, 0.0, 0.0])],\n",
       "       [0.0006607474705760892, list([0, 0, 0, 0, 0, 0, 0]),\n",
       "        list([0.625, 0.125, 0.125, 0.0625, 0.0625, 0.0, 0.0])],\n",
       "       [4.1296716911005576e-05,\n",
       "        list([1.0, 0.0, 0.0, 0.0, 0.0, 0.0, 0.0]),\n",
       "        list([0, 0, 0, 0, 0, 0, 0])],\n",
       "       [0.00012389015073301673,\n",
       "        list([1.0, 0.0, 0.0, 0.0, 0.0, 0.0, 0.0]),\n",
       "        list([1.0, 0.0, 0.0, 0.0, 0.0, 0.0, 0.0])],\n",
       "       [0.0007433409043981003,\n",
       "        list([0.0, 0.3333333333333333, 0.3333333333333333, 0.0, 0.0, 0.0, 0.3333333333333333]),\n",
       "        list([0.4, 0.26666666666666666, 0.13333333333333333, 0.13333333333333333, 0.06666666666666667, 0.0, 0.0])],\n",
       "       [0.0003716704521990502,\n",
       "        list([0.0, 0.6666666666666666, 0.16666666666666666, 0.16666666666666666, 0.0, 0.0, 0.0]),\n",
       "        list([0.6666666666666666, 0.3333333333333333, 0.0, 0.0, 0.0, 0.0, 0.0])],\n",
       "       [0.00020648358455502787, list([0, 0, 0, 0, 0, 0, 0]),\n",
       "        list([0.0, 0.6, 0.2, 0.2, 0.0, 0.0, 0.0])],\n",
       "       [0.002849473466859385,\n",
       "        list([0.25, 0.0, 0.5, 0.25, 0.0, 0.0, 0.0]),\n",
       "        list([0.1076923076923077, 0.26153846153846155, 0.2923076923076923, 0.2923076923076923, 0.015384615384615385, 0.0, 0.03076923076923077])],\n",
       "       [0.0, list([0, 0, 0, 0, 0, 0, 0]), list([0, 0, 0, 0, 0, 0, 0])],\n",
       "       [0.0, list([0, 0, 0, 0, 0, 0, 0]), list([0, 0, 0, 0, 0, 0, 0])],\n",
       "       [4.1296716911005576e-05,\n",
       "        list([0.0, 1.0, 0.0, 0.0, 0.0, 0.0, 0.0]),\n",
       "        list([0, 0, 0, 0, 0, 0, 0])],\n",
       "       [0.0004955606029320669,\n",
       "        list([0.6666666666666666, 0.3333333333333333, 0.0, 0.0, 0.0, 0.0, 0.0]),\n",
       "        list([0.7777777777777778, 0.0, 0.1111111111111111, 0.0, 0.1111111111111111, 0.0, 0.0])],\n",
       "       [0.0004542638860210613,\n",
       "        list([0.6666666666666666, 0.3333333333333333, 0.0, 0.0, 0.0, 0.0, 0.0]),\n",
       "        list([0.875, 0.0, 0.0, 0.125, 0.0, 0.0, 0.0])],\n",
       "       [0.0030559570514144124, list([1.0, 0.0, 0.0, 0.0, 0.0, 0.0, 0.0]),\n",
       "        list([0.7571428571428571, 0.15714285714285714, 0.02857142857142857, 0.02857142857142857, 0.0, 0.0, 0.02857142857142857])],\n",
       "       [0.00041296716911005574,\n",
       "        list([0.5, 0.5, 0.0, 0.0, 0.0, 0.0, 0.0]),\n",
       "        list([0.5, 0.3333333333333333, 0.16666666666666666, 0.0, 0.0, 0.0, 0.0])],\n",
       "       [0.0005781540367540781,\n",
       "        list([0.6666666666666666, 0.0, 0.3333333333333333, 0.0, 0.0, 0.0, 0.0]),\n",
       "        list([0.7272727272727273, 0.18181818181818182, 0.0, 0.0, 0.0, 0.0, 0.09090909090909091])],\n",
       "       [0.0038405946727235185, list([1.0, 0.0, 0.0, 0.0, 0.0, 0.0, 0.0]),\n",
       "        list([0.7093023255813954, 0.18604651162790697, 0.05813953488372093, 0.03488372093023256, 0.0, 0.011627906976744186, 0.0])],\n",
       "       [0.0007020441874870947,\n",
       "        list([0.625, 0.375, 0.0, 0.0, 0.0, 0.0, 0.0]),\n",
       "        list([0.2222222222222222, 0.7777777777777778, 0.0, 0.0, 0.0, 0.0, 0.0])],\n",
       "       [0.0010324179227751394, list([0.6, 0.4, 0.0, 0.0, 0.0, 0.0, 0.0]),\n",
       "        list([0.45, 0.35, 0.15, 0.05, 0.0, 0.0, 0.0])],\n",
       "       [0.008011563080735081,\n",
       "        list([0.5555555555555556, 0.3333333333333333, 0.1111111111111111, 0.0, 0.0, 0.0, 0.0]),\n",
       "        list([0.42702702702702705, 0.3675675675675676, 0.12972972972972974, 0.03783783783783784, 0.005405405405405406, 0.021621621621621623, 0.010810810810810811])],\n",
       "       [0.0007020441874870947,\n",
       "        list([0.0, 0.125, 0.5, 0.25, 0.0, 0.0, 0.125]),\n",
       "        list([0.4444444444444444, 0.2222222222222222, 0.1111111111111111, 0.2222222222222222, 0.0, 0.0, 0.0])],\n",
       "       [0.0004955606029320669, list([1.0, 0.0, 0.0, 0.0, 0.0, 0.0, 0.0]),\n",
       "        list([0.45454545454545453, 0.36363636363636365, 0.09090909090909091, 0.09090909090909091, 0.0, 0.0, 0.0])],\n",
       "       [0.005946727235184803,\n",
       "        list([0.3333333333333333, 0.3333333333333333, 0.3333333333333333, 0.0, 0.0, 0.0, 0.0]),\n",
       "        list([0.2536231884057971, 0.2028985507246377, 0.2318840579710145, 0.18115942028985507, 0.057971014492753624, 0.043478260869565216, 0.028985507246376812])],\n",
       "       [0.002849473466859385,\n",
       "        list([0.034482758620689655, 0.5517241379310345, 0.2413793103448276, 0.13793103448275862, 0.0, 0.0, 0.034482758620689655]),\n",
       "        list([0.05, 0.4, 0.425, 0.125, 0.0, 0.0, 0.0])],\n",
       "       [0.0032624406359694404,\n",
       "        list([0.3076923076923077, 0.46153846153846156, 0.23076923076923078, 0.0, 0.0, 0.0, 0.0]),\n",
       "        list([0.10606060606060606, 0.4696969696969697, 0.2727272727272727, 0.10606060606060606, 0.0, 0.015151515151515152, 0.030303030303030304])],\n",
       "       [0.02845343795168284,\n",
       "        list([0.08823529411764706, 0.3235294117647059, 0.3235294117647059, 0.14705882352941177, 0.058823529411764705, 0.029411764705882353, 0.029411764705882353]),\n",
       "        list([0.07480916030534351, 0.3465648854961832, 0.3236641221374046, 0.18473282442748093, 0.016793893129770993, 0.016793893129770993, 0.0366412213740458])],\n",
       "       [0.0, list([0, 0, 0, 0, 0, 0, 0]), list([0, 0, 0, 0, 0, 0, 0])],\n",
       "       [0.0, list([0, 0, 0, 0, 0, 0, 0]), list([0, 0, 0, 0, 0, 0, 0])],\n",
       "       [8.259343382201115e-05, list([1.0, 0.0, 0.0, 0.0, 0.0, 0.0, 0.0]),\n",
       "        list([0.0, 0.0, 0.0, 0.0, 0.0, 1.0, 0.0])],\n",
       "       [0.0001651868676440223, list([0.0, 1.0, 0.0, 0.0, 0.0, 0.0, 0.0]),\n",
       "        list([1.0, 0.0, 0.0, 0.0, 0.0, 0.0, 0.0])],\n",
       "       [0.00020648358455502787,\n",
       "        list([1.0, 0.0, 0.0, 0.0, 0.0, 0.0, 0.0]),\n",
       "        list([0.75, 0.0, 0.25, 0.0, 0.0, 0.0, 0.0])],\n",
       "       [0.0013214949411521784,\n",
       "        list([0.8333333333333334, 0.16666666666666666, 0.0, 0.0, 0.0, 0.0, 0.0]),\n",
       "        list([0.46153846153846156, 0.19230769230769232, 0.15384615384615385, 0.19230769230769232, 0.0, 0.0, 0.0])],\n",
       "       [0.00028907701837703904,\n",
       "        list([1.0, 0.0, 0.0, 0.0, 0.0, 0.0, 0.0]),\n",
       "        list([0.4, 0.4, 0.2, 0.0, 0.0, 0.0, 0.0])],\n",
       "       [0.0004542638860210613, list([0.5, 0.5, 0.0, 0.0, 0.0, 0.0, 0.0]),\n",
       "        list([0.7777777777777778, 0.1111111111111111, 0.1111111111111111, 0.0, 0.0, 0.0, 0.0])],\n",
       "       [0.003592814371257485,\n",
       "        list([0.6666666666666666, 0.0, 0.16666666666666666, 0.16666666666666666, 0.0, 0.0, 0.0]),\n",
       "        list([0.4444444444444444, 0.25925925925925924, 0.19753086419753085, 0.06172839506172839, 0.012345679012345678, 0.0, 0.024691358024691357])],\n",
       "       [0.0007020441874870947,\n",
       "        list([0.25, 0.375, 0.375, 0.0, 0.0, 0.0, 0.0]),\n",
       "        list([0.3333333333333333, 0.3333333333333333, 0.2222222222222222, 0.0, 0.0, 0.0, 0.1111111111111111])],\n",
       "       [0.0005781540367540781,\n",
       "        list([0.3333333333333333, 0.3333333333333333, 0.3333333333333333, 0.0, 0.0, 0.0, 0.0]),\n",
       "        list([0.45454545454545453, 0.5454545454545454, 0.0, 0.0, 0.0, 0.0, 0.0])],\n",
       "       [0.007681189345447037, list([0.0, 0.5, 0.0, 0.5, 0.0, 0.0, 0.0]),\n",
       "        list([0.25274725274725274, 0.5164835164835165, 0.12637362637362637, 0.054945054945054944, 0.005494505494505495, 0.02197802197802198, 0.02197802197802198])],\n",
       "       [0.0008259343382201115,\n",
       "        list([0.5, 0.125, 0.25, 0.125, 0.0, 0.0, 0.0]),\n",
       "        list([0.16666666666666666, 0.4166666666666667, 0.16666666666666666, 0.08333333333333333, 0.0, 0.16666666666666666, 0.0])],\n",
       "       [0.0011563080735081561,\n",
       "        list([0.3333333333333333, 0.6666666666666666, 0.0, 0.0, 0.0, 0.0, 0.0]),\n",
       "        list([0.22727272727272727, 0.4090909090909091, 0.13636363636363635, 0.09090909090909091, 0.0, 0.09090909090909091, 0.045454545454545456])],\n",
       "       [0.011439190584348544,\n",
       "        list([0.4166666666666667, 0.4166666666666667, 0.16666666666666666, 0.0, 0.0, 0.0, 0.0]),\n",
       "        list([0.09811320754716982, 0.2339622641509434, 0.2830188679245283, 0.2679245283018868, 0.026415094339622643, 0.026415094339622643, 0.06415094339622641])],\n",
       "       [0.005409869915341731,\n",
       "        list([0.09615384615384616, 0.36538461538461536, 0.3076923076923077, 0.15384615384615385, 0.0, 0.038461538461538464, 0.038461538461538464]),\n",
       "        list([0.11392405063291139, 0.3670886075949367, 0.3291139240506329, 0.12658227848101267, 0.0, 0.012658227848101266, 0.05063291139240506])],\n",
       "       [0.007309518893247987,\n",
       "        list([0.1724137931034483, 0.5517241379310345, 0.1724137931034483, 0.06896551724137931, 0.0, 0.0, 0.034482758620689655]),\n",
       "        list([0.10810810810810811, 0.46621621621621623, 0.27702702702702703, 0.11486486486486487, 0.0, 0.006756756756756757, 0.02702702702702703])],\n",
       "       [0.08346066487714227,\n",
       "        list([0.16216216216216217, 0.43243243243243246, 0.20270270270270271, 0.14864864864864866, 0.0, 0.0, 0.05405405405405406]),\n",
       "        list([0.04879301489470981, 0.24807395993836673, 0.35130970724191063, 0.2752953261427838, 0.024139702105803802, 0.019003595274781716, 0.03338469440164355])],\n",
       "       [4.1296716911005576e-05, list([0, 0, 0, 0, 0, 0, 0]),\n",
       "        list([0.0, 0.0, 0.0, 0.0, 0.0, 0.0, 1.0])],\n",
       "       [0.0, list([0, 0, 0, 0, 0, 0, 0]), list([0, 0, 0, 0, 0, 0, 0])],\n",
       "       [0.0, list([0, 0, 0, 0, 0, 0, 0]), list([0, 0, 0, 0, 0, 0, 0])],\n",
       "       [0.0, list([0, 0, 0, 0, 0, 0, 0]), list([0, 0, 0, 0, 0, 0, 0])],\n",
       "       [4.1296716911005576e-05, list([0, 0, 0, 0, 0, 0, 0]),\n",
       "        list([1.0, 0.0, 0.0, 0.0, 0.0, 0.0, 0.0])],\n",
       "       [0.00020648358455502787,\n",
       "        list([1.0, 0.0, 0.0, 0.0, 0.0, 0.0, 0.0]),\n",
       "        list([0.75, 0.0, 0.0, 0.25, 0.0, 0.0, 0.0])],\n",
       "       [4.1296716911005576e-05, list([0, 0, 0, 0, 0, 0, 0]),\n",
       "        list([0.0, 0.0, 1.0, 0.0, 0.0, 0.0, 0.0])],\n",
       "       [0.00012389015073301673,\n",
       "        list([1.0, 0.0, 0.0, 0.0, 0.0, 0.0, 0.0]),\n",
       "        list([0.5, 0.5, 0.0, 0.0, 0.0, 0.0, 0.0])],\n",
       "       [0.00024778030146603347,\n",
       "        list([0.0, 0.0, 0.0, 1.0, 0.0, 0.0, 0.0]),\n",
       "        list([0.2, 0.0, 0.2, 0.2, 0.0, 0.2, 0.2])],\n",
       "       [0.0, list([0, 0, 0, 0, 0, 0, 0]), list([0, 0, 0, 0, 0, 0, 0])],\n",
       "       [4.1296716911005576e-05, list([0, 0, 0, 0, 0, 0, 0]),\n",
       "        list([0.0, 1.0, 0.0, 0.0, 0.0, 0.0, 0.0])],\n",
       "       [0.0, list([0, 0, 0, 0, 0, 0, 0]), list([0, 0, 0, 0, 0, 0, 0])],\n",
       "       [4.1296716911005576e-05, list([0, 0, 0, 0, 0, 0, 0]),\n",
       "        list([0.0, 1.0, 0.0, 0.0, 0.0, 0.0, 0.0])],\n",
       "       [0.0, list([0, 0, 0, 0, 0, 0, 0]), list([0, 0, 0, 0, 0, 0, 0])],\n",
       "       [0.0004955606029320669, list([0.0, 0.0, 0.0, 1.0, 0.0, 0.0, 0.0]),\n",
       "        list([0.09090909090909091, 0.09090909090909091, 0.18181818181818182, 0.45454545454545453, 0.09090909090909091, 0.0, 0.09090909090909091])],\n",
       "       [0.00020648358455502787, list([0, 0, 0, 0, 0, 0, 0]),\n",
       "        list([0.0, 0.2, 0.2, 0.4, 0.0, 0.0, 0.2])],\n",
       "       [0.00028907701837703904,\n",
       "        list([0.0, 0.0, 1.0, 0.0, 0.0, 0.0, 0.0]),\n",
       "        list([0.3333333333333333, 0.16666666666666666, 0.3333333333333333, 0.16666666666666666, 0.0, 0.0, 0.0])],\n",
       "       [0.0021061325624612843, list([1.0, 0.0, 0.0, 0.0, 0.0, 0.0, 0.0]),\n",
       "        list([0.2, 0.24, 0.22, 0.24, 0.02, 0.02, 0.06])],\n",
       "       [0.0, list([0, 0, 0, 0, 0, 0, 0]), list([0, 0, 0, 0, 0, 0, 0])],\n",
       "       [0.0, list([0, 0, 0, 0, 0, 0, 0]), list([0, 0, 0, 0, 0, 0, 0])],\n",
       "       [8.259343382201115e-05, list([0, 0, 0, 0, 0, 0, 0]),\n",
       "        list([0.0, 1.0, 0.0, 0.0, 0.0, 0.0, 0.0])],\n",
       "       [0.0, list([0, 0, 0, 0, 0, 0, 0]), list([0, 0, 0, 0, 0, 0, 0])],\n",
       "       [0.0, list([0, 0, 0, 0, 0, 0, 0]), list([0, 0, 0, 0, 0, 0, 0])],\n",
       "       [0.0001651868676440223, list([1.0, 0.0, 0.0, 0.0, 0.0, 0.0, 0.0]),\n",
       "        list([0.3333333333333333, 0.0, 0.3333333333333333, 0.3333333333333333, 0.0, 0.0, 0.0])],\n",
       "       [0.0, list([0, 0, 0, 0, 0, 0, 0]), list([0, 0, 0, 0, 0, 0, 0])],\n",
       "       [0.00012389015073301673,\n",
       "        list([1.0, 0.0, 0.0, 0.0, 0.0, 0.0, 0.0]),\n",
       "        list([0.5, 0.0, 0.5, 0.0, 0.0, 0.0, 0.0])],\n",
       "       [0.0011150113565971506, list([0.5, 0.5, 0.0, 0.0, 0.0, 0.0, 0.0]),\n",
       "        list([0.6, 0.2, 0.08, 0.08, 0.0, 0.0, 0.04])],\n",
       "       [8.259343382201115e-05, list([0, 0, 0, 0, 0, 0, 0]),\n",
       "        list([0.0, 0.5, 0.0, 0.5, 0.0, 0.0, 0.0])],\n",
       "       [0.00012389015073301673, list([0, 0, 0, 0, 0, 0, 0]),\n",
       "        list([0.3333333333333333, 0.3333333333333333, 0.0, 0.0, 0.0, 0.3333333333333333, 0.0])],\n",
       "       [0.0012389015073301672, list([0, 0, 0, 0, 0, 0, 0]),\n",
       "        list([0.23333333333333334, 0.36666666666666664, 0.36666666666666664, 0.03333333333333333, 0.0, 0.0, 0.0])],\n",
       "       [0.00012389015073301673,\n",
       "        list([0.0, 1.0, 0.0, 0.0, 0.0, 0.0, 0.0]),\n",
       "        list([0.0, 0.5, 0.0, 0.5, 0.0, 0.0, 0.0])],\n",
       "       [0.00028907701837703904,\n",
       "        list([0.0, 1.0, 0.0, 0.0, 0.0, 0.0, 0.0]),\n",
       "        list([0.4, 0.4, 0.2, 0.0, 0.0, 0.0, 0.0])],\n",
       "       [0.0019822424117282677, list([0.0, 0.0, 0.0, 0.0, 0.0, 0.0, 1.0]),\n",
       "        list([0.10869565217391304, 0.1956521739130435, 0.2391304347826087, 0.2608695652173913, 0.10869565217391304, 0.08695652173913043, 0.0])],\n",
       "       [0.001569275242618212,\n",
       "        list([0.0, 0.3076923076923077, 0.5384615384615384, 0.07692307692307693, 0.0, 0.0, 0.07692307692307693]),\n",
       "        list([0.08, 0.24, 0.4, 0.2, 0.0, 0.0, 0.08])],\n",
       "       [0.001940945694817262,\n",
       "        list([0.0, 0.5, 0.375, 0.0, 0.0, 0.0, 0.125]),\n",
       "        list([0.10256410256410256, 0.23076923076923078, 0.38461538461538464, 0.20512820512820512, 0.0, 0.02564102564102564, 0.05128205128205128])],\n",
       "       [0.02242411728267603,\n",
       "        list([0.3076923076923077, 0.38461538461538464, 0.19230769230769232, 0.07692307692307693, 0.0, 0.0, 0.038461538461538464]),\n",
       "        list([0.04642166344294004, 0.20309477756286268, 0.43133462282398455, 0.2514506769825919, 0.0038684719535783366, 0.015473887814313346, 0.048355899419729204])],\n",
       "       [0.0, list([0, 0, 0, 0, 0, 0, 0]), list([0, 0, 0, 0, 0, 0, 0])],\n",
       "       [0.0, list([0, 0, 0, 0, 0, 0, 0]), list([0, 0, 0, 0, 0, 0, 0])],\n",
       "       [0.00012389015073301673, list([0, 0, 0, 0, 0, 0, 0]),\n",
       "        list([0.0, 0.6666666666666666, 0.0, 0.3333333333333333, 0.0, 0.0, 0.0])],\n",
       "       [0.00024778030146603347,\n",
       "        list([1.0, 0.0, 0.0, 0.0, 0.0, 0.0, 0.0]),\n",
       "        list([0.6666666666666666, 0.3333333333333333, 0.0, 0.0, 0.0, 0.0, 0.0])],\n",
       "       [0.0001651868676440223, list([0.0, 0.0, 0.0, 0.0, 1.0, 0.0, 0.0]),\n",
       "        list([1.0, 0.0, 0.0, 0.0, 0.0, 0.0, 0.0])],\n",
       "       [0.001940945694817262, list([0.6, 0.2, 0.2, 0.0, 0.0, 0.0, 0.0]),\n",
       "        list([0.42857142857142855, 0.23809523809523808, 0.14285714285714285, 0.14285714285714285, 0.023809523809523808, 0.0, 0.023809523809523808])],\n",
       "       [0.0006607474705760892,\n",
       "        list([0.5, 0.16666666666666666, 0.16666666666666666, 0.0, 0.0, 0.16666666666666666, 0.0]),\n",
       "        list([0.6, 0.1, 0.2, 0.1, 0.0, 0.0, 0.0])],\n",
       "       [0.0013214949411521784, list([0.5, 0.0, 0.5, 0.0, 0.0, 0.0, 0.0]),\n",
       "        list([0.7, 0.3, 0.0, 0.0, 0.0, 0.0, 0.0])],\n",
       "       [0.007433409043981004,\n",
       "        list([0.5625, 0.1875, 0.1875, 0.0625, 0.0, 0.0, 0.0]),\n",
       "        list([0.5121951219512195, 0.17682926829268292, 0.1402439024390244, 0.1402439024390244, 0.024390243902439025, 0.006097560975609756, 0.0])],\n",
       "       [0.0012389015073301672,\n",
       "        list([0.1875, 0.5625, 0.1875, 0.0, 0.0, 0.0, 0.0625]),\n",
       "        list([0.21428571428571427, 0.7142857142857143, 0.07142857142857142, 0.0, 0.0, 0.0, 0.0])],\n",
       "       [0.0016931653933512285,\n",
       "        list([0.25, 0.25, 0.5, 0.0, 0.0, 0.0, 0.0]),\n",
       "        list([0.40540540540540543, 0.4594594594594595, 0.08108108108108109, 0.05405405405405406, 0.0, 0.0, 0.0])],\n",
       "       [0.012760685525500722,\n",
       "        list([0.3684210526315789, 0.42105263157894735, 0.15789473684210525, 0.0, 0.0, 0.05263157894736842, 0.0]),\n",
       "        list([0.23793103448275862, 0.496551724137931, 0.1896551724137931, 0.04827586206896552, 0.0034482758620689655, 0.006896551724137931, 0.017241379310344827])],\n",
       "       [0.0019822424117282677,\n",
       "        list([0.0, 0.5, 0.25, 0.25, 0.0, 0.0, 0.0]),\n",
       "        list([0.2222222222222222, 0.25, 0.16666666666666666, 0.16666666666666666, 0.1111111111111111, 0.05555555555555555, 0.027777777777777776])],\n",
       "       [0.002353912863927318,\n",
       "        list([0.38461538461538464, 0.3076923076923077, 0.07692307692307693, 0.23076923076923078, 0.0, 0.0, 0.0]),\n",
       "        list([0.2727272727272727, 0.29545454545454547, 0.18181818181818182, 0.06818181818181818, 0.045454545454545456, 0.06818181818181818, 0.06818181818181818])],\n",
       "       [0.027049349576708653,\n",
       "        list([0.09523809523809523, 0.40476190476190477, 0.21428571428571427, 0.21428571428571427, 0.023809523809523808, 0.047619047619047616, 0.0]),\n",
       "        list([0.09624796084828711, 0.19249592169657423, 0.2495921696574225, 0.3197389885807504, 0.08319738988580751, 0.03262642740619902, 0.026101141924959218])],\n",
       "       [0.0214742927937229,\n",
       "        list([0.16981132075471697, 0.3584905660377358, 0.29559748427672955, 0.1509433962264151, 0.006289308176100629, 0.006289308176100629, 0.012578616352201259]),\n",
       "        list([0.22160664819944598, 0.3379501385041551, 0.2409972299168975, 0.16066481994459833, 0.002770083102493075, 0.019390581717451522, 0.01662049861495845])],\n",
       "       [0.03737352880446004,\n",
       "        list([0.26605504587155965, 0.4036697247706422, 0.1834862385321101, 0.10091743119266056, 0.0, 0.0, 0.045871559633027525]),\n",
       "        list([0.25125628140703515, 0.3241206030150754, 0.23241206030150754, 0.13693467336683418, 0.013819095477386936, 0.010050251256281407, 0.031407035175879394])],\n",
       "       [0.37679124509601486,\n",
       "        list([0.21727019498607242, 0.36768802228412256, 0.20334261838440112, 0.1532033426183844, 0.013927576601671309, 0.008356545961002786, 0.036211699164345405]),\n",
       "        list([0.08716486023958928, 0.19897318881916715, 0.3399885909868796, 0.298687963491158, 0.022247575584711923, 0.01825442099258414, 0.03468339988590987])],\n",
       "       [0.0, list([0, 0, 0, 0, 0, 0, 0]), list([0, 0, 0, 0, 0, 0, 0])],\n",
       "       [0.0, list([0, 0, 0, 0, 0, 0, 0]), list([0, 0, 0, 0, 0, 0, 0])],\n",
       "       [8.259343382201115e-05, list([0.0, 0.0, 0.0, 1.0, 0.0, 0.0, 0.0]),\n",
       "        list([0.0, 0.0, 0.0, 1.0, 0.0, 0.0, 0.0])],\n",
       "       [4.1296716911005576e-05, list([0, 0, 0, 0, 0, 0, 0]),\n",
       "        list([1.0, 0.0, 0.0, 0.0, 0.0, 0.0, 0.0])],\n",
       "       [8.259343382201115e-05, list([0.0, 1.0, 0.0, 0.0, 0.0, 0.0, 0.0]),\n",
       "        list([0.0, 0.0, 1.0, 0.0, 0.0, 0.0, 0.0])],\n",
       "       [0.001073714639686145, list([0.5, 0.0, 0.0, 0.5, 0.0, 0.0, 0.0]),\n",
       "        list([0.25, 0.4583333333333333, 0.20833333333333334, 0.041666666666666664, 0.0, 0.041666666666666664, 0.0])],\n",
       "       [0.0001651868676440223, list([0.0, 0.0, 0.0, 0.0, 0.0, 1.0, 0.0]),\n",
       "        list([0.3333333333333333, 0.3333333333333333, 0.3333333333333333, 0.0, 0.0, 0.0, 0.0])],\n",
       "       [0.0004542638860210613, list([0.5, 0.5, 0.0, 0.0, 0.0, 0.0, 0.0]),\n",
       "        list([0.5555555555555556, 0.0, 0.3333333333333333, 0.1111111111111111, 0.0, 0.0, 0.0])],\n",
       "       [0.0029733636175924014,\n",
       "        list([0.8333333333333334, 0.16666666666666666, 0.0, 0.0, 0.0, 0.0, 0.0]),\n",
       "        list([0.42424242424242425, 0.16666666666666666, 0.25757575757575757, 0.10606060606060606, 0.015151515151515152, 0.015151515151515152, 0.015151515151515152])],\n",
       "       [0.0003716704521990502,\n",
       "        list([0.3333333333333333, 0.6666666666666666, 0.0, 0.0, 0.0, 0.0, 0.0]),\n",
       "        list([0.3333333333333333, 0.5, 0.16666666666666666, 0.0, 0.0, 0.0, 0.0])],\n",
       "       [0.00024778030146603347,\n",
       "        list([0.0, 1.0, 0.0, 0.0, 0.0, 0.0, 0.0]),\n",
       "        list([0.4, 0.4, 0.2, 0.0, 0.0, 0.0, 0.0])],\n",
       "       [0.004955606029320669,\n",
       "        list([0.0, 0.5714285714285714, 0.0, 0.2857142857142857, 0.0, 0.0, 0.14285714285714285]),\n",
       "        list([0.07079646017699115, 0.4424778761061947, 0.2920353982300885, 0.1504424778761062, 0.0, 0.017699115044247787, 0.02654867256637168])],\n",
       "       [0.0012389015073301672,\n",
       "        list([0.0, 0.2222222222222222, 0.2222222222222222, 0.1111111111111111, 0.0, 0.4444444444444444, 0.0]),\n",
       "        list([0.2857142857142857, 0.14285714285714285, 0.3333333333333333, 0.23809523809523808, 0.0, 0.0, 0.0])],\n",
       "       [0.0018996489779062565,\n",
       "        list([0.08333333333333333, 0.5833333333333334, 0.08333333333333333, 0.08333333333333333, 0.08333333333333333, 0.08333333333333333, 0.0]),\n",
       "        list([0.11764705882352941, 0.35294117647058826, 0.2647058823529412, 0.20588235294117646, 0.0, 0.0, 0.058823529411764705])],\n",
       "       [0.01726202766880033,\n",
       "        list([0.10344827586206896, 0.2413793103448276, 0.4827586206896552, 0.13793103448275862, 0.0, 0.034482758620689655, 0.0]),\n",
       "        list([0.043701799485861184, 0.19794344473007713, 0.3059125964010283, 0.30077120822622105, 0.06426735218508997, 0.06683804627249357, 0.02056555269922879])],\n",
       "       [0.011150113565971505,\n",
       "        list([0.06329113924050633, 0.2911392405063291, 0.3924050632911392, 0.189873417721519, 0.012658227848101266, 0.012658227848101266, 0.0379746835443038]),\n",
       "        list([0.08900523560209424, 0.3403141361256545, 0.3298429319371728, 0.15706806282722513, 0.010471204188481676, 0.020942408376963352, 0.05235602094240838])],\n",
       "       [0.021598182944455917,\n",
       "        list([0.24324324324324326, 0.33783783783783783, 0.2702702702702703, 0.13513513513513514, 0.0, 0.0, 0.013513513513513514]),\n",
       "        list([0.15367483296213807, 0.3051224944320713, 0.30734966592427615, 0.1714922048997773, 0.008908685968819599, 0.031180400890868598, 0.022271714922048998])],\n",
       "       [0.17509807970266364,\n",
       "        list([0.0903954802259887, 0.3502824858757062, 0.3050847457627119, 0.1864406779661017, 0.011299435028248588, 0.022598870056497175, 0.03389830508474576]),\n",
       "        list([0.04577898104848634, 0.1959143490031996, 0.37952252030519323, 0.28476495200590696, 0.029780950036918535, 0.02165887275412257, 0.04257937484617278])],\n",
       "       [0.0, list([0, 0, 0, 0, 0, 0, 0]), list([0, 0, 0, 0, 0, 0, 0])],\n",
       "       [0.0, list([0, 0, 0, 0, 0, 0, 0]), list([0, 0, 0, 0, 0, 0, 0])],\n",
       "       [4.1296716911005576e-05,\n",
       "        list([0.0, 0.0, 1.0, 0.0, 0.0, 0.0, 0.0]),\n",
       "        list([0, 0, 0, 0, 0, 0, 0])],\n",
       "       [0.0, list([0, 0, 0, 0, 0, 0, 0]), list([0, 0, 0, 0, 0, 0, 0])],\n",
       "       [4.1296716911005576e-05, list([0, 0, 0, 0, 0, 0, 0]),\n",
       "        list([0.0, 0.0, 1.0, 0.0, 0.0, 0.0, 0.0])],\n",
       "       [8.259343382201115e-05, list([0, 0, 0, 0, 0, 0, 0]),\n",
       "        list([0.0, 1.0, 0.0, 0.0, 0.0, 0.0, 0.0])],\n",
       "       [0.0, list([0, 0, 0, 0, 0, 0, 0]), list([0, 0, 0, 0, 0, 0, 0])],\n",
       "       [4.1296716911005576e-05,\n",
       "        list([0.0, 0.0, 1.0, 0.0, 0.0, 0.0, 0.0]),\n",
       "        list([0, 0, 0, 0, 0, 0, 0])],\n",
       "       [0.00020648358455502787, list([0, 0, 0, 0, 0, 0, 0]),\n",
       "        list([0.4, 0.2, 0.2, 0.2, 0.0, 0.0, 0.0])],\n",
       "       [0.0, list([0, 0, 0, 0, 0, 0, 0]), list([0, 0, 0, 0, 0, 0, 0])],\n",
       "       [0.0, list([0, 0, 0, 0, 0, 0, 0]), list([0, 0, 0, 0, 0, 0, 0])],\n",
       "       [0.0004955606029320669, list([1.0, 0.0, 0.0, 0.0, 0.0, 0.0, 0.0]),\n",
       "        list([0.09090909090909091, 0.2727272727272727, 0.5454545454545454, 0.09090909090909091, 0.0, 0.0, 0.0])],\n",
       "       [8.259343382201115e-05, list([0.0, 0.0, 0.5, 0.0, 0.5, 0.0, 0.0]),\n",
       "        list([0, 0, 0, 0, 0, 0, 0])],\n",
       "       [8.259343382201115e-05, list([0, 0, 0, 0, 0, 0, 0]),\n",
       "        list([0.0, 0.5, 0.5, 0.0, 0.0, 0.0, 0.0])],\n",
       "       [0.001858352260995251,\n",
       "        list([0.3333333333333333, 0.0, 0.6666666666666666, 0.0, 0.0, 0.0, 0.0]),\n",
       "        list([0.07142857142857142, 0.16666666666666666, 0.30952380952380953, 0.2857142857142857, 0.07142857142857142, 0.07142857142857142, 0.023809523809523808])],\n",
       "       [0.0009911212058641339,\n",
       "        list([0.0, 0.3333333333333333, 0.08333333333333333, 0.16666666666666666, 0.0, 0.3333333333333333, 0.08333333333333333]),\n",
       "        list([0.16666666666666666, 0.3333333333333333, 0.16666666666666666, 0.3333333333333333, 0.0, 0.0, 0.0])],\n",
       "       [0.0012389015073301672,\n",
       "        list([0.0, 0.0, 0.3333333333333333, 0.3333333333333333, 0.3333333333333333, 0.0, 0.0]),\n",
       "        list([0.037037037037037035, 0.14814814814814814, 0.37037037037037035, 0.2222222222222222, 0.1111111111111111, 0.07407407407407407, 0.037037037037037035])],\n",
       "       [0.02135040264298988,\n",
       "        list([0.0, 0.26666666666666666, 0.2, 0.4666666666666667, 0.0, 0.0, 0.06666666666666667]),\n",
       "        list([0.01195219123505976, 0.10159362549800798, 0.3844621513944223, 0.350597609561753, 0.06772908366533864, 0.0398406374501992, 0.043824701195219126])]],\n",
       "      dtype=object)"
      ]
     },
     "execution_count": 49,
     "metadata": {},
     "output_type": "execute_result"
    }
   ],
   "source": [
    "data_probabilities"
   ]
  },
  {
   "cell_type": "markdown",
   "metadata": {},
   "source": [
    "With the data, we can select based on the columns. For instance, we can get just the probabilities:"
   ]
  },
  {
   "cell_type": "code",
   "execution_count": 50,
   "metadata": {},
   "outputs": [
    {
     "data": {
      "text/plain": [
       "array([4.1296716911005576e-05, 0.0, 0.0, 0.0001651868676440223,\n",
       "       0.00028907701837703904, 0.001073714639686145,\n",
       "       4.1296716911005576e-05, 8.259343382201115e-05,\n",
       "       0.0006194507536650836, 0.0, 0.0001651868676440223,\n",
       "       0.0006607474705760892, 4.1296716911005576e-05,\n",
       "       0.00012389015073301673, 0.0007433409043981003,\n",
       "       0.0003716704521990502, 0.00020648358455502787,\n",
       "       0.002849473466859385, 0.0, 0.0, 4.1296716911005576e-05,\n",
       "       0.0004955606029320669, 0.0004542638860210613,\n",
       "       0.0030559570514144124, 0.00041296716911005574,\n",
       "       0.0005781540367540781, 0.0038405946727235185,\n",
       "       0.0007020441874870947, 0.0010324179227751394, 0.008011563080735081,\n",
       "       0.0007020441874870947, 0.0004955606029320669, 0.005946727235184803,\n",
       "       0.002849473466859385, 0.0032624406359694404, 0.02845343795168284,\n",
       "       0.0, 0.0, 8.259343382201115e-05, 0.0001651868676440223,\n",
       "       0.00020648358455502787, 0.0013214949411521784,\n",
       "       0.00028907701837703904, 0.0004542638860210613,\n",
       "       0.003592814371257485, 0.0007020441874870947, 0.0005781540367540781,\n",
       "       0.007681189345447037, 0.0008259343382201115, 0.0011563080735081561,\n",
       "       0.011439190584348544, 0.005409869915341731, 0.007309518893247987,\n",
       "       0.08346066487714227, 4.1296716911005576e-05, 0.0, 0.0, 0.0,\n",
       "       4.1296716911005576e-05, 0.00020648358455502787,\n",
       "       4.1296716911005576e-05, 0.00012389015073301673,\n",
       "       0.00024778030146603347, 0.0, 4.1296716911005576e-05, 0.0,\n",
       "       4.1296716911005576e-05, 0.0, 0.0004955606029320669,\n",
       "       0.00020648358455502787, 0.00028907701837703904,\n",
       "       0.0021061325624612843, 0.0, 0.0, 8.259343382201115e-05, 0.0, 0.0,\n",
       "       0.0001651868676440223, 0.0, 0.00012389015073301673,\n",
       "       0.0011150113565971506, 8.259343382201115e-05,\n",
       "       0.00012389015073301673, 0.0012389015073301672,\n",
       "       0.00012389015073301673, 0.00028907701837703904,\n",
       "       0.0019822424117282677, 0.001569275242618212, 0.001940945694817262,\n",
       "       0.02242411728267603, 0.0, 0.0, 0.00012389015073301673,\n",
       "       0.00024778030146603347, 0.0001651868676440223,\n",
       "       0.001940945694817262, 0.0006607474705760892, 0.0013214949411521784,\n",
       "       0.007433409043981004, 0.0012389015073301672, 0.0016931653933512285,\n",
       "       0.012760685525500722, 0.0019822424117282677, 0.002353912863927318,\n",
       "       0.027049349576708653, 0.0214742927937229, 0.03737352880446004,\n",
       "       0.37679124509601486, 0.0, 0.0, 8.259343382201115e-05,\n",
       "       4.1296716911005576e-05, 8.259343382201115e-05,\n",
       "       0.001073714639686145, 0.0001651868676440223, 0.0004542638860210613,\n",
       "       0.0029733636175924014, 0.0003716704521990502,\n",
       "       0.00024778030146603347, 0.004955606029320669,\n",
       "       0.0012389015073301672, 0.0018996489779062565, 0.01726202766880033,\n",
       "       0.011150113565971505, 0.021598182944455917, 0.17509807970266364,\n",
       "       0.0, 0.0, 4.1296716911005576e-05, 0.0, 4.1296716911005576e-05,\n",
       "       8.259343382201115e-05, 0.0, 4.1296716911005576e-05,\n",
       "       0.00020648358455502787, 0.0, 0.0, 0.0004955606029320669,\n",
       "       8.259343382201115e-05, 8.259343382201115e-05, 0.001858352260995251,\n",
       "       0.0009911212058641339, 0.0012389015073301672, 0.02135040264298988],\n",
       "      dtype=object)"
      ]
     },
     "execution_count": 50,
     "metadata": {},
     "output_type": "execute_result"
    }
   ],
   "source": [
    "data_probabilities[:,0]"
   ]
  },
  {
   "cell_type": "markdown",
   "metadata": {},
   "source": [
    "We can now take the covariate probabilities and then multiply by our population to find out how many individuals will be in each covariate level."
   ]
  },
  {
   "cell_type": "code",
   "execution_count": 51,
   "metadata": {},
   "outputs": [
    {
     "name": "stdout",
     "output_type": "stream",
     "text": [
      "[1.0 0.0 0.0 4.0 7.0 26.0 1.0 2.0 14.999999999999998 0.0 4.0 16.0 1.0 3.0\n",
      " 18.0 9.0 5.0 69.0 0.0 0.0 1.0 12.0 11.0 74.0 10.0 14.0 93.0 17.0 25.0\n",
      " 194.0 17.0 12.0 144.0 69.0 79.0 689.0 0.0 0.0 2.0 4.0 5.0 32.0 7.0 11.0\n",
      " 87.0 17.0 14.0 186.0 20.0 28.0 277.0 131.0 177.0 2021.0 1.0 0.0 0.0 0.0\n",
      " 1.0 5.0 1.0 3.0 6.0 0.0 1.0 0.0 1.0 0.0 12.0 5.0 7.0 51.0 0.0 0.0 2.0 0.0\n",
      " 0.0 4.0 0.0 3.0 27.000000000000004 2.0 3.0 29.999999999999996 3.0 7.0\n",
      " 48.0 38.0 47.0 543.0 0.0 0.0 3.0 6.0 4.0 47.0 16.0 32.0 180.0\n",
      " 29.999999999999996 41.0 309.0 48.0 57.0 655.0 520.0 905.0 9124.0 0.0 0.0\n",
      " 2.0 1.0 2.0 26.0 4.0 11.0 72.0 9.0 6.0 119.99999999999999\n",
      " 29.999999999999996 46.0 418.0 270.0 523.0 4240.0 0.0 0.0 1.0 0.0 1.0 2.0\n",
      " 0.0 1.0 5.0 0.0 0.0 12.0 2.0 2.0 45.0 24.0 29.999999999999996 517.0]\n"
     ]
    }
   ],
   "source": [
    "num_in_cov = data_probabilities[:,0] * len(quantified_survey_results)\n",
    "print(num_in_cov)"
   ]
  },
  {
   "cell_type": "markdown",
   "metadata": {},
   "source": [
    "Next, we can clear out all the accuracy errors."
   ]
  },
  {
   "cell_type": "code",
   "execution_count": 52,
   "metadata": {},
   "outputs": [
    {
     "name": "stdout",
     "output_type": "stream",
     "text": [
      "[   1    0    0    4    7   26    1    2   15    0    4   16    1    3\n",
      "   18    9    5   69    0    0    1   12   11   74   10   14   93   17\n",
      "   25  194   17   12  144   69   79  689    0    0    2    4    5   32\n",
      "    7   11   87   17   14  186   20   28  277  131  177 2021    1    0\n",
      "    0    0    1    5    1    3    6    0    1    0    1    0   12    5\n",
      "    7   51    0    0    2    0    0    4    0    3   27    2    3   30\n",
      "    3    7   48   38   47  543    0    0    3    6    4   47   16   32\n",
      "  180   30   41  309   48   57  655  520  905 9124    0    0    2    1\n",
      "    2   26    4   11   72    9    6  120   30   46  418  270  523 4240\n",
      "    0    0    1    0    1    2    0    1    5    0    0   12    2    2\n",
      "   45   24   30  517]\n"
     ]
    }
   ],
   "source": [
    "num_in_cov = np.around(num_in_cov.astype(np.double), 1).astype(np.int)\n",
    "print(num_in_cov)"
   ]
  },
  {
   "cell_type": "code",
   "execution_count": 53,
   "metadata": {},
   "outputs": [
    {
     "data": {
      "text/plain": [
       "array([list([0, 0, 0, 0, 0, 0, 0]), list([0, 0, 0, 0, 0, 0, 0]),\n",
       "       list([0, 0, 0, 0, 0, 0, 0]),\n",
       "       list([1.0, 0.0, 0.0, 0.0, 0.0, 0.0, 0.0]),\n",
       "       list([0.5, 0.0, 0.0, 0.0, 0.0, 0.0, 0.5]),\n",
       "       list([1.0, 0.0, 0.0, 0.0, 0.0, 0.0, 0.0]),\n",
       "       list([0, 0, 0, 0, 0, 0, 0]), list([0, 0, 0, 0, 0, 0, 0]),\n",
       "       list([0.0, 1.0, 0.0, 0.0, 0.0, 0.0, 0.0]),\n",
       "       list([0, 0, 0, 0, 0, 0, 0]), list([0, 0, 0, 0, 0, 0, 0]),\n",
       "       list([0, 0, 0, 0, 0, 0, 0]),\n",
       "       list([1.0, 0.0, 0.0, 0.0, 0.0, 0.0, 0.0]),\n",
       "       list([1.0, 0.0, 0.0, 0.0, 0.0, 0.0, 0.0]),\n",
       "       list([0.0, 0.3333333333333333, 0.3333333333333333, 0.0, 0.0, 0.0, 0.3333333333333333]),\n",
       "       list([0.0, 0.6666666666666666, 0.16666666666666666, 0.16666666666666666, 0.0, 0.0, 0.0]),\n",
       "       list([0, 0, 0, 0, 0, 0, 0]),\n",
       "       list([0.25, 0.0, 0.5, 0.25, 0.0, 0.0, 0.0]),\n",
       "       list([0, 0, 0, 0, 0, 0, 0]), list([0, 0, 0, 0, 0, 0, 0]),\n",
       "       list([0.0, 1.0, 0.0, 0.0, 0.0, 0.0, 0.0]),\n",
       "       list([0.6666666666666666, 0.3333333333333333, 0.0, 0.0, 0.0, 0.0, 0.0]),\n",
       "       list([0.6666666666666666, 0.3333333333333333, 0.0, 0.0, 0.0, 0.0, 0.0]),\n",
       "       list([1.0, 0.0, 0.0, 0.0, 0.0, 0.0, 0.0]),\n",
       "       list([0.5, 0.5, 0.0, 0.0, 0.0, 0.0, 0.0]),\n",
       "       list([0.6666666666666666, 0.0, 0.3333333333333333, 0.0, 0.0, 0.0, 0.0]),\n",
       "       list([1.0, 0.0, 0.0, 0.0, 0.0, 0.0, 0.0]),\n",
       "       list([0.625, 0.375, 0.0, 0.0, 0.0, 0.0, 0.0]),\n",
       "       list([0.6, 0.4, 0.0, 0.0, 0.0, 0.0, 0.0]),\n",
       "       list([0.5555555555555556, 0.3333333333333333, 0.1111111111111111, 0.0, 0.0, 0.0, 0.0]),\n",
       "       list([0.0, 0.125, 0.5, 0.25, 0.0, 0.0, 0.125]),\n",
       "       list([1.0, 0.0, 0.0, 0.0, 0.0, 0.0, 0.0]),\n",
       "       list([0.3333333333333333, 0.3333333333333333, 0.3333333333333333, 0.0, 0.0, 0.0, 0.0]),\n",
       "       list([0.034482758620689655, 0.5517241379310345, 0.2413793103448276, 0.13793103448275862, 0.0, 0.0, 0.034482758620689655]),\n",
       "       list([0.3076923076923077, 0.46153846153846156, 0.23076923076923078, 0.0, 0.0, 0.0, 0.0]),\n",
       "       list([0.08823529411764706, 0.3235294117647059, 0.3235294117647059, 0.14705882352941177, 0.058823529411764705, 0.029411764705882353, 0.029411764705882353]),\n",
       "       list([0, 0, 0, 0, 0, 0, 0]), list([0, 0, 0, 0, 0, 0, 0]),\n",
       "       list([1.0, 0.0, 0.0, 0.0, 0.0, 0.0, 0.0]),\n",
       "       list([0.0, 1.0, 0.0, 0.0, 0.0, 0.0, 0.0]),\n",
       "       list([1.0, 0.0, 0.0, 0.0, 0.0, 0.0, 0.0]),\n",
       "       list([0.8333333333333334, 0.16666666666666666, 0.0, 0.0, 0.0, 0.0, 0.0]),\n",
       "       list([1.0, 0.0, 0.0, 0.0, 0.0, 0.0, 0.0]),\n",
       "       list([0.5, 0.5, 0.0, 0.0, 0.0, 0.0, 0.0]),\n",
       "       list([0.6666666666666666, 0.0, 0.16666666666666666, 0.16666666666666666, 0.0, 0.0, 0.0]),\n",
       "       list([0.25, 0.375, 0.375, 0.0, 0.0, 0.0, 0.0]),\n",
       "       list([0.3333333333333333, 0.3333333333333333, 0.3333333333333333, 0.0, 0.0, 0.0, 0.0]),\n",
       "       list([0.0, 0.5, 0.0, 0.5, 0.0, 0.0, 0.0]),\n",
       "       list([0.5, 0.125, 0.25, 0.125, 0.0, 0.0, 0.0]),\n",
       "       list([0.3333333333333333, 0.6666666666666666, 0.0, 0.0, 0.0, 0.0, 0.0]),\n",
       "       list([0.4166666666666667, 0.4166666666666667, 0.16666666666666666, 0.0, 0.0, 0.0, 0.0]),\n",
       "       list([0.09615384615384616, 0.36538461538461536, 0.3076923076923077, 0.15384615384615385, 0.0, 0.038461538461538464, 0.038461538461538464]),\n",
       "       list([0.1724137931034483, 0.5517241379310345, 0.1724137931034483, 0.06896551724137931, 0.0, 0.0, 0.034482758620689655]),\n",
       "       list([0.16216216216216217, 0.43243243243243246, 0.20270270270270271, 0.14864864864864866, 0.0, 0.0, 0.05405405405405406]),\n",
       "       list([0, 0, 0, 0, 0, 0, 0]), list([0, 0, 0, 0, 0, 0, 0]),\n",
       "       list([0, 0, 0, 0, 0, 0, 0]), list([0, 0, 0, 0, 0, 0, 0]),\n",
       "       list([0, 0, 0, 0, 0, 0, 0]),\n",
       "       list([1.0, 0.0, 0.0, 0.0, 0.0, 0.0, 0.0]),\n",
       "       list([0, 0, 0, 0, 0, 0, 0]),\n",
       "       list([1.0, 0.0, 0.0, 0.0, 0.0, 0.0, 0.0]),\n",
       "       list([0.0, 0.0, 0.0, 1.0, 0.0, 0.0, 0.0]),\n",
       "       list([0, 0, 0, 0, 0, 0, 0]), list([0, 0, 0, 0, 0, 0, 0]),\n",
       "       list([0, 0, 0, 0, 0, 0, 0]), list([0, 0, 0, 0, 0, 0, 0]),\n",
       "       list([0, 0, 0, 0, 0, 0, 0]),\n",
       "       list([0.0, 0.0, 0.0, 1.0, 0.0, 0.0, 0.0]),\n",
       "       list([0, 0, 0, 0, 0, 0, 0]),\n",
       "       list([0.0, 0.0, 1.0, 0.0, 0.0, 0.0, 0.0]),\n",
       "       list([1.0, 0.0, 0.0, 0.0, 0.0, 0.0, 0.0]),\n",
       "       list([0, 0, 0, 0, 0, 0, 0]), list([0, 0, 0, 0, 0, 0, 0]),\n",
       "       list([0, 0, 0, 0, 0, 0, 0]), list([0, 0, 0, 0, 0, 0, 0]),\n",
       "       list([0, 0, 0, 0, 0, 0, 0]),\n",
       "       list([1.0, 0.0, 0.0, 0.0, 0.0, 0.0, 0.0]),\n",
       "       list([0, 0, 0, 0, 0, 0, 0]),\n",
       "       list([1.0, 0.0, 0.0, 0.0, 0.0, 0.0, 0.0]),\n",
       "       list([0.5, 0.5, 0.0, 0.0, 0.0, 0.0, 0.0]),\n",
       "       list([0, 0, 0, 0, 0, 0, 0]), list([0, 0, 0, 0, 0, 0, 0]),\n",
       "       list([0, 0, 0, 0, 0, 0, 0]),\n",
       "       list([0.0, 1.0, 0.0, 0.0, 0.0, 0.0, 0.0]),\n",
       "       list([0.0, 1.0, 0.0, 0.0, 0.0, 0.0, 0.0]),\n",
       "       list([0.0, 0.0, 0.0, 0.0, 0.0, 0.0, 1.0]),\n",
       "       list([0.0, 0.3076923076923077, 0.5384615384615384, 0.07692307692307693, 0.0, 0.0, 0.07692307692307693]),\n",
       "       list([0.0, 0.5, 0.375, 0.0, 0.0, 0.0, 0.125]),\n",
       "       list([0.3076923076923077, 0.38461538461538464, 0.19230769230769232, 0.07692307692307693, 0.0, 0.0, 0.038461538461538464]),\n",
       "       list([0, 0, 0, 0, 0, 0, 0]), list([0, 0, 0, 0, 0, 0, 0]),\n",
       "       list([0, 0, 0, 0, 0, 0, 0]),\n",
       "       list([1.0, 0.0, 0.0, 0.0, 0.0, 0.0, 0.0]),\n",
       "       list([0.0, 0.0, 0.0, 0.0, 1.0, 0.0, 0.0]),\n",
       "       list([0.6, 0.2, 0.2, 0.0, 0.0, 0.0, 0.0]),\n",
       "       list([0.5, 0.16666666666666666, 0.16666666666666666, 0.0, 0.0, 0.16666666666666666, 0.0]),\n",
       "       list([0.5, 0.0, 0.5, 0.0, 0.0, 0.0, 0.0]),\n",
       "       list([0.5625, 0.1875, 0.1875, 0.0625, 0.0, 0.0, 0.0]),\n",
       "       list([0.1875, 0.5625, 0.1875, 0.0, 0.0, 0.0, 0.0625]),\n",
       "       list([0.25, 0.25, 0.5, 0.0, 0.0, 0.0, 0.0]),\n",
       "       list([0.3684210526315789, 0.42105263157894735, 0.15789473684210525, 0.0, 0.0, 0.05263157894736842, 0.0]),\n",
       "       list([0.0, 0.5, 0.25, 0.25, 0.0, 0.0, 0.0]),\n",
       "       list([0.38461538461538464, 0.3076923076923077, 0.07692307692307693, 0.23076923076923078, 0.0, 0.0, 0.0]),\n",
       "       list([0.09523809523809523, 0.40476190476190477, 0.21428571428571427, 0.21428571428571427, 0.023809523809523808, 0.047619047619047616, 0.0]),\n",
       "       list([0.16981132075471697, 0.3584905660377358, 0.29559748427672955, 0.1509433962264151, 0.006289308176100629, 0.006289308176100629, 0.012578616352201259]),\n",
       "       list([0.26605504587155965, 0.4036697247706422, 0.1834862385321101, 0.10091743119266056, 0.0, 0.0, 0.045871559633027525]),\n",
       "       list([0.21727019498607242, 0.36768802228412256, 0.20334261838440112, 0.1532033426183844, 0.013927576601671309, 0.008356545961002786, 0.036211699164345405]),\n",
       "       list([0, 0, 0, 0, 0, 0, 0]), list([0, 0, 0, 0, 0, 0, 0]),\n",
       "       list([0.0, 0.0, 0.0, 1.0, 0.0, 0.0, 0.0]),\n",
       "       list([0, 0, 0, 0, 0, 0, 0]),\n",
       "       list([0.0, 1.0, 0.0, 0.0, 0.0, 0.0, 0.0]),\n",
       "       list([0.5, 0.0, 0.0, 0.5, 0.0, 0.0, 0.0]),\n",
       "       list([0.0, 0.0, 0.0, 0.0, 0.0, 1.0, 0.0]),\n",
       "       list([0.5, 0.5, 0.0, 0.0, 0.0, 0.0, 0.0]),\n",
       "       list([0.8333333333333334, 0.16666666666666666, 0.0, 0.0, 0.0, 0.0, 0.0]),\n",
       "       list([0.3333333333333333, 0.6666666666666666, 0.0, 0.0, 0.0, 0.0, 0.0]),\n",
       "       list([0.0, 1.0, 0.0, 0.0, 0.0, 0.0, 0.0]),\n",
       "       list([0.0, 0.5714285714285714, 0.0, 0.2857142857142857, 0.0, 0.0, 0.14285714285714285]),\n",
       "       list([0.0, 0.2222222222222222, 0.2222222222222222, 0.1111111111111111, 0.0, 0.4444444444444444, 0.0]),\n",
       "       list([0.08333333333333333, 0.5833333333333334, 0.08333333333333333, 0.08333333333333333, 0.08333333333333333, 0.08333333333333333, 0.0]),\n",
       "       list([0.10344827586206896, 0.2413793103448276, 0.4827586206896552, 0.13793103448275862, 0.0, 0.034482758620689655, 0.0]),\n",
       "       list([0.06329113924050633, 0.2911392405063291, 0.3924050632911392, 0.189873417721519, 0.012658227848101266, 0.012658227848101266, 0.0379746835443038]),\n",
       "       list([0.24324324324324326, 0.33783783783783783, 0.2702702702702703, 0.13513513513513514, 0.0, 0.0, 0.013513513513513514]),\n",
       "       list([0.0903954802259887, 0.3502824858757062, 0.3050847457627119, 0.1864406779661017, 0.011299435028248588, 0.022598870056497175, 0.03389830508474576]),\n",
       "       list([0, 0, 0, 0, 0, 0, 0]), list([0, 0, 0, 0, 0, 0, 0]),\n",
       "       list([0.0, 0.0, 1.0, 0.0, 0.0, 0.0, 0.0]),\n",
       "       list([0, 0, 0, 0, 0, 0, 0]), list([0, 0, 0, 0, 0, 0, 0]),\n",
       "       list([0, 0, 0, 0, 0, 0, 0]), list([0, 0, 0, 0, 0, 0, 0]),\n",
       "       list([0.0, 0.0, 1.0, 0.0, 0.0, 0.0, 0.0]),\n",
       "       list([0, 0, 0, 0, 0, 0, 0]), list([0, 0, 0, 0, 0, 0, 0]),\n",
       "       list([0, 0, 0, 0, 0, 0, 0]),\n",
       "       list([1.0, 0.0, 0.0, 0.0, 0.0, 0.0, 0.0]),\n",
       "       list([0.0, 0.0, 0.5, 0.0, 0.5, 0.0, 0.0]),\n",
       "       list([0, 0, 0, 0, 0, 0, 0]),\n",
       "       list([0.3333333333333333, 0.0, 0.6666666666666666, 0.0, 0.0, 0.0, 0.0]),\n",
       "       list([0.0, 0.3333333333333333, 0.08333333333333333, 0.16666666666666666, 0.0, 0.3333333333333333, 0.08333333333333333]),\n",
       "       list([0.0, 0.0, 0.3333333333333333, 0.3333333333333333, 0.3333333333333333, 0.0, 0.0]),\n",
       "       list([0.0, 0.26666666666666666, 0.2, 0.4666666666666667, 0.0, 0.0, 0.06666666666666667])],\n",
       "      dtype=object)"
      ]
     },
     "execution_count": 53,
     "metadata": {},
     "output_type": "execute_result"
    }
   ],
   "source": [
    "untreated_prob = data_probabilities[:,1]\n",
    "untreated_prob.view()"
   ]
  },
  {
   "cell_type": "code",
   "execution_count": 54,
   "metadata": {},
   "outputs": [
    {
     "data": {
      "text/plain": [
       "array([list([1.0, 0.0, 0.0, 0.0, 0.0, 0.0, 0.0]),\n",
       "       list([0, 0, 0, 0, 0, 0, 0]), list([0, 0, 0, 0, 0, 0, 0]),\n",
       "       list([1.0, 0.0, 0.0, 0.0, 0.0, 0.0, 0.0]),\n",
       "       list([0.6, 0.4, 0.0, 0.0, 0.0, 0.0, 0.0]),\n",
       "       list([1.0, 0.0, 0.0, 0.0, 0.0, 0.0, 0.0]),\n",
       "       list([1.0, 0.0, 0.0, 0.0, 0.0, 0.0, 0.0]),\n",
       "       list([1.0, 0.0, 0.0, 0.0, 0.0, 0.0, 0.0]),\n",
       "       list([0.9285714285714286, 0.07142857142857142, 0.0, 0.0, 0.0, 0.0, 0.0]),\n",
       "       list([0, 0, 0, 0, 0, 0, 0]),\n",
       "       list([0.0, 1.0, 0.0, 0.0, 0.0, 0.0, 0.0]),\n",
       "       list([0.625, 0.125, 0.125, 0.0625, 0.0625, 0.0, 0.0]),\n",
       "       list([0, 0, 0, 0, 0, 0, 0]),\n",
       "       list([1.0, 0.0, 0.0, 0.0, 0.0, 0.0, 0.0]),\n",
       "       list([0.4, 0.26666666666666666, 0.13333333333333333, 0.13333333333333333, 0.06666666666666667, 0.0, 0.0]),\n",
       "       list([0.6666666666666666, 0.3333333333333333, 0.0, 0.0, 0.0, 0.0, 0.0]),\n",
       "       list([0.0, 0.6, 0.2, 0.2, 0.0, 0.0, 0.0]),\n",
       "       list([0.1076923076923077, 0.26153846153846155, 0.2923076923076923, 0.2923076923076923, 0.015384615384615385, 0.0, 0.03076923076923077]),\n",
       "       list([0, 0, 0, 0, 0, 0, 0]), list([0, 0, 0, 0, 0, 0, 0]),\n",
       "       list([0, 0, 0, 0, 0, 0, 0]),\n",
       "       list([0.7777777777777778, 0.0, 0.1111111111111111, 0.0, 0.1111111111111111, 0.0, 0.0]),\n",
       "       list([0.875, 0.0, 0.0, 0.125, 0.0, 0.0, 0.0]),\n",
       "       list([0.7571428571428571, 0.15714285714285714, 0.02857142857142857, 0.02857142857142857, 0.0, 0.0, 0.02857142857142857]),\n",
       "       list([0.5, 0.3333333333333333, 0.16666666666666666, 0.0, 0.0, 0.0, 0.0]),\n",
       "       list([0.7272727272727273, 0.18181818181818182, 0.0, 0.0, 0.0, 0.0, 0.09090909090909091]),\n",
       "       list([0.7093023255813954, 0.18604651162790697, 0.05813953488372093, 0.03488372093023256, 0.0, 0.011627906976744186, 0.0]),\n",
       "       list([0.2222222222222222, 0.7777777777777778, 0.0, 0.0, 0.0, 0.0, 0.0]),\n",
       "       list([0.45, 0.35, 0.15, 0.05, 0.0, 0.0, 0.0]),\n",
       "       list([0.42702702702702705, 0.3675675675675676, 0.12972972972972974, 0.03783783783783784, 0.005405405405405406, 0.021621621621621623, 0.010810810810810811]),\n",
       "       list([0.4444444444444444, 0.2222222222222222, 0.1111111111111111, 0.2222222222222222, 0.0, 0.0, 0.0]),\n",
       "       list([0.45454545454545453, 0.36363636363636365, 0.09090909090909091, 0.09090909090909091, 0.0, 0.0, 0.0]),\n",
       "       list([0.2536231884057971, 0.2028985507246377, 0.2318840579710145, 0.18115942028985507, 0.057971014492753624, 0.043478260869565216, 0.028985507246376812]),\n",
       "       list([0.05, 0.4, 0.425, 0.125, 0.0, 0.0, 0.0]),\n",
       "       list([0.10606060606060606, 0.4696969696969697, 0.2727272727272727, 0.10606060606060606, 0.0, 0.015151515151515152, 0.030303030303030304]),\n",
       "       list([0.07480916030534351, 0.3465648854961832, 0.3236641221374046, 0.18473282442748093, 0.016793893129770993, 0.016793893129770993, 0.0366412213740458]),\n",
       "       list([0, 0, 0, 0, 0, 0, 0]), list([0, 0, 0, 0, 0, 0, 0]),\n",
       "       list([0.0, 0.0, 0.0, 0.0, 0.0, 1.0, 0.0]),\n",
       "       list([1.0, 0.0, 0.0, 0.0, 0.0, 0.0, 0.0]),\n",
       "       list([0.75, 0.0, 0.25, 0.0, 0.0, 0.0, 0.0]),\n",
       "       list([0.46153846153846156, 0.19230769230769232, 0.15384615384615385, 0.19230769230769232, 0.0, 0.0, 0.0]),\n",
       "       list([0.4, 0.4, 0.2, 0.0, 0.0, 0.0, 0.0]),\n",
       "       list([0.7777777777777778, 0.1111111111111111, 0.1111111111111111, 0.0, 0.0, 0.0, 0.0]),\n",
       "       list([0.4444444444444444, 0.25925925925925924, 0.19753086419753085, 0.06172839506172839, 0.012345679012345678, 0.0, 0.024691358024691357]),\n",
       "       list([0.3333333333333333, 0.3333333333333333, 0.2222222222222222, 0.0, 0.0, 0.0, 0.1111111111111111]),\n",
       "       list([0.45454545454545453, 0.5454545454545454, 0.0, 0.0, 0.0, 0.0, 0.0]),\n",
       "       list([0.25274725274725274, 0.5164835164835165, 0.12637362637362637, 0.054945054945054944, 0.005494505494505495, 0.02197802197802198, 0.02197802197802198]),\n",
       "       list([0.16666666666666666, 0.4166666666666667, 0.16666666666666666, 0.08333333333333333, 0.0, 0.16666666666666666, 0.0]),\n",
       "       list([0.22727272727272727, 0.4090909090909091, 0.13636363636363635, 0.09090909090909091, 0.0, 0.09090909090909091, 0.045454545454545456]),\n",
       "       list([0.09811320754716982, 0.2339622641509434, 0.2830188679245283, 0.2679245283018868, 0.026415094339622643, 0.026415094339622643, 0.06415094339622641]),\n",
       "       list([0.11392405063291139, 0.3670886075949367, 0.3291139240506329, 0.12658227848101267, 0.0, 0.012658227848101266, 0.05063291139240506]),\n",
       "       list([0.10810810810810811, 0.46621621621621623, 0.27702702702702703, 0.11486486486486487, 0.0, 0.006756756756756757, 0.02702702702702703]),\n",
       "       list([0.04879301489470981, 0.24807395993836673, 0.35130970724191063, 0.2752953261427838, 0.024139702105803802, 0.019003595274781716, 0.03338469440164355]),\n",
       "       list([0.0, 0.0, 0.0, 0.0, 0.0, 0.0, 1.0]),\n",
       "       list([0, 0, 0, 0, 0, 0, 0]), list([0, 0, 0, 0, 0, 0, 0]),\n",
       "       list([0, 0, 0, 0, 0, 0, 0]),\n",
       "       list([1.0, 0.0, 0.0, 0.0, 0.0, 0.0, 0.0]),\n",
       "       list([0.75, 0.0, 0.0, 0.25, 0.0, 0.0, 0.0]),\n",
       "       list([0.0, 0.0, 1.0, 0.0, 0.0, 0.0, 0.0]),\n",
       "       list([0.5, 0.5, 0.0, 0.0, 0.0, 0.0, 0.0]),\n",
       "       list([0.2, 0.0, 0.2, 0.2, 0.0, 0.2, 0.2]),\n",
       "       list([0, 0, 0, 0, 0, 0, 0]),\n",
       "       list([0.0, 1.0, 0.0, 0.0, 0.0, 0.0, 0.0]),\n",
       "       list([0, 0, 0, 0, 0, 0, 0]),\n",
       "       list([0.0, 1.0, 0.0, 0.0, 0.0, 0.0, 0.0]),\n",
       "       list([0, 0, 0, 0, 0, 0, 0]),\n",
       "       list([0.09090909090909091, 0.09090909090909091, 0.18181818181818182, 0.45454545454545453, 0.09090909090909091, 0.0, 0.09090909090909091]),\n",
       "       list([0.0, 0.2, 0.2, 0.4, 0.0, 0.0, 0.2]),\n",
       "       list([0.3333333333333333, 0.16666666666666666, 0.3333333333333333, 0.16666666666666666, 0.0, 0.0, 0.0]),\n",
       "       list([0.2, 0.24, 0.22, 0.24, 0.02, 0.02, 0.06]),\n",
       "       list([0, 0, 0, 0, 0, 0, 0]), list([0, 0, 0, 0, 0, 0, 0]),\n",
       "       list([0.0, 1.0, 0.0, 0.0, 0.0, 0.0, 0.0]),\n",
       "       list([0, 0, 0, 0, 0, 0, 0]), list([0, 0, 0, 0, 0, 0, 0]),\n",
       "       list([0.3333333333333333, 0.0, 0.3333333333333333, 0.3333333333333333, 0.0, 0.0, 0.0]),\n",
       "       list([0, 0, 0, 0, 0, 0, 0]),\n",
       "       list([0.5, 0.0, 0.5, 0.0, 0.0, 0.0, 0.0]),\n",
       "       list([0.6, 0.2, 0.08, 0.08, 0.0, 0.0, 0.04]),\n",
       "       list([0.0, 0.5, 0.0, 0.5, 0.0, 0.0, 0.0]),\n",
       "       list([0.3333333333333333, 0.3333333333333333, 0.0, 0.0, 0.0, 0.3333333333333333, 0.0]),\n",
       "       list([0.23333333333333334, 0.36666666666666664, 0.36666666666666664, 0.03333333333333333, 0.0, 0.0, 0.0]),\n",
       "       list([0.0, 0.5, 0.0, 0.5, 0.0, 0.0, 0.0]),\n",
       "       list([0.4, 0.4, 0.2, 0.0, 0.0, 0.0, 0.0]),\n",
       "       list([0.10869565217391304, 0.1956521739130435, 0.2391304347826087, 0.2608695652173913, 0.10869565217391304, 0.08695652173913043, 0.0]),\n",
       "       list([0.08, 0.24, 0.4, 0.2, 0.0, 0.0, 0.08]),\n",
       "       list([0.10256410256410256, 0.23076923076923078, 0.38461538461538464, 0.20512820512820512, 0.0, 0.02564102564102564, 0.05128205128205128]),\n",
       "       list([0.04642166344294004, 0.20309477756286268, 0.43133462282398455, 0.2514506769825919, 0.0038684719535783366, 0.015473887814313346, 0.048355899419729204]),\n",
       "       list([0, 0, 0, 0, 0, 0, 0]), list([0, 0, 0, 0, 0, 0, 0]),\n",
       "       list([0.0, 0.6666666666666666, 0.0, 0.3333333333333333, 0.0, 0.0, 0.0]),\n",
       "       list([0.6666666666666666, 0.3333333333333333, 0.0, 0.0, 0.0, 0.0, 0.0]),\n",
       "       list([1.0, 0.0, 0.0, 0.0, 0.0, 0.0, 0.0]),\n",
       "       list([0.42857142857142855, 0.23809523809523808, 0.14285714285714285, 0.14285714285714285, 0.023809523809523808, 0.0, 0.023809523809523808]),\n",
       "       list([0.6, 0.1, 0.2, 0.1, 0.0, 0.0, 0.0]),\n",
       "       list([0.7, 0.3, 0.0, 0.0, 0.0, 0.0, 0.0]),\n",
       "       list([0.5121951219512195, 0.17682926829268292, 0.1402439024390244, 0.1402439024390244, 0.024390243902439025, 0.006097560975609756, 0.0]),\n",
       "       list([0.21428571428571427, 0.7142857142857143, 0.07142857142857142, 0.0, 0.0, 0.0, 0.0]),\n",
       "       list([0.40540540540540543, 0.4594594594594595, 0.08108108108108109, 0.05405405405405406, 0.0, 0.0, 0.0]),\n",
       "       list([0.23793103448275862, 0.496551724137931, 0.1896551724137931, 0.04827586206896552, 0.0034482758620689655, 0.006896551724137931, 0.017241379310344827]),\n",
       "       list([0.2222222222222222, 0.25, 0.16666666666666666, 0.16666666666666666, 0.1111111111111111, 0.05555555555555555, 0.027777777777777776]),\n",
       "       list([0.2727272727272727, 0.29545454545454547, 0.18181818181818182, 0.06818181818181818, 0.045454545454545456, 0.06818181818181818, 0.06818181818181818]),\n",
       "       list([0.09624796084828711, 0.19249592169657423, 0.2495921696574225, 0.3197389885807504, 0.08319738988580751, 0.03262642740619902, 0.026101141924959218]),\n",
       "       list([0.22160664819944598, 0.3379501385041551, 0.2409972299168975, 0.16066481994459833, 0.002770083102493075, 0.019390581717451522, 0.01662049861495845]),\n",
       "       list([0.25125628140703515, 0.3241206030150754, 0.23241206030150754, 0.13693467336683418, 0.013819095477386936, 0.010050251256281407, 0.031407035175879394]),\n",
       "       list([0.08716486023958928, 0.19897318881916715, 0.3399885909868796, 0.298687963491158, 0.022247575584711923, 0.01825442099258414, 0.03468339988590987]),\n",
       "       list([0, 0, 0, 0, 0, 0, 0]), list([0, 0, 0, 0, 0, 0, 0]),\n",
       "       list([0.0, 0.0, 0.0, 1.0, 0.0, 0.0, 0.0]),\n",
       "       list([1.0, 0.0, 0.0, 0.0, 0.0, 0.0, 0.0]),\n",
       "       list([0.0, 0.0, 1.0, 0.0, 0.0, 0.0, 0.0]),\n",
       "       list([0.25, 0.4583333333333333, 0.20833333333333334, 0.041666666666666664, 0.0, 0.041666666666666664, 0.0]),\n",
       "       list([0.3333333333333333, 0.3333333333333333, 0.3333333333333333, 0.0, 0.0, 0.0, 0.0]),\n",
       "       list([0.5555555555555556, 0.0, 0.3333333333333333, 0.1111111111111111, 0.0, 0.0, 0.0]),\n",
       "       list([0.42424242424242425, 0.16666666666666666, 0.25757575757575757, 0.10606060606060606, 0.015151515151515152, 0.015151515151515152, 0.015151515151515152]),\n",
       "       list([0.3333333333333333, 0.5, 0.16666666666666666, 0.0, 0.0, 0.0, 0.0]),\n",
       "       list([0.4, 0.4, 0.2, 0.0, 0.0, 0.0, 0.0]),\n",
       "       list([0.07079646017699115, 0.4424778761061947, 0.2920353982300885, 0.1504424778761062, 0.0, 0.017699115044247787, 0.02654867256637168]),\n",
       "       list([0.2857142857142857, 0.14285714285714285, 0.3333333333333333, 0.23809523809523808, 0.0, 0.0, 0.0]),\n",
       "       list([0.11764705882352941, 0.35294117647058826, 0.2647058823529412, 0.20588235294117646, 0.0, 0.0, 0.058823529411764705]),\n",
       "       list([0.043701799485861184, 0.19794344473007713, 0.3059125964010283, 0.30077120822622105, 0.06426735218508997, 0.06683804627249357, 0.02056555269922879]),\n",
       "       list([0.08900523560209424, 0.3403141361256545, 0.3298429319371728, 0.15706806282722513, 0.010471204188481676, 0.020942408376963352, 0.05235602094240838]),\n",
       "       list([0.15367483296213807, 0.3051224944320713, 0.30734966592427615, 0.1714922048997773, 0.008908685968819599, 0.031180400890868598, 0.022271714922048998]),\n",
       "       list([0.04577898104848634, 0.1959143490031996, 0.37952252030519323, 0.28476495200590696, 0.029780950036918535, 0.02165887275412257, 0.04257937484617278]),\n",
       "       list([0, 0, 0, 0, 0, 0, 0]), list([0, 0, 0, 0, 0, 0, 0]),\n",
       "       list([0, 0, 0, 0, 0, 0, 0]), list([0, 0, 0, 0, 0, 0, 0]),\n",
       "       list([0.0, 0.0, 1.0, 0.0, 0.0, 0.0, 0.0]),\n",
       "       list([0.0, 1.0, 0.0, 0.0, 0.0, 0.0, 0.0]),\n",
       "       list([0, 0, 0, 0, 0, 0, 0]), list([0, 0, 0, 0, 0, 0, 0]),\n",
       "       list([0.4, 0.2, 0.2, 0.2, 0.0, 0.0, 0.0]),\n",
       "       list([0, 0, 0, 0, 0, 0, 0]), list([0, 0, 0, 0, 0, 0, 0]),\n",
       "       list([0.09090909090909091, 0.2727272727272727, 0.5454545454545454, 0.09090909090909091, 0.0, 0.0, 0.0]),\n",
       "       list([0, 0, 0, 0, 0, 0, 0]),\n",
       "       list([0.0, 0.5, 0.5, 0.0, 0.0, 0.0, 0.0]),\n",
       "       list([0.07142857142857142, 0.16666666666666666, 0.30952380952380953, 0.2857142857142857, 0.07142857142857142, 0.07142857142857142, 0.023809523809523808]),\n",
       "       list([0.16666666666666666, 0.3333333333333333, 0.16666666666666666, 0.3333333333333333, 0.0, 0.0, 0.0]),\n",
       "       list([0.037037037037037035, 0.14814814814814814, 0.37037037037037035, 0.2222222222222222, 0.1111111111111111, 0.07407407407407407, 0.037037037037037035]),\n",
       "       list([0.01195219123505976, 0.10159362549800798, 0.3844621513944223, 0.350597609561753, 0.06772908366533864, 0.0398406374501992, 0.043824701195219126])],\n",
       "      dtype=object)"
      ]
     },
     "execution_count": 54,
     "metadata": {},
     "output_type": "execute_result"
    }
   ],
   "source": [
    "treated_prob = data_probabilities[:,2]\n",
    "treated_prob.view()"
   ]
  },
  {
   "cell_type": "markdown",
   "metadata": {},
   "source": [
    "We can now go through all of the covariate levels and the treated / untreated results and multiply by the number of individuals in the covariate leve (as if they were all treated, or all untreated)."
   ]
  },
  {
   "cell_type": "code",
   "execution_count": 55,
   "metadata": {},
   "outputs": [],
   "source": [
    "untreated_array = []\n",
    "treated_array = []\n",
    "for level in range(len(num_in_cov)):\n",
    "    untreated_array.append(np.multiply(num_in_cov[level], untreated_prob[level]))\n",
    "    treated_array.append(np.multiply(num_in_cov[level], treated_prob[level]))"
   ]
  },
  {
   "cell_type": "code",
   "execution_count": 56,
   "metadata": {},
   "outputs": [],
   "source": [
    "untreated_array = np.array(untreated_array)\n",
    "treated_array = np.array(treated_array)"
   ]
  },
  {
   "cell_type": "code",
   "execution_count": 57,
   "metadata": {},
   "outputs": [
    {
     "name": "stdout",
     "output_type": "stream",
     "text": [
      "[[  0.           0.           0.         ...   0.           0.\n",
      "    0.        ]\n",
      " [  0.           0.           0.         ...   0.           0.\n",
      "    0.        ]\n",
      " [  0.           0.           0.         ...   0.           0.\n",
      "    0.        ]\n",
      " ...\n",
      " [  0.           8.           2.         ...   0.           8.\n",
      "    2.        ]\n",
      " [  0.           0.          10.         ...  10.           0.\n",
      "    0.        ]\n",
      " [  0.         137.86666667 103.4        ...   0.           0.\n",
      "   34.46666667]]\n"
     ]
    }
   ],
   "source": [
    "print(untreated_array)"
   ]
  },
  {
   "cell_type": "code",
   "execution_count": 58,
   "metadata": {},
   "outputs": [
    {
     "name": "stdout",
     "output_type": "stream",
     "text": [
      "[[  1.           0.           0.         ...   0.           0.\n",
      "    0.        ]\n",
      " [  0.           0.           0.         ...   0.           0.\n",
      "    0.        ]\n",
      " [  0.           0.           0.         ...   0.           0.\n",
      "    0.        ]\n",
      " ...\n",
      " [  4.           8.           4.         ...   0.           0.\n",
      "    0.        ]\n",
      " [  1.11111111   4.44444444  11.11111111 ...   3.33333333   2.22222222\n",
      "    1.11111111]\n",
      " [  6.17928287  52.52390438 198.76693227 ...  35.01593625  20.59760956\n",
      "   22.65737052]]\n"
     ]
    }
   ],
   "source": [
    "print(treated_array)"
   ]
  },
  {
   "cell_type": "markdown",
   "metadata": {},
   "source": [
    "Next, we can take the count of all of those individuals across our salary ranges:"
   ]
  },
  {
   "cell_type": "code",
   "execution_count": 59,
   "metadata": {},
   "outputs": [],
   "source": [
    "untreated_cov_count = []\n",
    "treated_cov_count = []\n",
    "for i in range(7):\n",
    "    untreated_cov_count.append(sum(untreated_array[:,i]))\n",
    "    treated_cov_count.append(sum(treated_array[:,i]))"
   ]
  },
  {
   "cell_type": "markdown",
   "metadata": {},
   "source": [
    "And we can see these the count of individuals within each salary range for the untreated (as both values and probabilities)"
   ]
  },
  {
   "cell_type": "code",
   "execution_count": 60,
   "metadata": {},
   "outputs": [
    {
     "name": "stdout",
     "output_type": "stream",
     "text": [
      "[4765.636415648822, 8548.794220625497, 5459.314803489284, 3665.546061505692, 256.63095839726003, 297.7564241011063, 827.3211162323373]\n",
      "[0.2000603  0.35887638 0.22918076 0.15387877 0.01077331 0.01249974\n",
      " 0.03473075]\n"
     ]
    }
   ],
   "source": [
    "print(untreated_cov_count)\n",
    "untreated_cov_count = untreated_cov_count / sum(untreated_cov_count) \n",
    "print(untreated_cov_count)"
   ]
  },
  {
   "cell_type": "markdown",
   "metadata": {},
   "source": [
    "And the same for the treated"
   ]
  },
  {
   "cell_type": "code",
   "execution_count": 61,
   "metadata": {},
   "outputs": [
    {
     "name": "stdout",
     "output_type": "stream",
     "text": [
      "[2726.8035388813487, 5591.385010618098, 7665.374722074746, 6033.609362100252, 582.3934502204446, 490.8001350506719, 814.6337810544378]\n",
      "[0.11406833 0.23390023 0.32065989 0.25239947 0.02436283 0.02053128\n",
      " 0.03407797]\n"
     ]
    }
   ],
   "source": [
    "print(treated_cov_count)\n",
    "treated_cov_count = treated_cov_count / sum(treated_cov_count) \n",
    "print(treated_cov_count)"
   ]
  },
  {
   "cell_type": "markdown",
   "metadata": {},
   "source": [
    "Finally, we can set the tuple list and calculate our risk measures:"
   ]
  },
  {
   "cell_type": "code",
   "execution_count": 62,
   "metadata": {},
   "outputs": [
    {
     "name": "stdout",
     "output_type": "stream",
     "text": [
      "[(0.20006030039246134, 0.11406833461122565), (0.3588763788516644, 0.23390023052156866), (0.2291807566218582, 0.32065989215957946), (0.15387876501850015, 0.2523994713281846), (0.010773307518461023, 0.024362829961114607), (0.012499744935187703, 0.02053127525834227), (0.034730746661867144, 0.03407796615998485)]\n"
     ]
    }
   ],
   "source": [
    "salary_range = [0,1,2,3,4,5,6]\n",
    "salary_bins = [10000,40000,80000,160000,200000,500000,2000000]\n",
    "tuple_list = []\n",
    "\n",
    "for sal in salary_range:\n",
    "    tuple_list.append((untreated_cov_count[sal],treated_cov_count[sal]))\n",
    "    \n",
    "print(tuple_list)"
   ]
  },
  {
   "cell_type": "code",
   "execution_count": 63,
   "metadata": {},
   "outputs": [
    {
     "name": "stdout",
     "output_type": "stream",
     "text": [
      "Risk of salary of 10000 if (doesn't report, reports) code: (0.20006030039246134, 0.11406833461122565)\n",
      "Risk of salary of 40000 if (doesn't report, reports) code: (0.3588763788516644, 0.23390023052156866)\n",
      "Risk of salary of 80000 if (doesn't report, reports) code: (0.2291807566218582, 0.32065989215957946)\n",
      "Risk of salary of 160000 if (doesn't report, reports) code: (0.15387876501850015, 0.2523994713281846)\n",
      "Risk of salary of 200000 if (doesn't report, reports) code: (0.010773307518461023, 0.024362829961114607)\n",
      "Risk of salary of 500000 if (doesn't report, reports) code: (0.012499744935187703, 0.02053127525834227)\n",
      "Risk of salary of 2000000 if (doesn't report, reports) code: (0.034730746661867144, 0.03407796615998485)\n"
     ]
    }
   ],
   "source": [
    "for sal in salary_range:\n",
    "    print(\"Risk of salary of \" + str(salary_bins[sal]) + \" if (doesn't report, reports) code: \" + str(tuple_list[sal]))"
   ]
  },
  {
   "cell_type": "code",
   "execution_count": 64,
   "metadata": {},
   "outputs": [
    {
     "name": "stdout",
     "output_type": "stream",
     "text": [
      "Risk difference for salary of 10000: -0.08599196578123569\n",
      "Risk difference for salary of 40000: -0.12497614833009574\n",
      "Risk difference for salary of 80000: 0.09147913553772127\n",
      "Risk difference for salary of 160000: 0.09852070630968443\n",
      "Risk difference for salary of 200000: 0.013589522442653584\n",
      "Risk difference for salary of 500000: 0.008031530323154566\n",
      "Risk difference for salary of 2000000: -0.0006527805018822913\n"
     ]
    }
   ],
   "source": [
    "for sal in salary_range:\n",
    "    untreated, treated = tuple_list[sal]\n",
    "    print(\"Risk difference for salary of \" + str(salary_bins[sal]) + \": \" + str(treated - untreated))"
   ]
  },
  {
   "cell_type": "markdown",
   "metadata": {},
   "source": [
    "Similarly, we can then compute the Risk Ratio:"
   ]
  },
  {
   "cell_type": "code",
   "execution_count": 65,
   "metadata": {},
   "outputs": [
    {
     "name": "stdout",
     "output_type": "stream",
     "text": [
      "Risk ratio for salary of 10000: 0.5701697657529058\n",
      "Risk ratio for salary of 40000: 0.6517571071966468\n",
      "Risk ratio for salary of 80000: 1.39915714079197\n",
      "Risk ratio for salary of 160000: 1.6402488757811367\n",
      "Risk ratio for salary of 200000: 2.261406714638631\n",
      "Risk ratio for salary of 500000: 1.6425355369088546\n",
      "Risk ratio for salary of 2000000: 0.9812045359048092\n"
     ]
    }
   ],
   "source": [
    "salary_range = [0,1,2,3,4,5,6]\n",
    "salary_bins = [10000,40000,80000,160000,200000,500000,2000000]\n",
    "for sal in salary_range:\n",
    "    untreated, treated = tuple_list[sal]\n",
    "    print(\"Risk ratio for salary of \" + str(salary_bins[sal]) + \": \" + str(treated/untreated))"
   ]
  },
  {
   "cell_type": "markdown",
   "metadata": {},
   "source": [
    "# 3.3.2 Standardization:"
   ]
  },
  {
   "cell_type": "code",
   "execution_count": 66,
   "metadata": {},
   "outputs": [],
   "source": [
    "def prob_over_covariates(Y,Z,A):\n",
    "    #Define our constants:\n",
    "    education_range = [0,1,2,3,4,5,6,7]\n",
    "    ethics_range = [-1,0,1]\n",
    "    \n",
    "    cum_sum = 0\n",
    "    #Run through all levels and calculate the risk within each level of employment\n",
    "    for edu in education_range:\n",
    "        for eth in ethics_range:\n",
    "            \n",
    "            val1 = probability(\"ConvertedSalary == \" + str(Y), \"FormalEducation == \" + str(edu) + \" and EthicalImplications == \" + str(eth) + \" and EthicsReport == \" + str(A) + \" and Employment == \" + str(Z))\n",
    "            val2 = probability(\"FormalEducation == \" + str(edu) + \" and EthicalImplications == \" + str(eth), \"\")\n",
    "            \n",
    "            cum_sum += val1 * val2\n",
    "    return cum_sum"
   ]
  },
  {
   "cell_type": "code",
   "execution_count": 67,
   "metadata": {},
   "outputs": [],
   "source": [
    "def standardization(Y):\n",
    "    #Define our constants:\n",
    "    employment_range = [0,1,2,3,4,5]\n",
    "    \n",
    "    #Standardized treated risk\n",
    "    treated_sum = 0\n",
    "    for emp in employment_range:\n",
    "        treated_sum += prob_over_covariates(Y, emp, 1) * probability(\"Employment == \" + str(emp),\"\")\n",
    "        \n",
    "    #Standardized untreated risk\n",
    "    untreated_sum = 0\n",
    "    for emp in employment_range:\n",
    "        untreated_sum += prob_over_covariates(Y, emp, 0) * probability(\"Employment == \" + str(emp),\"\")\n",
    "    \n",
    "    return (untreated_sum, treated_sum)"
   ]
  },
  {
   "cell_type": "markdown",
   "metadata": {},
   "source": [
    "We can now run through every salary range and compare all of the different treated + untreated risk values."
   ]
  },
  {
   "cell_type": "code",
   "execution_count": 68,
   "metadata": {},
   "outputs": [
    {
     "name": "stdout",
     "output_type": "stream",
     "text": [
      "[(0.19004091728584213, 0.10645632045548083), (0.35474502001265457, 0.235315342075257), (0.22731040326173366, 0.3185701029601804), (0.15166359944071228, 0.2487616376035318), (0.011499525678184085, 0.024167861842089494), (0.01303829367984179, 0.0200190380744335), (0.034435257025118085, 0.033394953289387734)]\n"
     ]
    }
   ],
   "source": [
    "salary_range = [0,1,2,3,4,5,6]\n",
    "salary_bins = [10000,40000,80000,160000,200000,500000,2000000]\n",
    "tuple_list = []\n",
    "for sal in salary_range:\n",
    "    tuple_list.append(standardization(sal))\n",
    "print(tuple_list)"
   ]
  },
  {
   "cell_type": "markdown",
   "metadata": {},
   "source": [
    "And now see which values map to which:"
   ]
  },
  {
   "cell_type": "code",
   "execution_count": 69,
   "metadata": {},
   "outputs": [
    {
     "name": "stdout",
     "output_type": "stream",
     "text": [
      "Risk of salary of 10000 if (doesn't report, reports) code: (0.19004091728584213, 0.10645632045548083)\n",
      "Risk of salary of 40000 if (doesn't report, reports) code: (0.35474502001265457, 0.235315342075257)\n",
      "Risk of salary of 80000 if (doesn't report, reports) code: (0.22731040326173366, 0.3185701029601804)\n",
      "Risk of salary of 160000 if (doesn't report, reports) code: (0.15166359944071228, 0.2487616376035318)\n",
      "Risk of salary of 200000 if (doesn't report, reports) code: (0.011499525678184085, 0.024167861842089494)\n",
      "Risk of salary of 500000 if (doesn't report, reports) code: (0.01303829367984179, 0.0200190380744335)\n",
      "Risk of salary of 2000000 if (doesn't report, reports) code: (0.034435257025118085, 0.033394953289387734)\n"
     ]
    }
   ],
   "source": [
    "for sal in salary_range:\n",
    "    print(\"Risk of salary of \" + str(salary_bins[sal]) + \" if (doesn't report, reports) code: \" + str(tuple_list[sal]))"
   ]
  },
  {
   "cell_type": "markdown",
   "metadata": {},
   "source": [
    "Now we can also compute our risk values. Let's start with our Risk Difference:"
   ]
  },
  {
   "cell_type": "code",
   "execution_count": 70,
   "metadata": {},
   "outputs": [
    {
     "name": "stdout",
     "output_type": "stream",
     "text": [
      "Risk difference for salary of 10000: -0.0835845968303613\n",
      "Risk difference for salary of 40000: -0.11942967793739756\n",
      "Risk difference for salary of 80000: 0.09125969969844674\n",
      "Risk difference for salary of 160000: 0.0970980381628195\n",
      "Risk difference for salary of 200000: 0.012668336163905409\n",
      "Risk difference for salary of 500000: 0.0069807443945917105\n",
      "Risk difference for salary of 2000000: -0.001040303735730351\n"
     ]
    }
   ],
   "source": [
    "for sal in salary_range:\n",
    "    untreated, treated = tuple_list[sal]\n",
    "    print(\"Risk difference for salary of \" + str(salary_bins[sal]) + \": \" + str(treated - untreated))"
   ]
  },
  {
   "cell_type": "markdown",
   "metadata": {},
   "source": [
    "Similarly, we can then compute the Risk Ratio:"
   ]
  },
  {
   "cell_type": "code",
   "execution_count": 71,
   "metadata": {},
   "outputs": [
    {
     "name": "stdout",
     "output_type": "stream",
     "text": [
      "Risk ratio for salary of 10000: 0.5601757872772156\n",
      "Risk ratio for salary of 40000: 0.6633365623197833\n",
      "Risk ratio for salary of 80000: 1.4014761242289775\n",
      "Risk ratio for salary of 160000: 1.6402197924939574\n",
      "Risk ratio for salary of 200000: 2.1016398865858172\n",
      "Risk ratio for salary of 500000: 1.5354032180901462\n",
      "Risk ratio for salary of 2000000: 0.9697895754060577\n"
     ]
    }
   ],
   "source": [
    "salary_range = [0,1,2,3,4,5,6]\n",
    "salary_bins = [10000,40000,80000,160000,200000,500000,2000000]\n",
    "for sal in salary_range:\n",
    "    untreated, treated = tuple_list[sal]\n",
    "    print(\"Risk ratio for salary of \" + str(salary_bins[sal]) + \": \" + str(treated/untreated))"
   ]
  }
 ],
 "metadata": {
  "kernelspec": {
   "display_name": "Python 3",
   "language": "python",
   "name": "python3"
  },
  "language_info": {
   "codemirror_mode": {
    "name": "ipython",
    "version": 3
   },
   "file_extension": ".py",
   "mimetype": "text/x-python",
   "name": "python",
   "nbconvert_exporter": "python",
   "pygments_lexer": "ipython3",
   "version": "3.7.4"
  }
 },
 "nbformat": 4,
 "nbformat_minor": 4
}
