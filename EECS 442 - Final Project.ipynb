{
 "cells": [
  {
   "cell_type": "markdown",
   "metadata": {},
   "source": [
    "The first library we can try is CSV:"
   ]
  },
  {
   "cell_type": "code",
   "execution_count": 79,
   "metadata": {},
   "outputs": [],
   "source": [
    "import csv"
   ]
  },
  {
   "cell_type": "code",
   "execution_count": 80,
   "metadata": {},
   "outputs": [
    {
     "name": "stdout",
     "output_type": "stream",
     "text": [
      "Column names are Respondent, Hobby, OpenSource, Country, Student, Employment, FormalEducation, UndergradMajor, CompanySize, DevType, YearsCoding, YearsCodingProf, JobSatisfaction, CareerSatisfaction, HopeFiveYears, JobSearchStatus, LastNewJob, AssessJob1, AssessJob2, AssessJob3, AssessJob4, AssessJob5, AssessJob6, AssessJob7, AssessJob8, AssessJob9, AssessJob10, AssessBenefits1, AssessBenefits2, AssessBenefits3, AssessBenefits4, AssessBenefits5, AssessBenefits6, AssessBenefits7, AssessBenefits8, AssessBenefits9, AssessBenefits10, AssessBenefits11, JobContactPriorities1, JobContactPriorities2, JobContactPriorities3, JobContactPriorities4, JobContactPriorities5, JobEmailPriorities1, JobEmailPriorities2, JobEmailPriorities3, JobEmailPriorities4, JobEmailPriorities5, JobEmailPriorities6, JobEmailPriorities7, UpdateCV, Currency, Salary, SalaryType, ConvertedSalary, CurrencySymbol, CommunicationTools, TimeFullyProductive, EducationTypes, SelfTaughtTypes, TimeAfterBootcamp, HackathonReasons, AgreeDisagree1, AgreeDisagree2, AgreeDisagree3, LanguageWorkedWith, LanguageDesireNextYear, DatabaseWorkedWith, DatabaseDesireNextYear, PlatformWorkedWith, PlatformDesireNextYear, FrameworkWorkedWith, FrameworkDesireNextYear, IDE, OperatingSystem, NumberMonitors, Methodology, VersionControl, CheckInCode, AdBlocker, AdBlockerDisable, AdBlockerReasons, AdsAgreeDisagree1, AdsAgreeDisagree2, AdsAgreeDisagree3, AdsActions, AdsPriorities1, AdsPriorities2, AdsPriorities3, AdsPriorities4, AdsPriorities5, AdsPriorities6, AdsPriorities7, AIDangerous, AIInteresting, AIResponsible, AIFuture, EthicsChoice, EthicsReport, EthicsResponsible, EthicalImplications, StackOverflowRecommend, StackOverflowVisit, StackOverflowHasAccount, StackOverflowParticipate, StackOverflowJobs, StackOverflowDevStory, StackOverflowJobsRecommend, StackOverflowConsiderMember, HypotheticalTools1, HypotheticalTools2, HypotheticalTools3, HypotheticalTools4, HypotheticalTools5, WakeTime, HoursComputer, HoursOutside, SkipMeals, ErgonomicDevices, Exercise, Gender, SexualOrientation, EducationParents, RaceEthnicity, Age, Dependents, MilitaryUS, SurveyTooLong, SurveyEasy\n",
      "Processed 98856 lines.\n"
     ]
    }
   ],
   "source": [
    "with open('survey_results_public.csv', newline='', encoding=\"utf8\") as csv_file:\n",
    "    csv_reader = csv.reader(csv_file, delimiter=',')\n",
    "    line_count = 0\n",
    "    for row in csv_reader:\n",
    "        if line_count == 0:\n",
    "            print(f'Column names are {\", \".join(row)}')\n",
    "            line_count+= 1\n",
    "        else:\n",
    "            line_count += 1\n",
    "    print(f'Processed {line_count} lines.')"
   ]
  },
  {
   "cell_type": "markdown",
   "metadata": {},
   "source": [
    "It's pretty useful but doesn't provide easy manipulation of columns. Next, let us take a look at pandas dataframes:"
   ]
  },
  {
   "cell_type": "code",
   "execution_count": 50,
   "metadata": {},
   "outputs": [],
   "source": [
    "import pandas as pd"
   ]
  },
  {
   "cell_type": "markdown",
   "metadata": {},
   "source": [
    "Save the csv into a variable dataframe:"
   ]
  },
  {
   "cell_type": "code",
   "execution_count": 52,
   "metadata": {},
   "outputs": [],
   "source": [
    "df=pd.read_csv(\"survey_results_public.csv\", encoding =\"utf8\", low_memory=False)"
   ]
  },
  {
   "cell_type": "markdown",
   "metadata": {},
   "source": [
    "Now we can query the dataframe by column numbers"
   ]
  },
  {
   "cell_type": "code",
   "execution_count": 53,
   "metadata": {},
   "outputs": [
    {
     "data": {
      "text/plain": [
       "0        Yes\n",
       "1        Yes\n",
       "2        Yes\n",
       "3         No\n",
       "4        Yes\n",
       "        ... \n",
       "98850    Yes\n",
       "98851     No\n",
       "98852    Yes\n",
       "98853    Yes\n",
       "98854    Yes\n",
       "Name: Hobby, Length: 98855, dtype: object"
      ]
     },
     "execution_count": 53,
     "metadata": {},
     "output_type": "execute_result"
    }
   ],
   "source": [
    "df[df.columns[1]]"
   ]
  },
  {
   "cell_type": "markdown",
   "metadata": {},
   "source": [
    "Or we can utilize names:"
   ]
  },
  {
   "cell_type": "code",
   "execution_count": 54,
   "metadata": {},
   "outputs": [
    {
     "data": {
      "text/plain": [
       "0                    No\n",
       "1                    No\n",
       "2                    No\n",
       "3                    No\n",
       "4        Yes, part-time\n",
       "              ...      \n",
       "98850               NaN\n",
       "98851    Yes, full-time\n",
       "98852    Yes, full-time\n",
       "98853                No\n",
       "98854               NaN\n",
       "Name: Student, Length: 98855, dtype: object"
      ]
     },
     "execution_count": 54,
     "metadata": {},
     "output_type": "execute_result"
    }
   ],
   "source": [
    "df[\"Student\"]"
   ]
  },
  {
   "cell_type": "markdown",
   "metadata": {},
   "source": [
    "Now, the data we need is: Parent's Education, Education, Reporting Responsibility, Employment, Reporting Code, and Salary."
   ]
  },
  {
   "cell_type": "code",
   "execution_count": 55,
   "metadata": {},
   "outputs": [],
   "source": [
    "new_df = df[['Respondent', 'FormalEducation', 'EthicalImplications', 'Employment', 'EthicsReport', 'ConvertedSalary']].copy()"
   ]
  },
  {
   "cell_type": "markdown",
   "metadata": {},
   "source": [
    "And we can verify that our dataframe is correct (columns are split into mutiple lines of entries):"
   ]
  },
  {
   "cell_type": "code",
   "execution_count": 56,
   "metadata": {},
   "outputs": [
    {
     "data": {
      "text/html": [
       "<div>\n",
       "<style scoped>\n",
       "    .dataframe tbody tr th:only-of-type {\n",
       "        vertical-align: middle;\n",
       "    }\n",
       "\n",
       "    .dataframe tbody tr th {\n",
       "        vertical-align: top;\n",
       "    }\n",
       "\n",
       "    .dataframe thead th {\n",
       "        text-align: right;\n",
       "    }\n",
       "</style>\n",
       "<table border=\"1\" class=\"dataframe\">\n",
       "  <thead>\n",
       "    <tr style=\"text-align: right;\">\n",
       "      <th></th>\n",
       "      <th>Respondent</th>\n",
       "      <th>FormalEducation</th>\n",
       "      <th>EthicalImplications</th>\n",
       "      <th>Employment</th>\n",
       "      <th>EthicsReport</th>\n",
       "      <th>ConvertedSalary</th>\n",
       "    </tr>\n",
       "  </thead>\n",
       "  <tbody>\n",
       "    <tr>\n",
       "      <th>0</th>\n",
       "      <td>1</td>\n",
       "      <td>Bachelor’s degree (BA, BS, B.Eng., etc.)</td>\n",
       "      <td>Yes</td>\n",
       "      <td>Employed part-time</td>\n",
       "      <td>Yes, and publicly</td>\n",
       "      <td>NaN</td>\n",
       "    </tr>\n",
       "    <tr>\n",
       "      <th>1</th>\n",
       "      <td>3</td>\n",
       "      <td>Bachelor’s degree (BA, BS, B.Eng., etc.)</td>\n",
       "      <td>Yes</td>\n",
       "      <td>Employed full-time</td>\n",
       "      <td>Depends on what it is</td>\n",
       "      <td>70841.0</td>\n",
       "    </tr>\n",
       "    <tr>\n",
       "      <th>2</th>\n",
       "      <td>4</td>\n",
       "      <td>Associate degree</td>\n",
       "      <td>NaN</td>\n",
       "      <td>Employed full-time</td>\n",
       "      <td>NaN</td>\n",
       "      <td>NaN</td>\n",
       "    </tr>\n",
       "    <tr>\n",
       "      <th>3</th>\n",
       "      <td>5</td>\n",
       "      <td>Bachelor’s degree (BA, BS, B.Eng., etc.)</td>\n",
       "      <td>Yes</td>\n",
       "      <td>Employed full-time</td>\n",
       "      <td>Yes, but only within the company</td>\n",
       "      <td>NaN</td>\n",
       "    </tr>\n",
       "    <tr>\n",
       "      <th>4</th>\n",
       "      <td>7</td>\n",
       "      <td>Some college/university study without earning ...</td>\n",
       "      <td>Yes</td>\n",
       "      <td>Employed full-time</td>\n",
       "      <td>Yes, but only within the company</td>\n",
       "      <td>21426.0</td>\n",
       "    </tr>\n",
       "    <tr>\n",
       "      <th>...</th>\n",
       "      <td>...</td>\n",
       "      <td>...</td>\n",
       "      <td>...</td>\n",
       "      <td>...</td>\n",
       "      <td>...</td>\n",
       "      <td>...</td>\n",
       "    </tr>\n",
       "    <tr>\n",
       "      <th>98850</th>\n",
       "      <td>101513</td>\n",
       "      <td>NaN</td>\n",
       "      <td>NaN</td>\n",
       "      <td>NaN</td>\n",
       "      <td>NaN</td>\n",
       "      <td>NaN</td>\n",
       "    </tr>\n",
       "    <tr>\n",
       "      <th>98851</th>\n",
       "      <td>101531</td>\n",
       "      <td>NaN</td>\n",
       "      <td>NaN</td>\n",
       "      <td>Not employed, but looking for work</td>\n",
       "      <td>NaN</td>\n",
       "      <td>NaN</td>\n",
       "    </tr>\n",
       "    <tr>\n",
       "      <th>98852</th>\n",
       "      <td>101541</td>\n",
       "      <td>Bachelor’s degree (BA, BS, B.Eng., etc.)</td>\n",
       "      <td>NaN</td>\n",
       "      <td>Employed full-time</td>\n",
       "      <td>NaN</td>\n",
       "      <td>NaN</td>\n",
       "    </tr>\n",
       "    <tr>\n",
       "      <th>98853</th>\n",
       "      <td>101544</td>\n",
       "      <td>Some college/university study without earning ...</td>\n",
       "      <td>NaN</td>\n",
       "      <td>Independent contractor, freelancer, or self-em...</td>\n",
       "      <td>NaN</td>\n",
       "      <td>NaN</td>\n",
       "    </tr>\n",
       "    <tr>\n",
       "      <th>98854</th>\n",
       "      <td>101548</td>\n",
       "      <td>NaN</td>\n",
       "      <td>NaN</td>\n",
       "      <td>NaN</td>\n",
       "      <td>NaN</td>\n",
       "      <td>NaN</td>\n",
       "    </tr>\n",
       "  </tbody>\n",
       "</table>\n",
       "<p>98855 rows × 6 columns</p>\n",
       "</div>"
      ],
      "text/plain": [
       "       Respondent                                    FormalEducation  \\\n",
       "0               1           Bachelor’s degree (BA, BS, B.Eng., etc.)   \n",
       "1               3           Bachelor’s degree (BA, BS, B.Eng., etc.)   \n",
       "2               4                                   Associate degree   \n",
       "3               5           Bachelor’s degree (BA, BS, B.Eng., etc.)   \n",
       "4               7  Some college/university study without earning ...   \n",
       "...           ...                                                ...   \n",
       "98850      101513                                                NaN   \n",
       "98851      101531                                                NaN   \n",
       "98852      101541           Bachelor’s degree (BA, BS, B.Eng., etc.)   \n",
       "98853      101544  Some college/university study without earning ...   \n",
       "98854      101548                                                NaN   \n",
       "\n",
       "      EthicalImplications                                         Employment  \\\n",
       "0                     Yes                                 Employed part-time   \n",
       "1                     Yes                                 Employed full-time   \n",
       "2                     NaN                                 Employed full-time   \n",
       "3                     Yes                                 Employed full-time   \n",
       "4                     Yes                                 Employed full-time   \n",
       "...                   ...                                                ...   \n",
       "98850                 NaN                                                NaN   \n",
       "98851                 NaN                 Not employed, but looking for work   \n",
       "98852                 NaN                                 Employed full-time   \n",
       "98853                 NaN  Independent contractor, freelancer, or self-em...   \n",
       "98854                 NaN                                                NaN   \n",
       "\n",
       "                           EthicsReport  ConvertedSalary  \n",
       "0                     Yes, and publicly              NaN  \n",
       "1                 Depends on what it is          70841.0  \n",
       "2                                   NaN              NaN  \n",
       "3      Yes, but only within the company              NaN  \n",
       "4      Yes, but only within the company          21426.0  \n",
       "...                                 ...              ...  \n",
       "98850                               NaN              NaN  \n",
       "98851                               NaN              NaN  \n",
       "98852                               NaN              NaN  \n",
       "98853                               NaN              NaN  \n",
       "98854                               NaN              NaN  \n",
       "\n",
       "[98855 rows x 6 columns]"
      ]
     },
     "execution_count": 56,
     "metadata": {},
     "output_type": "execute_result"
    }
   ],
   "source": [
    "new_df"
   ]
  },
  {
   "cell_type": "markdown",
   "metadata": {},
   "source": [
    "Given this new table, we can now output to another csv which is purely for the columns we're interested in."
   ]
  },
  {
   "cell_type": "code",
   "execution_count": 57,
   "metadata": {},
   "outputs": [],
   "source": [
    "new_df.to_csv('survey_results_public_important.csv', index=False, encoding='utf-8')"
   ]
  },
  {
   "cell_type": "markdown",
   "metadata": {},
   "source": [
    "# Now we need to clean up the data. Only use entries that have ALL the fields entered"
   ]
  },
  {
   "cell_type": "code",
   "execution_count": 58,
   "metadata": {},
   "outputs": [],
   "source": [
    "cleaned_survey_results = new_df.copy().dropna()"
   ]
  },
  {
   "cell_type": "code",
   "execution_count": 59,
   "metadata": {},
   "outputs": [
    {
     "data": {
      "text/html": [
       "<div>\n",
       "<style scoped>\n",
       "    .dataframe tbody tr th:only-of-type {\n",
       "        vertical-align: middle;\n",
       "    }\n",
       "\n",
       "    .dataframe tbody tr th {\n",
       "        vertical-align: top;\n",
       "    }\n",
       "\n",
       "    .dataframe thead th {\n",
       "        text-align: right;\n",
       "    }\n",
       "</style>\n",
       "<table border=\"1\" class=\"dataframe\">\n",
       "  <thead>\n",
       "    <tr style=\"text-align: right;\">\n",
       "      <th></th>\n",
       "      <th>Respondent</th>\n",
       "      <th>FormalEducation</th>\n",
       "      <th>EthicalImplications</th>\n",
       "      <th>Employment</th>\n",
       "      <th>EthicsReport</th>\n",
       "      <th>ConvertedSalary</th>\n",
       "    </tr>\n",
       "  </thead>\n",
       "  <tbody>\n",
       "    <tr>\n",
       "      <th>1</th>\n",
       "      <td>3</td>\n",
       "      <td>Bachelor’s degree (BA, BS, B.Eng., etc.)</td>\n",
       "      <td>Yes</td>\n",
       "      <td>Employed full-time</td>\n",
       "      <td>Depends on what it is</td>\n",
       "      <td>70841.0</td>\n",
       "    </tr>\n",
       "    <tr>\n",
       "      <th>4</th>\n",
       "      <td>7</td>\n",
       "      <td>Some college/university study without earning ...</td>\n",
       "      <td>Yes</td>\n",
       "      <td>Employed full-time</td>\n",
       "      <td>Yes, but only within the company</td>\n",
       "      <td>21426.0</td>\n",
       "    </tr>\n",
       "    <tr>\n",
       "      <th>5</th>\n",
       "      <td>8</td>\n",
       "      <td>Bachelor’s degree (BA, BS, B.Eng., etc.)</td>\n",
       "      <td>Unsure / I don't know</td>\n",
       "      <td>Employed full-time</td>\n",
       "      <td>Depends on what it is</td>\n",
       "      <td>41671.0</td>\n",
       "    </tr>\n",
       "    <tr>\n",
       "      <th>6</th>\n",
       "      <td>9</td>\n",
       "      <td>Some college/university study without earning ...</td>\n",
       "      <td>Yes</td>\n",
       "      <td>Employed full-time</td>\n",
       "      <td>Yes, but only within the company</td>\n",
       "      <td>120000.0</td>\n",
       "    </tr>\n",
       "    <tr>\n",
       "      <th>8</th>\n",
       "      <td>11</td>\n",
       "      <td>Some college/university study without earning ...</td>\n",
       "      <td>Yes</td>\n",
       "      <td>Employed full-time</td>\n",
       "      <td>Yes, and publicly</td>\n",
       "      <td>250000.0</td>\n",
       "    </tr>\n",
       "    <tr>\n",
       "      <th>...</th>\n",
       "      <td>...</td>\n",
       "      <td>...</td>\n",
       "      <td>...</td>\n",
       "      <td>...</td>\n",
       "      <td>...</td>\n",
       "      <td>...</td>\n",
       "    </tr>\n",
       "    <tr>\n",
       "      <th>89932</th>\n",
       "      <td>99868</td>\n",
       "      <td>Bachelor’s degree (BA, BS, B.Eng., etc.)</td>\n",
       "      <td>Yes</td>\n",
       "      <td>Not employed, but looking for work</td>\n",
       "      <td>Yes, and publicly</td>\n",
       "      <td>97233.0</td>\n",
       "    </tr>\n",
       "    <tr>\n",
       "      <th>89946</th>\n",
       "      <td>100383</td>\n",
       "      <td>Secondary school (e.g. American high school, G...</td>\n",
       "      <td>Unsure / I don't know</td>\n",
       "      <td>Not employed, and not looking for work</td>\n",
       "      <td>Depends on what it is</td>\n",
       "      <td>0.0</td>\n",
       "    </tr>\n",
       "    <tr>\n",
       "      <th>89954</th>\n",
       "      <td>100743</td>\n",
       "      <td>Secondary school (e.g. American high school, G...</td>\n",
       "      <td>Yes</td>\n",
       "      <td>Not employed, and not looking for work</td>\n",
       "      <td>Depends on what it is</td>\n",
       "      <td>10284.0</td>\n",
       "    </tr>\n",
       "    <tr>\n",
       "      <th>89960</th>\n",
       "      <td>100927</td>\n",
       "      <td>Secondary school (e.g. American high school, G...</td>\n",
       "      <td>Unsure / I don't know</td>\n",
       "      <td>Employed full-time</td>\n",
       "      <td>Depends on what it is</td>\n",
       "      <td>0.0</td>\n",
       "    </tr>\n",
       "    <tr>\n",
       "      <th>89965</th>\n",
       "      <td>101115</td>\n",
       "      <td>Bachelor’s degree (BA, BS, B.Eng., etc.)</td>\n",
       "      <td>No</td>\n",
       "      <td>Not employed, but looking for work</td>\n",
       "      <td>Depends on what it is</td>\n",
       "      <td>0.0</td>\n",
       "    </tr>\n",
       "  </tbody>\n",
       "</table>\n",
       "<p>44563 rows × 6 columns</p>\n",
       "</div>"
      ],
      "text/plain": [
       "       Respondent                                    FormalEducation  \\\n",
       "1               3           Bachelor’s degree (BA, BS, B.Eng., etc.)   \n",
       "4               7  Some college/university study without earning ...   \n",
       "5               8           Bachelor’s degree (BA, BS, B.Eng., etc.)   \n",
       "6               9  Some college/university study without earning ...   \n",
       "8              11  Some college/university study without earning ...   \n",
       "...           ...                                                ...   \n",
       "89932       99868           Bachelor’s degree (BA, BS, B.Eng., etc.)   \n",
       "89946      100383  Secondary school (e.g. American high school, G...   \n",
       "89954      100743  Secondary school (e.g. American high school, G...   \n",
       "89960      100927  Secondary school (e.g. American high school, G...   \n",
       "89965      101115           Bachelor’s degree (BA, BS, B.Eng., etc.)   \n",
       "\n",
       "         EthicalImplications                              Employment  \\\n",
       "1                        Yes                      Employed full-time   \n",
       "4                        Yes                      Employed full-time   \n",
       "5      Unsure / I don't know                      Employed full-time   \n",
       "6                        Yes                      Employed full-time   \n",
       "8                        Yes                      Employed full-time   \n",
       "...                      ...                                     ...   \n",
       "89932                    Yes      Not employed, but looking for work   \n",
       "89946  Unsure / I don't know  Not employed, and not looking for work   \n",
       "89954                    Yes  Not employed, and not looking for work   \n",
       "89960  Unsure / I don't know                      Employed full-time   \n",
       "89965                     No      Not employed, but looking for work   \n",
       "\n",
       "                           EthicsReport  ConvertedSalary  \n",
       "1                 Depends on what it is          70841.0  \n",
       "4      Yes, but only within the company          21426.0  \n",
       "5                 Depends on what it is          41671.0  \n",
       "6      Yes, but only within the company         120000.0  \n",
       "8                     Yes, and publicly         250000.0  \n",
       "...                                 ...              ...  \n",
       "89932                 Yes, and publicly          97233.0  \n",
       "89946             Depends on what it is              0.0  \n",
       "89954             Depends on what it is          10284.0  \n",
       "89960             Depends on what it is              0.0  \n",
       "89965             Depends on what it is              0.0  \n",
       "\n",
       "[44563 rows x 6 columns]"
      ]
     },
     "execution_count": 59,
     "metadata": {},
     "output_type": "execute_result"
    }
   ],
   "source": [
    "cleaned_survey_results"
   ]
  },
  {
   "cell_type": "markdown",
   "metadata": {},
   "source": [
    "Well that was easy! I wasn't anticipating it to be such an easy command, but go Pandas!"
   ]
  },
  {
   "cell_type": "markdown",
   "metadata": {},
   "source": [
    "# Now, let's quantify the responses of each column\n",
    "Basically, I'll make a dictionary for each column\n",
    "\n",
    "'EducationParents', 'FormalEducation', 'EthicalImplications', 'Employment', 'EthicsReport', 'ConvertedSalary'"
   ]
  },
  {
   "cell_type": "code",
   "execution_count": 146,
   "metadata": {},
   "outputs": [],
   "source": [
    "quantified_survey_results = cleaned_survey_results.copy()"
   ]
  },
  {
   "cell_type": "markdown",
   "metadata": {},
   "source": [
    "## EducationParents"
   ]
  },
  {
   "cell_type": "code",
   "execution_count": 147,
   "metadata": {},
   "outputs": [],
   "source": [
    "# print(cleaned_survey_results['EducationParents'].unique())"
   ]
  },
  {
   "cell_type": "code",
   "execution_count": 148,
   "metadata": {},
   "outputs": [
    {
     "data": {
      "text/plain": [
       "\"\\nEducationParents = {'Professional degree (JD, MD, etc.)': 8,\\n                    'Other doctoral degree (Ph.D, Ed.D., etc.)': 7,\\n                    'Master’s degree (MA, MS, M.Eng., MBA, etc.)': 6,\\n                    'Bachelor’s degree (BA, BS, B.Eng., etc.)': 5,\\n                    'Associate degree': 4,\\n                    'They never completed any formal education': 3,\\n                    'I never completed any formal education': 3,\\n                    'Some college/university study without earning a degree': 2,\\n                    'Secondary school (e.g. American high school, German Realschule or Gymnasium, etc.)': 1,\\n                    'Primary/elementary school': 0}\\n\\n\\nquantified_survey_results['EducationParents'] = cleaned_survey_results['EducationParents'].replace(EducationParents)\\nprint(quantified_survey_results['EducationParents'].unique())\\n\""
      ]
     },
     "execution_count": 148,
     "metadata": {},
     "output_type": "execute_result"
    }
   ],
   "source": [
    "\"\"\"\n",
    "EducationParents = {'Professional degree (JD, MD, etc.)': 8,\n",
    "                    'Other doctoral degree (Ph.D, Ed.D., etc.)': 7,\n",
    "                    'Master’s degree (MA, MS, M.Eng., MBA, etc.)': 6,\n",
    "                    'Bachelor’s degree (BA, BS, B.Eng., etc.)': 5,\n",
    "                    'Associate degree': 4,\n",
    "                    'They never completed any formal education': 3,\n",
    "                    'I never completed any formal education': 3,\n",
    "                    'Some college/university study without earning a degree': 2,\n",
    "                    'Secondary school (e.g. American high school, German Realschule or Gymnasium, etc.)': 1,\n",
    "                    'Primary/elementary school': 0}\n",
    "\n",
    "\n",
    "quantified_survey_results['EducationParents'] = cleaned_survey_results['EducationParents'].replace(EducationParents)\n",
    "print(quantified_survey_results['EducationParents'].unique())\n",
    "\"\"\""
   ]
  },
  {
   "cell_type": "markdown",
   "metadata": {},
   "source": [
    "## FormalEducation"
   ]
  },
  {
   "cell_type": "code",
   "execution_count": 149,
   "metadata": {},
   "outputs": [
    {
     "name": "stdout",
     "output_type": "stream",
     "text": [
      "['Bachelor’s degree (BA, BS, B.Eng., etc.)'\n",
      " 'Some college/university study without earning a degree'\n",
      " 'Secondary school (e.g. American high school, German Realschule or Gymnasium, etc.)'\n",
      " 'Master’s degree (MA, MS, M.Eng., MBA, etc.)' 'Associate degree'\n",
      " 'Professional degree (JD, MD, etc.)'\n",
      " 'Other doctoral degree (Ph.D, Ed.D., etc.)' 'Primary/elementary school'\n",
      " 'I never completed any formal education']\n"
     ]
    }
   ],
   "source": [
    "print(cleaned_survey_results['FormalEducation'].unique())"
   ]
  },
  {
   "cell_type": "code",
   "execution_count": 150,
   "metadata": {},
   "outputs": [
    {
     "name": "stdout",
     "output_type": "stream",
     "text": [
      "[5 2 1 6 4 8 7 0 3]\n"
     ]
    }
   ],
   "source": [
    "FormalEducation = {'Professional degree (JD, MD, etc.)': 8,\n",
    "                    'Other doctoral degree (Ph.D, Ed.D., etc.)': 7,\n",
    "                    'Master’s degree (MA, MS, M.Eng., MBA, etc.)': 6,\n",
    "                    'Bachelor’s degree (BA, BS, B.Eng., etc.)': 5,\n",
    "                    'Associate degree': 4,\n",
    "                    'They never completed any formal education': 3,\n",
    "                    'I never completed any formal education': 3,\n",
    "                    'Some college/university study without earning a degree': 2,\n",
    "                    'Secondary school (e.g. American high school, German Realschule or Gymnasium, etc.)': 1,\n",
    "                    'Primary/elementary school': 0}\n",
    "quantified_survey_results['FormalEducation'] = cleaned_survey_results['FormalEducation'].replace(FormalEducation)\n",
    "print(quantified_survey_results['FormalEducation'].unique())"
   ]
  },
  {
   "cell_type": "markdown",
   "metadata": {},
   "source": [
    "## EthicsImplications"
   ]
  },
  {
   "cell_type": "code",
   "execution_count": 151,
   "metadata": {},
   "outputs": [
    {
     "name": "stdout",
     "output_type": "stream",
     "text": [
      "['Yes' \"Unsure / I don't know\" 'No']\n"
     ]
    }
   ],
   "source": [
    "print(cleaned_survey_results['EthicalImplications'].unique())"
   ]
  },
  {
   "cell_type": "code",
   "execution_count": 152,
   "metadata": {},
   "outputs": [
    {
     "name": "stdout",
     "output_type": "stream",
     "text": [
      "['Employed full-time' 'Employed part-time'\n",
      " 'Independent contractor, freelancer, or self-employed'\n",
      " 'Not employed, and not looking for work'\n",
      " 'Not employed, but looking for work' 'Retired']\n"
     ]
    }
   ],
   "source": [
    "# Note: Will the negative number affect our results too much?\n",
    "\n",
    "EthicalImplications = {'Yes': 1, \n",
    "                        \"Unsure / I don't know\": 0,\n",
    "                      \"No\": -1}\n",
    "\n",
    "quantified_survey_results['EthicalImplications'] = cleaned_survey_results['EthicalImplications'].replace(EthicalImplications)\n",
    "print(quantified_survey_results['Employment'].unique())"
   ]
  },
  {
   "cell_type": "markdown",
   "metadata": {},
   "source": [
    "## Employment"
   ]
  },
  {
   "cell_type": "code",
   "execution_count": 153,
   "metadata": {},
   "outputs": [
    {
     "name": "stdout",
     "output_type": "stream",
     "text": [
      "[5 3 4 1 2 0]\n"
     ]
    }
   ],
   "source": [
    "# Note: This was the hardest one to quantify. Also I think we should ommit 'Retired' but I want to see what you all think\n",
    "\n",
    "Employment = {\"Employed full-time\": 5,\n",
    "                \"Independent contractor, freelancer, or self-employed\": 4,\n",
    "              'Employed part-time': 3,\n",
    "              'Not employed, but looking for work': 2,\n",
    "              'Not employed, and not looking for work': 1,\n",
    "              'Retired':0\n",
    "}\n",
    "\n",
    "quantified_survey_results['Employment'] = cleaned_survey_results['Employment'].replace(Employment)\n",
    "print(quantified_survey_results['Employment'].unique())"
   ]
  },
  {
   "cell_type": "markdown",
   "metadata": {},
   "source": [
    "## EthicsReport"
   ]
  },
  {
   "cell_type": "code",
   "execution_count": 154,
   "metadata": {},
   "outputs": [
    {
     "name": "stdout",
     "output_type": "stream",
     "text": [
      "['Depends on what it is' 'Yes, but only within the company'\n",
      " 'Yes, and publicly' 'No']\n"
     ]
    }
   ],
   "source": [
    "print(cleaned_survey_results['EthicsReport'].unique())"
   ]
  },
  {
   "cell_type": "code",
   "execution_count": 155,
   "metadata": {},
   "outputs": [
    {
     "name": "stdout",
     "output_type": "stream",
     "text": [
      "[1 2 3 0]\n"
     ]
    }
   ],
   "source": [
    "EthicsReport = {'Yes, and publicly': 3,\n",
    "                'Yes, but only within the company': 2,\n",
    "                'Depends on what it is': 1,\n",
    "                'No': 0 \n",
    "}\n",
    "\n",
    "quantified_survey_results['EthicsReport'] = cleaned_survey_results['EthicsReport'].replace(EthicsReport)\n",
    "print(quantified_survey_results['EthicsReport'].unique())"
   ]
  },
  {
   "cell_type": "markdown",
   "metadata": {},
   "source": [
    "## ConvertedSalary"
   ]
  },
  {
   "cell_type": "code",
   "execution_count": 156,
   "metadata": {},
   "outputs": [
    {
     "name": "stdout",
     "output_type": "stream",
     "text": [
      "[ 70841.  21426.  41671. ...    400. 269076.   1584.]\n"
     ]
    }
   ],
   "source": [
    "print(quantified_survey_results['ConvertedSalary'].unique())"
   ]
  },
  {
   "cell_type": "code",
   "execution_count": 157,
   "metadata": {},
   "outputs": [],
   "source": [
    "# quantified_survey_results.to_csv('quantified.csv', index=False, encoding='utf-8')"
   ]
  },
  {
   "cell_type": "code",
   "execution_count": 158,
   "metadata": {},
   "outputs": [
    {
     "data": {
      "text/plain": [
       "2000000.0"
      ]
     },
     "execution_count": 158,
     "metadata": {},
     "output_type": "execute_result"
    }
   ],
   "source": [
    "quantified_survey_results['ConvertedSalary'].max()"
   ]
  },
  {
   "cell_type": "code",
   "execution_count": 159,
   "metadata": {},
   "outputs": [
    {
     "data": {
      "text/plain": [
       "0.0"
      ]
     },
     "execution_count": 159,
     "metadata": {},
     "output_type": "execute_result"
    }
   ],
   "source": [
    "quantified_survey_results['ConvertedSalary'].min()"
   ]
  },
  {
   "cell_type": "code",
   "execution_count": 160,
   "metadata": {},
   "outputs": [],
   "source": [
    "salary_bins = [0, 10000,40000,80000,160000,200000,500000,2000000]"
   ]
  },
  {
   "cell_type": "code",
   "execution_count": 162,
   "metadata": {},
   "outputs": [],
   "source": [
    "quantified_survey_results['ConvertedSalary'] = pd.cut(x=quantified_survey_results['ConvertedSalary'], bins = salary_bins, include_lowest=True, labels=[0,1,2,3,4,5,6])"
   ]
  },
  {
   "cell_type": "code",
   "execution_count": 163,
   "metadata": {},
   "outputs": [
    {
     "data": {
      "text/html": [
       "<div>\n",
       "<style scoped>\n",
       "    .dataframe tbody tr th:only-of-type {\n",
       "        vertical-align: middle;\n",
       "    }\n",
       "\n",
       "    .dataframe tbody tr th {\n",
       "        vertical-align: top;\n",
       "    }\n",
       "\n",
       "    .dataframe thead th {\n",
       "        text-align: right;\n",
       "    }\n",
       "</style>\n",
       "<table border=\"1\" class=\"dataframe\">\n",
       "  <thead>\n",
       "    <tr style=\"text-align: right;\">\n",
       "      <th></th>\n",
       "      <th>Respondent</th>\n",
       "      <th>FormalEducation</th>\n",
       "      <th>EthicalImplications</th>\n",
       "      <th>Employment</th>\n",
       "      <th>EthicsReport</th>\n",
       "      <th>ConvertedSalary</th>\n",
       "    </tr>\n",
       "  </thead>\n",
       "  <tbody>\n",
       "    <tr>\n",
       "      <th>1</th>\n",
       "      <td>3</td>\n",
       "      <td>5</td>\n",
       "      <td>1</td>\n",
       "      <td>5</td>\n",
       "      <td>1</td>\n",
       "      <td>2</td>\n",
       "    </tr>\n",
       "    <tr>\n",
       "      <th>4</th>\n",
       "      <td>7</td>\n",
       "      <td>2</td>\n",
       "      <td>1</td>\n",
       "      <td>5</td>\n",
       "      <td>2</td>\n",
       "      <td>1</td>\n",
       "    </tr>\n",
       "    <tr>\n",
       "      <th>5</th>\n",
       "      <td>8</td>\n",
       "      <td>5</td>\n",
       "      <td>0</td>\n",
       "      <td>5</td>\n",
       "      <td>1</td>\n",
       "      <td>2</td>\n",
       "    </tr>\n",
       "    <tr>\n",
       "      <th>6</th>\n",
       "      <td>9</td>\n",
       "      <td>2</td>\n",
       "      <td>1</td>\n",
       "      <td>5</td>\n",
       "      <td>2</td>\n",
       "      <td>3</td>\n",
       "    </tr>\n",
       "    <tr>\n",
       "      <th>8</th>\n",
       "      <td>11</td>\n",
       "      <td>2</td>\n",
       "      <td>1</td>\n",
       "      <td>5</td>\n",
       "      <td>3</td>\n",
       "      <td>5</td>\n",
       "    </tr>\n",
       "    <tr>\n",
       "      <th>...</th>\n",
       "      <td>...</td>\n",
       "      <td>...</td>\n",
       "      <td>...</td>\n",
       "      <td>...</td>\n",
       "      <td>...</td>\n",
       "      <td>...</td>\n",
       "    </tr>\n",
       "    <tr>\n",
       "      <th>89932</th>\n",
       "      <td>99868</td>\n",
       "      <td>5</td>\n",
       "      <td>1</td>\n",
       "      <td>2</td>\n",
       "      <td>3</td>\n",
       "      <td>3</td>\n",
       "    </tr>\n",
       "    <tr>\n",
       "      <th>89946</th>\n",
       "      <td>100383</td>\n",
       "      <td>1</td>\n",
       "      <td>0</td>\n",
       "      <td>1</td>\n",
       "      <td>1</td>\n",
       "      <td>0</td>\n",
       "    </tr>\n",
       "    <tr>\n",
       "      <th>89954</th>\n",
       "      <td>100743</td>\n",
       "      <td>1</td>\n",
       "      <td>1</td>\n",
       "      <td>1</td>\n",
       "      <td>1</td>\n",
       "      <td>1</td>\n",
       "    </tr>\n",
       "    <tr>\n",
       "      <th>89960</th>\n",
       "      <td>100927</td>\n",
       "      <td>1</td>\n",
       "      <td>0</td>\n",
       "      <td>5</td>\n",
       "      <td>1</td>\n",
       "      <td>0</td>\n",
       "    </tr>\n",
       "    <tr>\n",
       "      <th>89965</th>\n",
       "      <td>101115</td>\n",
       "      <td>5</td>\n",
       "      <td>-1</td>\n",
       "      <td>2</td>\n",
       "      <td>1</td>\n",
       "      <td>0</td>\n",
       "    </tr>\n",
       "  </tbody>\n",
       "</table>\n",
       "<p>44563 rows × 6 columns</p>\n",
       "</div>"
      ],
      "text/plain": [
       "       Respondent  FormalEducation  EthicalImplications  Employment  \\\n",
       "1               3                5                    1           5   \n",
       "4               7                2                    1           5   \n",
       "5               8                5                    0           5   \n",
       "6               9                2                    1           5   \n",
       "8              11                2                    1           5   \n",
       "...           ...              ...                  ...         ...   \n",
       "89932       99868                5                    1           2   \n",
       "89946      100383                1                    0           1   \n",
       "89954      100743                1                    1           1   \n",
       "89960      100927                1                    0           5   \n",
       "89965      101115                5                   -1           2   \n",
       "\n",
       "       EthicsReport ConvertedSalary  \n",
       "1                 1               2  \n",
       "4                 2               1  \n",
       "5                 1               2  \n",
       "6                 2               3  \n",
       "8                 3               5  \n",
       "...             ...             ...  \n",
       "89932             3               3  \n",
       "89946             1               0  \n",
       "89954             1               1  \n",
       "89960             1               0  \n",
       "89965             1               0  \n",
       "\n",
       "[44563 rows x 6 columns]"
      ]
     },
     "execution_count": 163,
     "metadata": {},
     "output_type": "execute_result"
    }
   ],
   "source": [
    "quantified_survey_results"
   ]
  },
  {
   "cell_type": "markdown",
   "metadata": {},
   "source": [
    "# Histograms"
   ]
  },
  {
   "cell_type": "code",
   "execution_count": 164,
   "metadata": {},
   "outputs": [],
   "source": [
    "def make_histogram(column_name, num_bins=False):\n",
    "    if not num_bins:\n",
    "        num_bins = len(quantified_survey_results[column_name].unique())\n",
    "    hist = quantified_survey_results[column_name].hist(bins=num_bins, )\n",
    "    hist.set_title(column_name)\n",
    "    return hist"
   ]
  },
  {
   "cell_type": "code",
   "execution_count": 165,
   "metadata": {},
   "outputs": [],
   "source": [
    "#make_histogram('EducationParents')"
   ]
  },
  {
   "cell_type": "code",
   "execution_count": 166,
   "metadata": {},
   "outputs": [
    {
     "data": {
      "text/plain": [
       "<matplotlib.axes._subplots.AxesSubplot at 0xd175eb0>"
      ]
     },
     "execution_count": 166,
     "metadata": {},
     "output_type": "execute_result"
    },
    {
     "data": {
      "image/png": "[encoded data removed]",
      "text/plain": [
       "<Figure size 432x288 with 1 Axes>"
      ]
     },
     "metadata": {
      "needs_background": "light"
     },
     "output_type": "display_data"
    }
   ],
   "source": [
    "make_histogram('FormalEducation')"
   ]
  },
  {
   "cell_type": "code",
   "execution_count": 167,
   "metadata": {},
   "outputs": [
    {
     "data": {
      "text/plain": [
       "<matplotlib.axes._subplots.AxesSubplot at 0xefaf1d0>"
      ]
     },
     "execution_count": 167,
     "metadata": {},
     "output_type": "execute_result"
    },
    {
     "data": {
      "image/png": "[encoded data removed]",
      "text/plain": [
       "<Figure size 432x288 with 1 Axes>"
      ]
     },
     "metadata": {
      "needs_background": "light"
     },
     "output_type": "display_data"
    }
   ],
   "source": [
    "make_histogram('EthicalImplications')"
   ]
  },
  {
   "cell_type": "code",
   "execution_count": 168,
   "metadata": {},
   "outputs": [
    {
     "data": {
      "text/plain": [
       "<matplotlib.axes._subplots.AxesSubplot at 0xefe0c50>"
      ]
     },
     "execution_count": 168,
     "metadata": {},
     "output_type": "execute_result"
    },
    {
     "data": {
      "image/png": "[encoded data removed]",
      "text/plain": [
       "<Figure size 432x288 with 1 Axes>"
      ]
     },
     "metadata": {
      "needs_background": "light"
     },
     "output_type": "display_data"
    }
   ],
   "source": [
    "make_histogram('Employment')"
   ]
  },
  {
   "cell_type": "code",
   "execution_count": 169,
   "metadata": {},
   "outputs": [
    {
     "data": {
      "text/plain": [
       "<matplotlib.axes._subplots.AxesSubplot at 0xf003f10>"
      ]
     },
     "execution_count": 169,
     "metadata": {},
     "output_type": "execute_result"
    },
    {
     "data": {
      "image/png": "[encoded data removed]",
      "text/plain": [
       "<Figure size 432x288 with 1 Axes>"
      ]
     },
     "metadata": {
      "needs_background": "light"
     },
     "output_type": "display_data"
    }
   ],
   "source": [
    "make_histogram('EthicsReport')"
   ]
  },
  {
   "cell_type": "code",
   "execution_count": 170,
   "metadata": {},
   "outputs": [
    {
     "data": {
      "text/plain": [
       "<matplotlib.axes._subplots.AxesSubplot at 0xf85c1b0>"
      ]
     },
     "execution_count": 170,
     "metadata": {},
     "output_type": "execute_result"
    },
    {
     "data": {
      "image/png": "[encoded data removed]",
      "text/plain": [
       "<Figure size 432x288 with 1 Axes>"
      ]
     },
     "metadata": {
      "needs_background": "light"
     },
     "output_type": "display_data"
    }
   ],
   "source": [
    "make_histogram('ConvertedSalary')"
   ]
  },
  {
   "cell_type": "markdown",
   "metadata": {},
   "source": [
    "# Get the results of a specific row"
   ]
  },
  {
   "cell_type": "code",
   "execution_count": 171,
   "metadata": {},
   "outputs": [
    {
     "data": {
      "text/plain": [
       "Respondent             3\n",
       "FormalEducation        5\n",
       "EthicalImplications    1\n",
       "Employment             5\n",
       "EthicsReport           1\n",
       "ConvertedSalary        2\n",
       "Name: 1, dtype: object"
      ]
     },
     "execution_count": 171,
     "metadata": {},
     "output_type": "execute_result"
    }
   ],
   "source": [
    "\n",
    "quantified_survey_results.iloc[0]"
   ]
  },
  {
   "cell_type": "markdown",
   "metadata": {},
   "source": [
    "# Stratifying"
   ]
  },
  {
   "cell_type": "code",
   "execution_count": 172,
   "metadata": {},
   "outputs": [],
   "source": [
    "stratified = quantified_survey_results.copy()\n",
    "stratified = stratified.drop(columns=[\"Respondent\"])\n",
    "stratified = stratified.groupby(['FormalEducation', 'EthicalImplications'])"
   ]
  },
  {
   "cell_type": "markdown",
   "metadata": {},
   "source": [
    "## Here is the mean of each strata"
   ]
  },
  {
   "cell_type": "code",
   "execution_count": 173,
   "metadata": {},
   "outputs": [
    {
     "data": {
      "text/html": [
       "<div>\n",
       "<style scoped>\n",
       "    .dataframe tbody tr th:only-of-type {\n",
       "        vertical-align: middle;\n",
       "    }\n",
       "\n",
       "    .dataframe tbody tr th {\n",
       "        vertical-align: top;\n",
       "    }\n",
       "\n",
       "    .dataframe thead th {\n",
       "        text-align: right;\n",
       "    }\n",
       "</style>\n",
       "<table border=\"1\" class=\"dataframe\">\n",
       "  <thead>\n",
       "    <tr style=\"text-align: right;\">\n",
       "      <th></th>\n",
       "      <th></th>\n",
       "      <th>Employment</th>\n",
       "      <th>EthicsReport</th>\n",
       "    </tr>\n",
       "    <tr>\n",
       "      <th>FormalEducation</th>\n",
       "      <th>EthicalImplications</th>\n",
       "      <th></th>\n",
       "      <th></th>\n",
       "    </tr>\n",
       "  </thead>\n",
       "  <tbody>\n",
       "    <tr>\n",
       "      <th rowspan=\"3\" valign=\"top\">0</th>\n",
       "      <th>-1</th>\n",
       "      <td>2.970588</td>\n",
       "      <td>1.058824</td>\n",
       "    </tr>\n",
       "    <tr>\n",
       "      <th>0</th>\n",
       "      <td>3.154930</td>\n",
       "      <td>1.239437</td>\n",
       "    </tr>\n",
       "    <tr>\n",
       "      <th>1</th>\n",
       "      <td>3.506173</td>\n",
       "      <td>1.748971</td>\n",
       "    </tr>\n",
       "    <tr>\n",
       "      <th rowspan=\"3\" valign=\"top\">1</th>\n",
       "      <th>-1</th>\n",
       "      <td>3.907563</td>\n",
       "      <td>1.147059</td>\n",
       "    </tr>\n",
       "    <tr>\n",
       "      <th>0</th>\n",
       "      <td>3.959677</td>\n",
       "      <td>1.309140</td>\n",
       "    </tr>\n",
       "    <tr>\n",
       "      <th>1</th>\n",
       "      <td>4.079566</td>\n",
       "      <td>1.651899</td>\n",
       "    </tr>\n",
       "    <tr>\n",
       "      <th rowspan=\"3\" valign=\"top\">2</th>\n",
       "      <th>-1</th>\n",
       "      <td>4.504373</td>\n",
       "      <td>1.169096</td>\n",
       "    </tr>\n",
       "    <tr>\n",
       "      <th>0</th>\n",
       "      <td>4.469551</td>\n",
       "      <td>1.298077</td>\n",
       "    </tr>\n",
       "    <tr>\n",
       "      <th>1</th>\n",
       "      <td>4.572135</td>\n",
       "      <td>1.652308</td>\n",
       "    </tr>\n",
       "    <tr>\n",
       "      <th rowspan=\"3\" valign=\"top\">3</th>\n",
       "      <th>-1</th>\n",
       "      <td>3.818182</td>\n",
       "      <td>1.818182</td>\n",
       "    </tr>\n",
       "    <tr>\n",
       "      <th>0</th>\n",
       "      <td>3.750000</td>\n",
       "      <td>1.625000</td>\n",
       "    </tr>\n",
       "    <tr>\n",
       "      <th>1</th>\n",
       "      <td>4.380165</td>\n",
       "      <td>1.793388</td>\n",
       "    </tr>\n",
       "    <tr>\n",
       "      <th rowspan=\"3\" valign=\"top\">4</th>\n",
       "      <th>-1</th>\n",
       "      <td>4.820225</td>\n",
       "      <td>1.258427</td>\n",
       "    </tr>\n",
       "    <tr>\n",
       "      <th>0</th>\n",
       "      <td>4.750000</td>\n",
       "      <td>1.262500</td>\n",
       "    </tr>\n",
       "    <tr>\n",
       "      <th>1</th>\n",
       "      <td>4.659966</td>\n",
       "      <td>1.657454</td>\n",
       "    </tr>\n",
       "    <tr>\n",
       "      <th rowspan=\"3\" valign=\"top\">5</th>\n",
       "      <th>-1</th>\n",
       "      <td>4.726947</td>\n",
       "      <td>1.263205</td>\n",
       "    </tr>\n",
       "    <tr>\n",
       "      <th>0</th>\n",
       "      <td>4.743864</td>\n",
       "      <td>1.347585</td>\n",
       "    </tr>\n",
       "    <tr>\n",
       "      <th>1</th>\n",
       "      <td>4.789073</td>\n",
       "      <td>1.660596</td>\n",
       "    </tr>\n",
       "    <tr>\n",
       "      <th rowspan=\"3\" valign=\"top\">6</th>\n",
       "      <th>-1</th>\n",
       "      <td>4.806678</td>\n",
       "      <td>1.289982</td>\n",
       "    </tr>\n",
       "    <tr>\n",
       "      <th>0</th>\n",
       "      <td>4.811544</td>\n",
       "      <td>1.328234</td>\n",
       "    </tr>\n",
       "    <tr>\n",
       "      <th>1</th>\n",
       "      <td>4.798067</td>\n",
       "      <td>1.656690</td>\n",
       "    </tr>\n",
       "    <tr>\n",
       "      <th rowspan=\"3\" valign=\"top\">7</th>\n",
       "      <th>-1</th>\n",
       "      <td>4.914894</td>\n",
       "      <td>1.063830</td>\n",
       "    </tr>\n",
       "    <tr>\n",
       "      <th>0</th>\n",
       "      <td>4.732558</td>\n",
       "      <td>1.383721</td>\n",
       "    </tr>\n",
       "    <tr>\n",
       "      <th>1</th>\n",
       "      <td>4.825444</td>\n",
       "      <td>1.704142</td>\n",
       "    </tr>\n",
       "    <tr>\n",
       "      <th rowspan=\"3\" valign=\"top\">8</th>\n",
       "      <th>-1</th>\n",
       "      <td>4.720930</td>\n",
       "      <td>1.209302</td>\n",
       "    </tr>\n",
       "    <tr>\n",
       "      <th>0</th>\n",
       "      <td>4.817204</td>\n",
       "      <td>1.419355</td>\n",
       "    </tr>\n",
       "    <tr>\n",
       "      <th>1</th>\n",
       "      <td>4.668919</td>\n",
       "      <td>1.581081</td>\n",
       "    </tr>\n",
       "  </tbody>\n",
       "</table>\n",
       "</div>"
      ],
      "text/plain": [
       "                                     Employment  EthicsReport\n",
       "FormalEducation EthicalImplications                          \n",
       "0               -1                     2.970588      1.058824\n",
       "                 0                     3.154930      1.239437\n",
       "                 1                     3.506173      1.748971\n",
       "1               -1                     3.907563      1.147059\n",
       "                 0                     3.959677      1.309140\n",
       "                 1                     4.079566      1.651899\n",
       "2               -1                     4.504373      1.169096\n",
       "                 0                     4.469551      1.298077\n",
       "                 1                     4.572135      1.652308\n",
       "3               -1                     3.818182      1.818182\n",
       "                 0                     3.750000      1.625000\n",
       "                 1                     4.380165      1.793388\n",
       "4               -1                     4.820225      1.258427\n",
       "                 0                     4.750000      1.262500\n",
       "                 1                     4.659966      1.657454\n",
       "5               -1                     4.726947      1.263205\n",
       "                 0                     4.743864      1.347585\n",
       "                 1                     4.789073      1.660596\n",
       "6               -1                     4.806678      1.289982\n",
       "                 0                     4.811544      1.328234\n",
       "                 1                     4.798067      1.656690\n",
       "7               -1                     4.914894      1.063830\n",
       "                 0                     4.732558      1.383721\n",
       "                 1                     4.825444      1.704142\n",
       "8               -1                     4.720930      1.209302\n",
       "                 0                     4.817204      1.419355\n",
       "                 1                     4.668919      1.581081"
      ]
     },
     "execution_count": 173,
     "metadata": {},
     "output_type": "execute_result"
    }
   ],
   "source": [
    "stratified.mean()"
   ]
  },
  {
   "cell_type": "markdown",
   "metadata": {},
   "source": [
    "### Histagram are easy. Here's a histogram of the mean"
   ]
  },
  {
   "cell_type": "code",
   "execution_count": 174,
   "metadata": {},
   "outputs": [
    {
     "data": {
      "text/plain": [
       "array([[<matplotlib.axes._subplots.AxesSubplot object at 0x0D175910>,\n",
       "        <matplotlib.axes._subplots.AxesSubplot object at 0x0F8E09B0>]],\n",
       "      dtype=object)"
      ]
     },
     "execution_count": 174,
     "metadata": {},
     "output_type": "execute_result"
    },
    {
     "data": {
      "image/png": "[encoded data removed]",
      "text/plain": [
       "<Figure size 432x288 with 2 Axes>"
      ]
     },
     "metadata": {
      "needs_background": "light"
     },
     "output_type": "display_data"
    }
   ],
   "source": [
    "stratified.mean().hist()"
   ]
  },
  {
   "cell_type": "code",
   "execution_count": 175,
   "metadata": {},
   "outputs": [],
   "source": [
    "# stratified.mean().to_csv('stratified_mean.csv', index=True, encoding='utf-8')"
   ]
  },
  {
   "cell_type": "markdown",
   "metadata": {},
   "source": [
    "## Mean isn't the only thing we can do. We can also get a specific stata"
   ]
  },
  {
   "cell_type": "code",
   "execution_count": 176,
   "metadata": {},
   "outputs": [
    {
     "data": {
      "text/html": [
       "<div>\n",
       "<style scoped>\n",
       "    .dataframe tbody tr th:only-of-type {\n",
       "        vertical-align: middle;\n",
       "    }\n",
       "\n",
       "    .dataframe tbody tr th {\n",
       "        vertical-align: top;\n",
       "    }\n",
       "\n",
       "    .dataframe thead th {\n",
       "        text-align: right;\n",
       "    }\n",
       "</style>\n",
       "<table border=\"1\" class=\"dataframe\">\n",
       "  <thead>\n",
       "    <tr style=\"text-align: right;\">\n",
       "      <th></th>\n",
       "      <th>FormalEducation</th>\n",
       "      <th>EthicalImplications</th>\n",
       "      <th>Employment</th>\n",
       "      <th>EthicsReport</th>\n",
       "      <th>ConvertedSalary</th>\n",
       "    </tr>\n",
       "  </thead>\n",
       "  <tbody>\n",
       "    <tr>\n",
       "      <th>14</th>\n",
       "      <td>1</td>\n",
       "      <td>1</td>\n",
       "      <td>5</td>\n",
       "      <td>3</td>\n",
       "      <td>0</td>\n",
       "    </tr>\n",
       "    <tr>\n",
       "      <th>114</th>\n",
       "      <td>1</td>\n",
       "      <td>1</td>\n",
       "      <td>5</td>\n",
       "      <td>1</td>\n",
       "      <td>2</td>\n",
       "    </tr>\n",
       "    <tr>\n",
       "      <th>160</th>\n",
       "      <td>1</td>\n",
       "      <td>1</td>\n",
       "      <td>3</td>\n",
       "      <td>2</td>\n",
       "      <td>2</td>\n",
       "    </tr>\n",
       "    <tr>\n",
       "      <th>173</th>\n",
       "      <td>1</td>\n",
       "      <td>1</td>\n",
       "      <td>5</td>\n",
       "      <td>1</td>\n",
       "      <td>2</td>\n",
       "    </tr>\n",
       "    <tr>\n",
       "      <th>177</th>\n",
       "      <td>1</td>\n",
       "      <td>1</td>\n",
       "      <td>5</td>\n",
       "      <td>1</td>\n",
       "      <td>0</td>\n",
       "    </tr>\n",
       "    <tr>\n",
       "      <th>...</th>\n",
       "      <td>...</td>\n",
       "      <td>...</td>\n",
       "      <td>...</td>\n",
       "      <td>...</td>\n",
       "      <td>...</td>\n",
       "    </tr>\n",
       "    <tr>\n",
       "      <th>89846</th>\n",
       "      <td>1</td>\n",
       "      <td>1</td>\n",
       "      <td>2</td>\n",
       "      <td>1</td>\n",
       "      <td>1</td>\n",
       "    </tr>\n",
       "    <tr>\n",
       "      <th>89888</th>\n",
       "      <td>1</td>\n",
       "      <td>1</td>\n",
       "      <td>4</td>\n",
       "      <td>0</td>\n",
       "      <td>0</td>\n",
       "    </tr>\n",
       "    <tr>\n",
       "      <th>89911</th>\n",
       "      <td>1</td>\n",
       "      <td>1</td>\n",
       "      <td>3</td>\n",
       "      <td>1</td>\n",
       "      <td>0</td>\n",
       "    </tr>\n",
       "    <tr>\n",
       "      <th>89922</th>\n",
       "      <td>1</td>\n",
       "      <td>1</td>\n",
       "      <td>1</td>\n",
       "      <td>2</td>\n",
       "      <td>0</td>\n",
       "    </tr>\n",
       "    <tr>\n",
       "      <th>89954</th>\n",
       "      <td>1</td>\n",
       "      <td>1</td>\n",
       "      <td>1</td>\n",
       "      <td>1</td>\n",
       "      <td>1</td>\n",
       "    </tr>\n",
       "  </tbody>\n",
       "</table>\n",
       "<p>2212 rows × 5 columns</p>\n",
       "</div>"
      ],
      "text/plain": [
       "       FormalEducation  EthicalImplications  Employment  EthicsReport  \\\n",
       "14                   1                    1           5             3   \n",
       "114                  1                    1           5             1   \n",
       "160                  1                    1           3             2   \n",
       "173                  1                    1           5             1   \n",
       "177                  1                    1           5             1   \n",
       "...                ...                  ...         ...           ...   \n",
       "89846                1                    1           2             1   \n",
       "89888                1                    1           4             0   \n",
       "89911                1                    1           3             1   \n",
       "89922                1                    1           1             2   \n",
       "89954                1                    1           1             1   \n",
       "\n",
       "      ConvertedSalary  \n",
       "14                  0  \n",
       "114                 2  \n",
       "160                 2  \n",
       "173                 2  \n",
       "177                 0  \n",
       "...               ...  \n",
       "89846               1  \n",
       "89888               0  \n",
       "89911               0  \n",
       "89922               0  \n",
       "89954               1  \n",
       "\n",
       "[2212 rows x 5 columns]"
      ]
     },
     "execution_count": 176,
     "metadata": {},
     "output_type": "execute_result"
    }
   ],
   "source": [
    "stratified.get_group((1, 1))\n",
    "# stratified.mean()"
   ]
  },
  {
   "cell_type": "code",
   "execution_count": 177,
   "metadata": {},
   "outputs": [
    {
     "data": {
      "text/plain": [
       "<matplotlib.axes._subplots.AxesSubplot at 0xf935470>"
      ]
     },
     "execution_count": 177,
     "metadata": {},
     "output_type": "execute_result"
    },
    {
     "data": {
      "image/png": "[encoded data removed]",
      "text/plain": [
       "<Figure size 432x288 with 1 Axes>"
      ]
     },
     "metadata": {
      "needs_background": "light"
     },
     "output_type": "display_data"
    }
   ],
   "source": [
    "stratified.get_group((1, 1))['EthicsReport'].hist()"
   ]
  },
  {
   "cell_type": "code",
   "execution_count": 178,
   "metadata": {},
   "outputs": [
    {
     "data": {
      "text/plain": [
       "27"
      ]
     },
     "execution_count": 178,
     "metadata": {},
     "output_type": "execute_result"
    }
   ],
   "source": [
    "len(stratified)"
   ]
  },
  {
   "cell_type": "markdown",
   "metadata": {},
   "source": [
    "# Probability"
   ]
  },
  {
   "cell_type": "code",
   "execution_count": 179,
   "metadata": {},
   "outputs": [
    {
     "data": {
      "text/plain": [
       "0.5745931283905967"
      ]
     },
     "execution_count": 179,
     "metadata": {},
     "output_type": "execute_result"
    }
   ],
   "source": [
    "#note this will go off the quantified_survey_results\n",
    "data = quantified_survey_results.copy()\n",
    "\n",
    "def probability (event_string, conditional_string):\n",
    "    conditioned_data = data.query(conditional_string)\n",
    "    event_given_conditioned_data = conditioned_data.query(event_string)\n",
    "    \n",
    "    return len(event_given_conditioned_data) / len(conditioned_data)\n",
    "\n",
    "probability('Employment == 5', 'FormalEducation == 1 and EthicalImplications == 1')\n",
    "    "
   ]
  },
  {
   "cell_type": "code",
   "execution_count": null,
   "metadata": {},
   "outputs": [],
   "source": []
  }
 ],
 "metadata": {
  "kernelspec": {
   "display_name": "Python 3",
   "language": "python",
   "name": "python3"
  },
  "language_info": {
   "codemirror_mode": {
    "name": "ipython",
    "version": 3
   },
   "file_extension": ".py",
   "mimetype": "text/x-python",
   "name": "python",
   "nbconvert_exporter": "python",
   "pygments_lexer": "ipython3",
   "version": "3.7.4"
  }
 },
 "nbformat": 4,
 "nbformat_minor": 4
}
