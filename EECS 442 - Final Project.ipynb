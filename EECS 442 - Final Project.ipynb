{
 "cells": [
  {
   "cell_type": "markdown",
   "metadata": {},
   "source": [
    "The first library we can try is CSV:"
   ]
  },
  {
   "cell_type": "code",
   "execution_count": 2,
   "metadata": {},
   "outputs": [],
   "source": [
    "import csv"
   ]
  },
  {
   "cell_type": "code",
   "execution_count": 3,
   "metadata": {},
   "outputs": [
    {
     "name": "stdout",
     "output_type": "stream",
     "text": [
      "Column names are Respondent, Hobby, OpenSource, Country, Student, Employment, FormalEducation, UndergradMajor, CompanySize, DevType, YearsCoding, YearsCodingProf, JobSatisfaction, CareerSatisfaction, HopeFiveYears, JobSearchStatus, LastNewJob, AssessJob1, AssessJob2, AssessJob3, AssessJob4, AssessJob5, AssessJob6, AssessJob7, AssessJob8, AssessJob9, AssessJob10, AssessBenefits1, AssessBenefits2, AssessBenefits3, AssessBenefits4, AssessBenefits5, AssessBenefits6, AssessBenefits7, AssessBenefits8, AssessBenefits9, AssessBenefits10, AssessBenefits11, JobContactPriorities1, JobContactPriorities2, JobContactPriorities3, JobContactPriorities4, JobContactPriorities5, JobEmailPriorities1, JobEmailPriorities2, JobEmailPriorities3, JobEmailPriorities4, JobEmailPriorities5, JobEmailPriorities6, JobEmailPriorities7, UpdateCV, Currency, Salary, SalaryType, ConvertedSalary, CurrencySymbol, CommunicationTools, TimeFullyProductive, EducationTypes, SelfTaughtTypes, TimeAfterBootcamp, HackathonReasons, AgreeDisagree1, AgreeDisagree2, AgreeDisagree3, LanguageWorkedWith, LanguageDesireNextYear, DatabaseWorkedWith, DatabaseDesireNextYear, PlatformWorkedWith, PlatformDesireNextYear, FrameworkWorkedWith, FrameworkDesireNextYear, IDE, OperatingSystem, NumberMonitors, Methodology, VersionControl, CheckInCode, AdBlocker, AdBlockerDisable, AdBlockerReasons, AdsAgreeDisagree1, AdsAgreeDisagree2, AdsAgreeDisagree3, AdsActions, AdsPriorities1, AdsPriorities2, AdsPriorities3, AdsPriorities4, AdsPriorities5, AdsPriorities6, AdsPriorities7, AIDangerous, AIInteresting, AIResponsible, AIFuture, EthicsChoice, EthicsReport, EthicsResponsible, EthicalImplications, StackOverflowRecommend, StackOverflowVisit, StackOverflowHasAccount, StackOverflowParticipate, StackOverflowJobs, StackOverflowDevStory, StackOverflowJobsRecommend, StackOverflowConsiderMember, HypotheticalTools1, HypotheticalTools2, HypotheticalTools3, HypotheticalTools4, HypotheticalTools5, WakeTime, HoursComputer, HoursOutside, SkipMeals, ErgonomicDevices, Exercise, Gender, SexualOrientation, EducationParents, RaceEthnicity, Age, Dependents, MilitaryUS, SurveyTooLong, SurveyEasy\n",
      "Processed 98856 lines.\n"
     ]
    }
   ],
   "source": [
    "with open('survey_results_public.csv', newline='', encoding=\"utf8\") as csv_file:\n",
    "    csv_reader = csv.reader(csv_file, delimiter=',')\n",
    "    line_count = 0\n",
    "    for row in csv_reader:\n",
    "        if line_count == 0:\n",
    "            print(f'Column names are {\", \".join(row)}')\n",
    "            line_count+= 1\n",
    "        else:\n",
    "            line_count += 1\n",
    "    print(f'Processed {line_count} lines.')"
   ]
  },
  {
   "cell_type": "markdown",
   "metadata": {},
   "source": [
    "It's pretty useful but doesn't provide easy manipulation of columns. Next, let us take a look at pandas dataframes:"
   ]
  },
  {
   "cell_type": "code",
   "execution_count": 4,
   "metadata": {},
   "outputs": [],
   "source": [
    "import pandas as pd"
   ]
  },
  {
   "cell_type": "markdown",
   "metadata": {},
   "source": [
    "Save the csv into a variable dataframe:"
   ]
  },
  {
   "cell_type": "code",
   "execution_count": 5,
   "metadata": {},
   "outputs": [],
   "source": [
    "df=pd.read_csv(\"survey_results_public.csv\", encoding =\"utf8\", low_memory=False)"
   ]
  },
  {
   "cell_type": "markdown",
   "metadata": {},
   "source": [
    "Now we can query the dataframe by column numbers"
   ]
  },
  {
   "cell_type": "code",
   "execution_count": 6,
   "metadata": {},
   "outputs": [
    {
     "data": {
      "text/plain": [
       "0        Yes\n",
       "1        Yes\n",
       "2        Yes\n",
       "3         No\n",
       "4        Yes\n",
       "        ... \n",
       "98850    Yes\n",
       "98851     No\n",
       "98852    Yes\n",
       "98853    Yes\n",
       "98854    Yes\n",
       "Name: Hobby, Length: 98855, dtype: object"
      ]
     },
     "execution_count": 6,
     "metadata": {},
     "output_type": "execute_result"
    }
   ],
   "source": [
    "df[df.columns[1]]"
   ]
  },
  {
   "cell_type": "markdown",
   "metadata": {},
   "source": [
    "Or we can utilize names:"
   ]
  },
  {
   "cell_type": "code",
   "execution_count": 7,
   "metadata": {},
   "outputs": [
    {
     "data": {
      "text/plain": [
       "0                    No\n",
       "1                    No\n",
       "2                    No\n",
       "3                    No\n",
       "4        Yes, part-time\n",
       "              ...      \n",
       "98850               NaN\n",
       "98851    Yes, full-time\n",
       "98852    Yes, full-time\n",
       "98853                No\n",
       "98854               NaN\n",
       "Name: Student, Length: 98855, dtype: object"
      ]
     },
     "execution_count": 7,
     "metadata": {},
     "output_type": "execute_result"
    }
   ],
   "source": [
    "df[\"Student\"]"
   ]
  },
  {
   "cell_type": "markdown",
   "metadata": {},
   "source": [
    "Now, the data we need is: Parent's Education, Education, Reporting Responsibility, Employment, Reporting Code, and Salary."
   ]
  },
  {
   "cell_type": "code",
   "execution_count": 8,
   "metadata": {},
   "outputs": [],
   "source": [
    "new_df = df[['Respondent','EducationParents', 'FormalEducation', 'EthicalImplications', 'Employment', 'EthicsReport', 'ConvertedSalary']].copy()"
   ]
  },
  {
   "cell_type": "markdown",
   "metadata": {},
   "source": [
    "And we can verify that our dataframe is correct (columns are split into mutiple lines of entries):"
   ]
  },
  {
   "cell_type": "code",
   "execution_count": 9,
   "metadata": {},
   "outputs": [
    {
     "data": {
      "text/html": [
       "<div>\n",
       "<style scoped>\n",
       "    .dataframe tbody tr th:only-of-type {\n",
       "        vertical-align: middle;\n",
       "    }\n",
       "\n",
       "    .dataframe tbody tr th {\n",
       "        vertical-align: top;\n",
       "    }\n",
       "\n",
       "    .dataframe thead th {\n",
       "        text-align: right;\n",
       "    }\n",
       "</style>\n",
       "<table border=\"1\" class=\"dataframe\">\n",
       "  <thead>\n",
       "    <tr style=\"text-align: right;\">\n",
       "      <th></th>\n",
       "      <th>Respondent</th>\n",
       "      <th>EducationParents</th>\n",
       "      <th>FormalEducation</th>\n",
       "      <th>EthicalImplications</th>\n",
       "      <th>Employment</th>\n",
       "      <th>EthicsReport</th>\n",
       "      <th>ConvertedSalary</th>\n",
       "    </tr>\n",
       "  </thead>\n",
       "  <tbody>\n",
       "    <tr>\n",
       "      <td>0</td>\n",
       "      <td>1</td>\n",
       "      <td>Bachelor’s degree (BA, BS, B.Eng., etc.)</td>\n",
       "      <td>Bachelor’s degree (BA, BS, B.Eng., etc.)</td>\n",
       "      <td>Yes</td>\n",
       "      <td>Employed part-time</td>\n",
       "      <td>Yes, and publicly</td>\n",
       "      <td>NaN</td>\n",
       "    </tr>\n",
       "    <tr>\n",
       "      <td>1</td>\n",
       "      <td>3</td>\n",
       "      <td>Bachelor’s degree (BA, BS, B.Eng., etc.)</td>\n",
       "      <td>Bachelor’s degree (BA, BS, B.Eng., etc.)</td>\n",
       "      <td>Yes</td>\n",
       "      <td>Employed full-time</td>\n",
       "      <td>Depends on what it is</td>\n",
       "      <td>70841.0</td>\n",
       "    </tr>\n",
       "    <tr>\n",
       "      <td>2</td>\n",
       "      <td>4</td>\n",
       "      <td>NaN</td>\n",
       "      <td>Associate degree</td>\n",
       "      <td>NaN</td>\n",
       "      <td>Employed full-time</td>\n",
       "      <td>NaN</td>\n",
       "      <td>NaN</td>\n",
       "    </tr>\n",
       "    <tr>\n",
       "      <td>3</td>\n",
       "      <td>5</td>\n",
       "      <td>Some college/university study without earning ...</td>\n",
       "      <td>Bachelor’s degree (BA, BS, B.Eng., etc.)</td>\n",
       "      <td>Yes</td>\n",
       "      <td>Employed full-time</td>\n",
       "      <td>Yes, but only within the company</td>\n",
       "      <td>NaN</td>\n",
       "    </tr>\n",
       "    <tr>\n",
       "      <td>4</td>\n",
       "      <td>7</td>\n",
       "      <td>Some college/university study without earning ...</td>\n",
       "      <td>Some college/university study without earning ...</td>\n",
       "      <td>Yes</td>\n",
       "      <td>Employed full-time</td>\n",
       "      <td>Yes, but only within the company</td>\n",
       "      <td>21426.0</td>\n",
       "    </tr>\n",
       "    <tr>\n",
       "      <td>...</td>\n",
       "      <td>...</td>\n",
       "      <td>...</td>\n",
       "      <td>...</td>\n",
       "      <td>...</td>\n",
       "      <td>...</td>\n",
       "      <td>...</td>\n",
       "      <td>...</td>\n",
       "    </tr>\n",
       "    <tr>\n",
       "      <td>98850</td>\n",
       "      <td>101513</td>\n",
       "      <td>NaN</td>\n",
       "      <td>NaN</td>\n",
       "      <td>NaN</td>\n",
       "      <td>NaN</td>\n",
       "      <td>NaN</td>\n",
       "      <td>NaN</td>\n",
       "    </tr>\n",
       "    <tr>\n",
       "      <td>98851</td>\n",
       "      <td>101531</td>\n",
       "      <td>NaN</td>\n",
       "      <td>NaN</td>\n",
       "      <td>NaN</td>\n",
       "      <td>Not employed, but looking for work</td>\n",
       "      <td>NaN</td>\n",
       "      <td>NaN</td>\n",
       "    </tr>\n",
       "    <tr>\n",
       "      <td>98852</td>\n",
       "      <td>101541</td>\n",
       "      <td>NaN</td>\n",
       "      <td>Bachelor’s degree (BA, BS, B.Eng., etc.)</td>\n",
       "      <td>NaN</td>\n",
       "      <td>Employed full-time</td>\n",
       "      <td>NaN</td>\n",
       "      <td>NaN</td>\n",
       "    </tr>\n",
       "    <tr>\n",
       "      <td>98853</td>\n",
       "      <td>101544</td>\n",
       "      <td>NaN</td>\n",
       "      <td>Some college/university study without earning ...</td>\n",
       "      <td>NaN</td>\n",
       "      <td>Independent contractor, freelancer, or self-em...</td>\n",
       "      <td>NaN</td>\n",
       "      <td>NaN</td>\n",
       "    </tr>\n",
       "    <tr>\n",
       "      <td>98854</td>\n",
       "      <td>101548</td>\n",
       "      <td>NaN</td>\n",
       "      <td>NaN</td>\n",
       "      <td>NaN</td>\n",
       "      <td>NaN</td>\n",
       "      <td>NaN</td>\n",
       "      <td>NaN</td>\n",
       "    </tr>\n",
       "  </tbody>\n",
       "</table>\n",
       "<p>98855 rows × 7 columns</p>\n",
       "</div>"
      ],
      "text/plain": [
       "       Respondent                                   EducationParents  \\\n",
       "0               1           Bachelor’s degree (BA, BS, B.Eng., etc.)   \n",
       "1               3           Bachelor’s degree (BA, BS, B.Eng., etc.)   \n",
       "2               4                                                NaN   \n",
       "3               5  Some college/university study without earning ...   \n",
       "4               7  Some college/university study without earning ...   \n",
       "...           ...                                                ...   \n",
       "98850      101513                                                NaN   \n",
       "98851      101531                                                NaN   \n",
       "98852      101541                                                NaN   \n",
       "98853      101544                                                NaN   \n",
       "98854      101548                                                NaN   \n",
       "\n",
       "                                         FormalEducation EthicalImplications  \\\n",
       "0               Bachelor’s degree (BA, BS, B.Eng., etc.)                 Yes   \n",
       "1               Bachelor’s degree (BA, BS, B.Eng., etc.)                 Yes   \n",
       "2                                       Associate degree                 NaN   \n",
       "3               Bachelor’s degree (BA, BS, B.Eng., etc.)                 Yes   \n",
       "4      Some college/university study without earning ...                 Yes   \n",
       "...                                                  ...                 ...   \n",
       "98850                                                NaN                 NaN   \n",
       "98851                                                NaN                 NaN   \n",
       "98852           Bachelor’s degree (BA, BS, B.Eng., etc.)                 NaN   \n",
       "98853  Some college/university study without earning ...                 NaN   \n",
       "98854                                                NaN                 NaN   \n",
       "\n",
       "                                              Employment  \\\n",
       "0                                     Employed part-time   \n",
       "1                                     Employed full-time   \n",
       "2                                     Employed full-time   \n",
       "3                                     Employed full-time   \n",
       "4                                     Employed full-time   \n",
       "...                                                  ...   \n",
       "98850                                                NaN   \n",
       "98851                 Not employed, but looking for work   \n",
       "98852                                 Employed full-time   \n",
       "98853  Independent contractor, freelancer, or self-em...   \n",
       "98854                                                NaN   \n",
       "\n",
       "                           EthicsReport  ConvertedSalary  \n",
       "0                     Yes, and publicly              NaN  \n",
       "1                 Depends on what it is          70841.0  \n",
       "2                                   NaN              NaN  \n",
       "3      Yes, but only within the company              NaN  \n",
       "4      Yes, but only within the company          21426.0  \n",
       "...                                 ...              ...  \n",
       "98850                               NaN              NaN  \n",
       "98851                               NaN              NaN  \n",
       "98852                               NaN              NaN  \n",
       "98853                               NaN              NaN  \n",
       "98854                               NaN              NaN  \n",
       "\n",
       "[98855 rows x 7 columns]"
      ]
     },
     "execution_count": 9,
     "metadata": {},
     "output_type": "execute_result"
    }
   ],
   "source": [
    "new_df"
   ]
  },
  {
   "cell_type": "markdown",
   "metadata": {},
   "source": [
    "Given this new table, we can now output to another csv which is purely for the columns we're interested in."
   ]
  },
  {
   "cell_type": "code",
   "execution_count": 10,
   "metadata": {},
   "outputs": [],
   "source": [
    "new_df.to_csv('survey_results_public_important.csv', index=False, encoding='utf-8')"
   ]
  },
  {
   "cell_type": "markdown",
   "metadata": {},
   "source": [
    "# Now we need to clean up the data. Only use entries that have ALL the fields entered"
   ]
  },
  {
   "cell_type": "code",
   "execution_count": 11,
   "metadata": {},
   "outputs": [],
   "source": [
    "cleaned_survey_results = new_df.copy().dropna()"
   ]
  },
  {
   "cell_type": "code",
   "execution_count": 12,
   "metadata": {},
   "outputs": [
    {
     "data": {
      "text/html": [
       "<div>\n",
       "<style scoped>\n",
       "    .dataframe tbody tr th:only-of-type {\n",
       "        vertical-align: middle;\n",
       "    }\n",
       "\n",
       "    .dataframe tbody tr th {\n",
       "        vertical-align: top;\n",
       "    }\n",
       "\n",
       "    .dataframe thead th {\n",
       "        text-align: right;\n",
       "    }\n",
       "</style>\n",
       "<table border=\"1\" class=\"dataframe\">\n",
       "  <thead>\n",
       "    <tr style=\"text-align: right;\">\n",
       "      <th></th>\n",
       "      <th>Respondent</th>\n",
       "      <th>EducationParents</th>\n",
       "      <th>FormalEducation</th>\n",
       "      <th>EthicalImplications</th>\n",
       "      <th>Employment</th>\n",
       "      <th>EthicsReport</th>\n",
       "      <th>ConvertedSalary</th>\n",
       "    </tr>\n",
       "  </thead>\n",
       "  <tbody>\n",
       "    <tr>\n",
       "      <td>1</td>\n",
       "      <td>3</td>\n",
       "      <td>Bachelor’s degree (BA, BS, B.Eng., etc.)</td>\n",
       "      <td>Bachelor’s degree (BA, BS, B.Eng., etc.)</td>\n",
       "      <td>Yes</td>\n",
       "      <td>Employed full-time</td>\n",
       "      <td>Depends on what it is</td>\n",
       "      <td>70841.0</td>\n",
       "    </tr>\n",
       "    <tr>\n",
       "      <td>4</td>\n",
       "      <td>7</td>\n",
       "      <td>Some college/university study without earning ...</td>\n",
       "      <td>Some college/university study without earning ...</td>\n",
       "      <td>Yes</td>\n",
       "      <td>Employed full-time</td>\n",
       "      <td>Yes, but only within the company</td>\n",
       "      <td>21426.0</td>\n",
       "    </tr>\n",
       "    <tr>\n",
       "      <td>5</td>\n",
       "      <td>8</td>\n",
       "      <td>Secondary school (e.g. American high school, G...</td>\n",
       "      <td>Bachelor’s degree (BA, BS, B.Eng., etc.)</td>\n",
       "      <td>Unsure / I don't know</td>\n",
       "      <td>Employed full-time</td>\n",
       "      <td>Depends on what it is</td>\n",
       "      <td>41671.0</td>\n",
       "    </tr>\n",
       "    <tr>\n",
       "      <td>6</td>\n",
       "      <td>9</td>\n",
       "      <td>Master’s degree (MA, MS, M.Eng., MBA, etc.)</td>\n",
       "      <td>Some college/university study without earning ...</td>\n",
       "      <td>Yes</td>\n",
       "      <td>Employed full-time</td>\n",
       "      <td>Yes, but only within the company</td>\n",
       "      <td>120000.0</td>\n",
       "    </tr>\n",
       "    <tr>\n",
       "      <td>8</td>\n",
       "      <td>11</td>\n",
       "      <td>Some college/university study without earning ...</td>\n",
       "      <td>Some college/university study without earning ...</td>\n",
       "      <td>Yes</td>\n",
       "      <td>Employed full-time</td>\n",
       "      <td>Yes, and publicly</td>\n",
       "      <td>250000.0</td>\n",
       "    </tr>\n",
       "    <tr>\n",
       "      <td>...</td>\n",
       "      <td>...</td>\n",
       "      <td>...</td>\n",
       "      <td>...</td>\n",
       "      <td>...</td>\n",
       "      <td>...</td>\n",
       "      <td>...</td>\n",
       "      <td>...</td>\n",
       "    </tr>\n",
       "    <tr>\n",
       "      <td>89925</td>\n",
       "      <td>99477</td>\n",
       "      <td>Secondary school (e.g. American high school, G...</td>\n",
       "      <td>Secondary school (e.g. American high school, G...</td>\n",
       "      <td>Unsure / I don't know</td>\n",
       "      <td>Not employed, and not looking for work</td>\n",
       "      <td>Yes, and publicly</td>\n",
       "      <td>0.0</td>\n",
       "    </tr>\n",
       "    <tr>\n",
       "      <td>89929</td>\n",
       "      <td>99654</td>\n",
       "      <td>Master’s degree (MA, MS, M.Eng., MBA, etc.)</td>\n",
       "      <td>Some college/university study without earning ...</td>\n",
       "      <td>Yes</td>\n",
       "      <td>Not employed, and not looking for work</td>\n",
       "      <td>Depends on what it is</td>\n",
       "      <td>0.0</td>\n",
       "    </tr>\n",
       "    <tr>\n",
       "      <td>89932</td>\n",
       "      <td>99868</td>\n",
       "      <td>Master’s degree (MA, MS, M.Eng., MBA, etc.)</td>\n",
       "      <td>Bachelor’s degree (BA, BS, B.Eng., etc.)</td>\n",
       "      <td>Yes</td>\n",
       "      <td>Not employed, but looking for work</td>\n",
       "      <td>Yes, and publicly</td>\n",
       "      <td>97233.0</td>\n",
       "    </tr>\n",
       "    <tr>\n",
       "      <td>89954</td>\n",
       "      <td>100743</td>\n",
       "      <td>Master’s degree (MA, MS, M.Eng., MBA, etc.)</td>\n",
       "      <td>Secondary school (e.g. American high school, G...</td>\n",
       "      <td>Yes</td>\n",
       "      <td>Not employed, and not looking for work</td>\n",
       "      <td>Depends on what it is</td>\n",
       "      <td>10284.0</td>\n",
       "    </tr>\n",
       "    <tr>\n",
       "      <td>89965</td>\n",
       "      <td>101115</td>\n",
       "      <td>Primary/elementary school</td>\n",
       "      <td>Bachelor’s degree (BA, BS, B.Eng., etc.)</td>\n",
       "      <td>No</td>\n",
       "      <td>Not employed, but looking for work</td>\n",
       "      <td>Depends on what it is</td>\n",
       "      <td>0.0</td>\n",
       "    </tr>\n",
       "  </tbody>\n",
       "</table>\n",
       "<p>42451 rows × 7 columns</p>\n",
       "</div>"
      ],
      "text/plain": [
       "       Respondent                                   EducationParents  \\\n",
       "1               3           Bachelor’s degree (BA, BS, B.Eng., etc.)   \n",
       "4               7  Some college/university study without earning ...   \n",
       "5               8  Secondary school (e.g. American high school, G...   \n",
       "6               9        Master’s degree (MA, MS, M.Eng., MBA, etc.)   \n",
       "8              11  Some college/university study without earning ...   \n",
       "...           ...                                                ...   \n",
       "89925       99477  Secondary school (e.g. American high school, G...   \n",
       "89929       99654        Master’s degree (MA, MS, M.Eng., MBA, etc.)   \n",
       "89932       99868        Master’s degree (MA, MS, M.Eng., MBA, etc.)   \n",
       "89954      100743        Master’s degree (MA, MS, M.Eng., MBA, etc.)   \n",
       "89965      101115                          Primary/elementary school   \n",
       "\n",
       "                                         FormalEducation  \\\n",
       "1               Bachelor’s degree (BA, BS, B.Eng., etc.)   \n",
       "4      Some college/university study without earning ...   \n",
       "5               Bachelor’s degree (BA, BS, B.Eng., etc.)   \n",
       "6      Some college/university study without earning ...   \n",
       "8      Some college/university study without earning ...   \n",
       "...                                                  ...   \n",
       "89925  Secondary school (e.g. American high school, G...   \n",
       "89929  Some college/university study without earning ...   \n",
       "89932           Bachelor’s degree (BA, BS, B.Eng., etc.)   \n",
       "89954  Secondary school (e.g. American high school, G...   \n",
       "89965           Bachelor’s degree (BA, BS, B.Eng., etc.)   \n",
       "\n",
       "         EthicalImplications                              Employment  \\\n",
       "1                        Yes                      Employed full-time   \n",
       "4                        Yes                      Employed full-time   \n",
       "5      Unsure / I don't know                      Employed full-time   \n",
       "6                        Yes                      Employed full-time   \n",
       "8                        Yes                      Employed full-time   \n",
       "...                      ...                                     ...   \n",
       "89925  Unsure / I don't know  Not employed, and not looking for work   \n",
       "89929                    Yes  Not employed, and not looking for work   \n",
       "89932                    Yes      Not employed, but looking for work   \n",
       "89954                    Yes  Not employed, and not looking for work   \n",
       "89965                     No      Not employed, but looking for work   \n",
       "\n",
       "                           EthicsReport  ConvertedSalary  \n",
       "1                 Depends on what it is          70841.0  \n",
       "4      Yes, but only within the company          21426.0  \n",
       "5                 Depends on what it is          41671.0  \n",
       "6      Yes, but only within the company         120000.0  \n",
       "8                     Yes, and publicly         250000.0  \n",
       "...                                 ...              ...  \n",
       "89925                 Yes, and publicly              0.0  \n",
       "89929             Depends on what it is              0.0  \n",
       "89932                 Yes, and publicly          97233.0  \n",
       "89954             Depends on what it is          10284.0  \n",
       "89965             Depends on what it is              0.0  \n",
       "\n",
       "[42451 rows x 7 columns]"
      ]
     },
     "execution_count": 12,
     "metadata": {},
     "output_type": "execute_result"
    }
   ],
   "source": [
    "cleaned_survey_results"
   ]
  },
  {
   "cell_type": "markdown",
   "metadata": {},
   "source": [
    "Well that was easy! I wasn't anticipating it to be such an easy command, but go Pandas!"
   ]
  },
  {
   "cell_type": "markdown",
   "metadata": {},
   "source": [
    "# Now, let's quantify the responses of each column\n",
    "Basically, I'll make a dictionary for each column\n",
    "\n",
    "'EducationParents', 'FormalEducation', 'EthicalImplications', 'Employment', 'EthicsReport', 'ConvertedSalary'"
   ]
  },
  {
   "cell_type": "code",
   "execution_count": 13,
   "metadata": {},
   "outputs": [],
   "source": [
    "quantified_survey_results = cleaned_survey_results.copy()"
   ]
  },
  {
   "cell_type": "markdown",
   "metadata": {},
   "source": [
    "## EducationParents"
   ]
  },
  {
   "cell_type": "code",
   "execution_count": 14,
   "metadata": {},
   "outputs": [
    {
     "name": "stdout",
     "output_type": "stream",
     "text": [
      "['Bachelor’s degree (BA, BS, B.Eng., etc.)'\n",
      " 'Some college/university study without earning a degree'\n",
      " 'Secondary school (e.g. American high school, German Realschule or Gymnasium, etc.)'\n",
      " 'Master’s degree (MA, MS, M.Eng., MBA, etc.)' 'Associate degree'\n",
      " 'They never completed any formal education'\n",
      " 'Other doctoral degree (Ph.D, Ed.D., etc.)'\n",
      " 'Professional degree (JD, MD, etc.)' 'Primary/elementary school']\n"
     ]
    }
   ],
   "source": [
    "print(cleaned_survey_results['EducationParents'].unique())"
   ]
  },
  {
   "cell_type": "code",
   "execution_count": 15,
   "metadata": {},
   "outputs": [
    {
     "name": "stdout",
     "output_type": "stream",
     "text": [
      "[5 2 1 6 4 3 7 8 0]\n"
     ]
    }
   ],
   "source": [
    "EducationParents = {'Professional degree (JD, MD, etc.)': 8,\n",
    "                    'Other doctoral degree (Ph.D, Ed.D., etc.)': 7,\n",
    "                    'Master’s degree (MA, MS, M.Eng., MBA, etc.)': 6,\n",
    "                    'Bachelor’s degree (BA, BS, B.Eng., etc.)': 5,\n",
    "                    'Associate degree': 4,\n",
    "                    'They never completed any formal education': 3,\n",
    "                    'I never completed any formal education': 3,\n",
    "                    'Some college/university study without earning a degree': 2,\n",
    "                    'Secondary school (e.g. American high school, German Realschule or Gymnasium, etc.)': 1,\n",
    "                    'Primary/elementary school': 0}\n",
    "quantified_survey_results['EducationParents'] = cleaned_survey_results['EducationParents'].replace(EducationParents)\n",
    "print(quantified_survey_results['EducationParents'].unique())"
   ]
  },
  {
   "cell_type": "markdown",
   "metadata": {},
   "source": [
    "## FormalEducation"
   ]
  },
  {
   "cell_type": "code",
   "execution_count": 16,
   "metadata": {},
   "outputs": [
    {
     "name": "stdout",
     "output_type": "stream",
     "text": [
      "['Bachelor’s degree (BA, BS, B.Eng., etc.)'\n",
      " 'Some college/university study without earning a degree'\n",
      " 'Secondary school (e.g. American high school, German Realschule or Gymnasium, etc.)'\n",
      " 'Master’s degree (MA, MS, M.Eng., MBA, etc.)' 'Associate degree'\n",
      " 'Professional degree (JD, MD, etc.)'\n",
      " 'Other doctoral degree (Ph.D, Ed.D., etc.)' 'Primary/elementary school'\n",
      " 'I never completed any formal education']\n"
     ]
    }
   ],
   "source": [
    "print(cleaned_survey_results['FormalEducation'].unique())"
   ]
  },
  {
   "cell_type": "code",
   "execution_count": 17,
   "metadata": {},
   "outputs": [
    {
     "name": "stdout",
     "output_type": "stream",
     "text": [
      "[5 2 1 6 4 8 7 0 3]\n"
     ]
    }
   ],
   "source": [
    "FormalEducation = EducationParents\n",
    "quantified_survey_results['FormalEducation'] = cleaned_survey_results['FormalEducation'].replace(FormalEducation)\n",
    "print(quantified_survey_results['FormalEducation'].unique())"
   ]
  },
  {
   "cell_type": "markdown",
   "metadata": {},
   "source": [
    "## EthicsImplications"
   ]
  },
  {
   "cell_type": "code",
   "execution_count": 18,
   "metadata": {},
   "outputs": [
    {
     "name": "stdout",
     "output_type": "stream",
     "text": [
      "['Yes' \"Unsure / I don't know\" 'No']\n"
     ]
    }
   ],
   "source": [
    "print(cleaned_survey_results['EthicalImplications'].unique())"
   ]
  },
  {
   "cell_type": "code",
   "execution_count": 19,
   "metadata": {},
   "outputs": [
    {
     "name": "stdout",
     "output_type": "stream",
     "text": [
      "['Employed full-time' 'Employed part-time'\n",
      " 'Independent contractor, freelancer, or self-employed'\n",
      " 'Not employed, and not looking for work'\n",
      " 'Not employed, but looking for work' 'Retired']\n"
     ]
    }
   ],
   "source": [
    "# Note: Will the negative number affect our results too much?\n",
    "\n",
    "EthicalImplications = {'Yes': 1, \n",
    "                        \"Unsure / I don't know\": 0,\n",
    "                      \"No\": -1}\n",
    "\n",
    "quantified_survey_results['EthicalImplications'] = cleaned_survey_results['EthicalImplications'].replace(EthicalImplications)\n",
    "print(quantified_survey_results['Employment'].unique())"
   ]
  },
  {
   "cell_type": "markdown",
   "metadata": {},
   "source": [
    "## Employment"
   ]
  },
  {
   "cell_type": "code",
   "execution_count": 20,
   "metadata": {},
   "outputs": [
    {
     "name": "stdout",
     "output_type": "stream",
     "text": [
      "[5 3 4 1 2 0]\n"
     ]
    }
   ],
   "source": [
    "# Note: This was the hardest one to quantify. Also I think we should ommit 'Retired' but I want to see what you all think\n",
    "\n",
    "Employment = {\"Employed full-time\": 5,\n",
    "                \"Independent contractor, freelancer, or self-employed\": 4,\n",
    "              'Employed part-time': 3,\n",
    "              'Not employed, but looking for work': 2,\n",
    "              'Not employed, and not looking for work': 1,\n",
    "              'Retired':0\n",
    "}\n",
    "\n",
    "quantified_survey_results['Employment'] = cleaned_survey_results['Employment'].replace(Employment)\n",
    "print(quantified_survey_results['Employment'].unique())"
   ]
  },
  {
   "cell_type": "markdown",
   "metadata": {},
   "source": [
    "## EthicsReport"
   ]
  },
  {
   "cell_type": "code",
   "execution_count": 21,
   "metadata": {},
   "outputs": [
    {
     "name": "stdout",
     "output_type": "stream",
     "text": [
      "['Depends on what it is' 'Yes, but only within the company'\n",
      " 'Yes, and publicly' 'No']\n"
     ]
    }
   ],
   "source": [
    "print(cleaned_survey_results['EthicsReport'].unique())"
   ]
  },
  {
   "cell_type": "code",
   "execution_count": 22,
   "metadata": {},
   "outputs": [
    {
     "name": "stdout",
     "output_type": "stream",
     "text": [
      "[1 2 3 0]\n"
     ]
    }
   ],
   "source": [
    "EthicsReport = {'Yes, and publicly': 3,\n",
    "                'Yes, but only within the company': 2,\n",
    "                'Depends on what it is': 1,\n",
    "                'No': 0 \n",
    "}\n",
    "\n",
    "quantified_survey_results['EthicsReport'] = cleaned_survey_results['EthicsReport'].replace(EthicsReport)\n",
    "print(quantified_survey_results['EthicsReport'].unique())"
   ]
  },
  {
   "cell_type": "markdown",
   "metadata": {},
   "source": [
    "## ConvertedSalary"
   ]
  },
  {
   "cell_type": "code",
   "execution_count": 23,
   "metadata": {},
   "outputs": [
    {
     "name": "stdout",
     "output_type": "stream",
     "text": [
      "[ 70841.  21426.  41671. ...  11244.    400. 269076.]\n"
     ]
    }
   ],
   "source": [
    "print(quantified_survey_results['ConvertedSalary'].unique())"
   ]
  },
  {
   "cell_type": "markdown",
   "metadata": {},
   "source": [
    "# Histograms"
   ]
  },
  {
   "cell_type": "code",
   "execution_count": 24,
   "metadata": {},
   "outputs": [],
   "source": [
    "def make_histogram(column_name, num_bins=False):\n",
    "    if not num_bins:\n",
    "        num_bins = len(quantified_survey_results[column_name].unique())\n",
    "    hist = quantified_survey_results[column_name].hist(bins=num_bins, )\n",
    "    hist.set_title(column_name)\n",
    "    return hist"
   ]
  },
  {
   "cell_type": "code",
   "execution_count": 25,
   "metadata": {},
   "outputs": [
    {
     "data": {
      "text/plain": [
       "<matplotlib.axes._subplots.AxesSubplot at 0x117971210>"
      ]
     },
     "execution_count": 25,
     "metadata": {},
     "output_type": "execute_result"
    }
   ],
   "source": [
    "make_histogram('EducationParents')"
   ]
  },
  {
   "cell_type": "code",
   "execution_count": 26,
   "metadata": {},
   "outputs": [
    {
     "data": {
      "text/plain": [
       "<matplotlib.axes._subplots.AxesSubplot at 0x11968e550>"
      ]
     },
     "execution_count": 26,
     "metadata": {},
     "output_type": "execute_result"
    },
    {
     "data": {
      "image/png": "[encoded data removed]",
      "text/plain": [
       "<Figure size 432x288 with 1 Axes>"
      ]
     },
     "metadata": {
      "needs_background": "light"
     },
     "output_type": "display_data"
    }
   ],
   "source": [
    "make_histogram('FormalEducation')"
   ]
  },
  {
   "cell_type": "code",
   "execution_count": 27,
   "metadata": {},
   "outputs": [
    {
     "data": {
      "text/plain": [
       "<matplotlib.axes._subplots.AxesSubplot at 0x119b67e50>"
      ]
     },
     "execution_count": 27,
     "metadata": {},
     "output_type": "execute_result"
    },
    {
     "data": {
      "image/png": "[encoded data removed]",
      "text/plain": [
       "<Figure size 432x288 with 1 Axes>"
      ]
     },
     "metadata": {
      "needs_background": "light"
     },
     "output_type": "display_data"
    }
   ],
   "source": [
    "make_histogram('EthicalImplications')"
   ]
  },
  {
   "cell_type": "code",
   "execution_count": 28,
   "metadata": {},
   "outputs": [
    {
     "data": {
      "text/plain": [
       "<matplotlib.axes._subplots.AxesSubplot at 0x11a0c6d90>"
      ]
     },
     "execution_count": 28,
     "metadata": {},
     "output_type": "execute_result"
    },
    {
     "data": {
      "image/png": "[encoded data removed]",
      "text/plain": [
       "<Figure size 432x288 with 1 Axes>"
      ]
     },
     "metadata": {
      "needs_background": "light"
     },
     "output_type": "display_data"
    }
   ],
   "source": [
    "make_histogram('Employment')"
   ]
  },
  {
   "cell_type": "code",
   "execution_count": 29,
   "metadata": {},
   "outputs": [
    {
     "data": {
      "text/plain": [
       "<matplotlib.axes._subplots.AxesSubplot at 0x11a07bcd0>"
      ]
     },
     "execution_count": 29,
     "metadata": {},
     "output_type": "execute_result"
    },
    {
     "data": {
      "image/png": "[encoded data removed]",
      "text/plain": [
       "<Figure size 432x288 with 1 Axes>"
      ]
     },
     "metadata": {
      "needs_background": "light"
     },
     "output_type": "display_data"
    }
   ],
   "source": [
    "make_histogram('EthicsReport')"
   ]
  },
  {
   "cell_type": "code",
   "execution_count": 30,
   "metadata": {},
   "outputs": [
    {
     "data": {
      "text/plain": [
       "<matplotlib.axes._subplots.AxesSubplot at 0x11a02a550>"
      ]
     },
     "execution_count": 30,
     "metadata": {},
     "output_type": "execute_result"
    },
    {
     "data": {
      "image/png": "[encoded data removed]",
      "text/plain": [
       "<Figure size 432x288 with 1 Axes>"
      ]
     },
     "metadata": {
      "needs_background": "light"
     },
     "output_type": "display_data"
    }
   ],
   "source": [
    "make_histogram('ConvertedSalary', num_bins = 100)"
   ]
  },
  {
   "cell_type": "code",
   "execution_count": 42,
   "metadata": {},
   "outputs": [
    {
     "data": {
      "text/plain": [
       "Respondent                 3.0\n",
       "EducationParents           5.0\n",
       "FormalEducation            5.0\n",
       "EthicalImplications        1.0\n",
       "Employment                 5.0\n",
       "EthicsReport               1.0\n",
       "ConvertedSalary        70841.0\n",
       "Name: 1, dtype: float64"
      ]
     },
     "execution_count": 42,
     "metadata": {},
     "output_type": "execute_result"
    }
   ],
   "source": [
    "#get the results of a specific row\n",
    "quantified_survey_results.iloc[0]"
   ]
  },
  {
   "cell_type": "code",
   "execution_count": null,
   "metadata": {},
   "outputs": [],
   "source": []
  }
 ],
 "metadata": {
  "kernelspec": {
   "display_name": "Python 3",
   "language": "python",
   "name": "python3"
  },
  "language_info": {
   "codemirror_mode": {
    "name": "ipython",
    "version": 3
   },
   "file_extension": ".py",
   "mimetype": "text/x-python",
   "name": "python",
   "nbconvert_exporter": "python",
   "pygments_lexer": "ipython3",
   "version": "3.7.4"
  }
 },
 "nbformat": 4,
 "nbformat_minor": 4
}
