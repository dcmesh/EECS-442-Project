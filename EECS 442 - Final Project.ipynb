{
 "cells": [
  {
   "cell_type": "markdown",
   "metadata": {},
   "source": [
    "The first library we can try is CSV:"
   ]
  },
  {
   "cell_type": "code",
   "execution_count": 2,
   "metadata": {},
   "outputs": [],
   "source": [
    "import csv"
   ]
  },
  {
   "cell_type": "code",
   "execution_count": 16,
   "metadata": {},
   "outputs": [
    {
     "name": "stdout",
     "output_type": "stream",
     "text": [
      "Column names are Respondent, Hobby, OpenSource, Country, Student, Employment, FormalEducation, UndergradMajor, CompanySize, DevType, YearsCoding, YearsCodingProf, JobSatisfaction, CareerSatisfaction, HopeFiveYears, JobSearchStatus, LastNewJob, AssessJob1, AssessJob2, AssessJob3, AssessJob4, AssessJob5, AssessJob6, AssessJob7, AssessJob8, AssessJob9, AssessJob10, AssessBenefits1, AssessBenefits2, AssessBenefits3, AssessBenefits4, AssessBenefits5, AssessBenefits6, AssessBenefits7, AssessBenefits8, AssessBenefits9, AssessBenefits10, AssessBenefits11, JobContactPriorities1, JobContactPriorities2, JobContactPriorities3, JobContactPriorities4, JobContactPriorities5, JobEmailPriorities1, JobEmailPriorities2, JobEmailPriorities3, JobEmailPriorities4, JobEmailPriorities5, JobEmailPriorities6, JobEmailPriorities7, UpdateCV, Currency, Salary, SalaryType, ConvertedSalary, CurrencySymbol, CommunicationTools, TimeFullyProductive, EducationTypes, SelfTaughtTypes, TimeAfterBootcamp, HackathonReasons, AgreeDisagree1, AgreeDisagree2, AgreeDisagree3, LanguageWorkedWith, LanguageDesireNextYear, DatabaseWorkedWith, DatabaseDesireNextYear, PlatformWorkedWith, PlatformDesireNextYear, FrameworkWorkedWith, FrameworkDesireNextYear, IDE, OperatingSystem, NumberMonitors, Methodology, VersionControl, CheckInCode, AdBlocker, AdBlockerDisable, AdBlockerReasons, AdsAgreeDisagree1, AdsAgreeDisagree2, AdsAgreeDisagree3, AdsActions, AdsPriorities1, AdsPriorities2, AdsPriorities3, AdsPriorities4, AdsPriorities5, AdsPriorities6, AdsPriorities7, AIDangerous, AIInteresting, AIResponsible, AIFuture, EthicsChoice, EthicsReport, EthicsResponsible, EthicalImplications, StackOverflowRecommend, StackOverflowVisit, StackOverflowHasAccount, StackOverflowParticipate, StackOverflowJobs, StackOverflowDevStory, StackOverflowJobsRecommend, StackOverflowConsiderMember, HypotheticalTools1, HypotheticalTools2, HypotheticalTools3, HypotheticalTools4, HypotheticalTools5, WakeTime, HoursComputer, HoursOutside, SkipMeals, ErgonomicDevices, Exercise, Gender, SexualOrientation, EducationParents, RaceEthnicity, Age, Dependents, MilitaryUS, SurveyTooLong, SurveyEasy\n",
      "Processed 98856 lines.\n"
     ]
    }
   ],
   "source": [
    "with open('survey_results_public.csv', newline='', encoding=\"utf8\") as csv_file:\n",
    "    csv_reader = csv.reader(csv_file, delimiter=',')\n",
    "    line_count = 0\n",
    "    for row in csv_reader:\n",
    "        if line_count == 0:\n",
    "            print(f'Column names are {\", \".join(row)}')\n",
    "            line_count+= 1\n",
    "        else:\n",
    "            line_count += 1\n",
    "    print(f'Processed {line_count} lines.')"
   ]
  },
  {
   "cell_type": "markdown",
   "metadata": {},
   "source": [
    "It's pretty useful but doesn't provide easy manipulation of columns. Next, let us take a look at pandas dataframes:"
   ]
  },
  {
   "cell_type": "code",
   "execution_count": 20,
   "metadata": {},
   "outputs": [],
   "source": [
    "import pandas as pd"
   ]
  },
  {
   "cell_type": "markdown",
   "metadata": {},
   "source": [
    "Save the csv into a variable dataframe:"
   ]
  },
  {
   "cell_type": "code",
   "execution_count": 19,
   "metadata": {},
   "outputs": [],
   "source": [
    "df=pd.read_csv(\"survey_results_public.csv\", encoding =\"utf8\", low_memory=False)"
   ]
  },
  {
   "cell_type": "markdown",
   "metadata": {},
   "source": [
    "Now we can query the dataframe by column numbers"
   ]
  },
  {
   "cell_type": "code",
   "execution_count": 24,
   "metadata": {},
   "outputs": [
    {
     "data": {
      "text/plain": [
       "0        Yes\n",
       "1        Yes\n",
       "2        Yes\n",
       "3         No\n",
       "4        Yes\n",
       "        ... \n",
       "98850    Yes\n",
       "98851     No\n",
       "98852    Yes\n",
       "98853    Yes\n",
       "98854    Yes\n",
       "Name: Hobby, Length: 98855, dtype: object"
      ]
     },
     "execution_count": 24,
     "metadata": {},
     "output_type": "execute_result"
    }
   ],
   "source": [
    "df[df.columns[1]]"
   ]
  },
  {
   "cell_type": "markdown",
   "metadata": {},
   "source": [
    "Or we can utilize names:"
   ]
  },
  {
   "cell_type": "code",
   "execution_count": 15,
   "metadata": {},
   "outputs": [
    {
     "data": {
      "text/plain": [
       "0                    No\n",
       "1                    No\n",
       "2                    No\n",
       "3                    No\n",
       "4        Yes, part-time\n",
       "              ...      \n",
       "98850               NaN\n",
       "98851    Yes, full-time\n",
       "98852    Yes, full-time\n",
       "98853                No\n",
       "98854               NaN\n",
       "Name: Student, Length: 98855, dtype: object"
      ]
     },
     "execution_count": 15,
     "metadata": {},
     "output_type": "execute_result"
    }
   ],
   "source": [
    "df[\"Student\"]"
   ]
  },
  {
   "cell_type": "markdown",
   "metadata": {},
   "source": [
    "Now, the data we need is: Parent's Education, Education, Reporting Responsibility, Employment, Reporting Code, and Salary."
   ]
  },
  {
   "cell_type": "code",
   "execution_count": 32,
   "metadata": {},
   "outputs": [],
   "source": [
    "new_df = df[['Respondent','EducationParents', 'FormalEducation', 'EthicalImplications', 'Employment', 'EthicsReport', 'ConvertedSalary']].copy()"
   ]
  },
  {
   "cell_type": "markdown",
   "metadata": {},
   "source": [
    "And we can verify that our dataframe is correct (columns are split into mutiple lines of entries):"
   ]
  },
  {
   "cell_type": "code",
   "execution_count": 33,
   "metadata": {},
   "outputs": [
    {
     "name": "stdout",
     "output_type": "stream",
     "text": [
      "       Respondent                                   EducationParents  \\\n",
      "0               1           Bachelor’s degree (BA, BS, B.Eng., etc.)   \n",
      "1               3           Bachelor’s degree (BA, BS, B.Eng., etc.)   \n",
      "2               4                                                NaN   \n",
      "3               5  Some college/university study without earning ...   \n",
      "4               7  Some college/university study without earning ...   \n",
      "...           ...                                                ...   \n",
      "98850      101513                                                NaN   \n",
      "98851      101531                                                NaN   \n",
      "98852      101541                                                NaN   \n",
      "98853      101544                                                NaN   \n",
      "98854      101548                                                NaN   \n",
      "\n",
      "                                         FormalEducation EthicalImplications  \\\n",
      "0               Bachelor’s degree (BA, BS, B.Eng., etc.)                 Yes   \n",
      "1               Bachelor’s degree (BA, BS, B.Eng., etc.)                 Yes   \n",
      "2                                       Associate degree                 NaN   \n",
      "3               Bachelor’s degree (BA, BS, B.Eng., etc.)                 Yes   \n",
      "4      Some college/university study without earning ...                 Yes   \n",
      "...                                                  ...                 ...   \n",
      "98850                                                NaN                 NaN   \n",
      "98851                                                NaN                 NaN   \n",
      "98852           Bachelor’s degree (BA, BS, B.Eng., etc.)                 NaN   \n",
      "98853  Some college/university study without earning ...                 NaN   \n",
      "98854                                                NaN                 NaN   \n",
      "\n",
      "                                              Employment  \\\n",
      "0                                     Employed part-time   \n",
      "1                                     Employed full-time   \n",
      "2                                     Employed full-time   \n",
      "3                                     Employed full-time   \n",
      "4                                     Employed full-time   \n",
      "...                                                  ...   \n",
      "98850                                                NaN   \n",
      "98851                 Not employed, but looking for work   \n",
      "98852                                 Employed full-time   \n",
      "98853  Independent contractor, freelancer, or self-em...   \n",
      "98854                                                NaN   \n",
      "\n",
      "                           EthicsReport  ConvertedSalary  \n",
      "0                     Yes, and publicly              NaN  \n",
      "1                 Depends on what it is          70841.0  \n",
      "2                                   NaN              NaN  \n",
      "3      Yes, but only within the company              NaN  \n",
      "4      Yes, but only within the company          21426.0  \n",
      "...                                 ...              ...  \n",
      "98850                               NaN              NaN  \n",
      "98851                               NaN              NaN  \n",
      "98852                               NaN              NaN  \n",
      "98853                               NaN              NaN  \n",
      "98854                               NaN              NaN  \n",
      "\n",
      "[98855 rows x 7 columns]\n"
     ]
    }
   ],
   "source": [
    "print(new_df)"
   ]
  },
  {
   "cell_type": "markdown",
   "metadata": {},
   "source": [
    "Given this new table, we can now output to another csv which is purely for the columns we're interested in."
   ]
  },
  {
   "cell_type": "code",
   "execution_count": 35,
   "metadata": {},
   "outputs": [],
   "source": [
    "new_df.to_csv('survey_results_public_important.csv', index=False, encoding='utf-8')"
   ]
  },
  {
   "cell_type": "code",
   "execution_count": null,
   "metadata": {},
   "outputs": [],
   "source": []
  }
 ],
 "metadata": {
  "kernelspec": {
   "display_name": "Python 3",
   "language": "python",
   "name": "python3"
  },
  "language_info": {
   "codemirror_mode": {
    "name": "ipython",
    "version": 3
   },
   "file_extension": ".py",
   "mimetype": "text/x-python",
   "name": "python",
   "nbconvert_exporter": "python",
   "pygments_lexer": "ipython3",
   "version": "3.7.4"
  }
 },
 "nbformat": 4,
 "nbformat_minor": 4
}
